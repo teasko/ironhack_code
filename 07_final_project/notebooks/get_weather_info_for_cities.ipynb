{
 "cells": [
  {
   "cell_type": "markdown",
   "metadata": {},
   "source": [
    "## Checking weather for each city"
   ]
  },
  {
   "cell_type": "code",
   "execution_count": 1,
   "metadata": {},
   "outputs": [],
   "source": [
    "import pandas as pd\n",
    "import requests\n",
    "import pickle"
   ]
  },
  {
   "cell_type": "code",
   "execution_count": 2,
   "metadata": {},
   "outputs": [],
   "source": [
    "cities = ['Hamburg',\n",
    "          'Berlin',\n",
    "          'München',\n",
    "          'Dresden',\n",
    "          'Köln, Deutschland',\n",
    "          'Frankfurt am Main',\n",
    "          'Stuttgart',\n",
    "          'Nürnberg',\n",
    "          'Leipzig',\n",
    "          'Münster',\n",
    "          'Duisburg']"
   ]
  },
  {
   "cell_type": "code",
   "execution_count": 3,
   "metadata": {},
   "outputs": [],
   "source": [
    "city_weather = {}\n",
    "test = {}"
   ]
  },
  {
   "cell_type": "code",
   "execution_count": 4,
   "metadata": {},
   "outputs": [],
   "source": [
    "base_url = \"http://api.worldweatheronline.com/premium/v1/past-weather.ashx?key=5d8e85426be3410aa43160758202702&format=json\"\n",
    "date1819 = \"&date=2019-01-01\"\n",
    "date1920 = \"&date=2020-01-01\""
   ]
  },
  {
   "cell_type": "code",
   "execution_count": 5,
   "metadata": {},
   "outputs": [],
   "source": [
    "for city in cities:\n",
    "    city_url = f\"&q={city}\"\n",
    "    weather1819 = requests.get(base_url+city_url+date1819).json()['data']['weather'][0][\"hourly\"][0]\n",
    "    weather1920 = requests.get(base_url+city_url+date1920).json()['data']['weather'][0][\"hourly\"][0]   \n",
    "    city_weather[city] = {\"precipMM\": [weather1819[\"precipMM\"],weather1920[\"precipMM\"]],\n",
    "                          \"humidity\": [weather1819[\"humidity\"],weather1920[\"humidity\"]],\n",
    "                          \"tempC\": [weather1819[\"tempC\"],weather1920[\"tempC\"]],\n",
    "                          \"windspeedKmph\": [weather1819[\"windspeedKmph\"],weather1920[\"windspeedKmph\"]],\n",
    "                          \"winddirDegree\": [weather1819[\"winddirDegree\"],weather1920[\"winddirDegree\"]],\n",
    "                          \"pressure\": [weather1819[\"pressure\"],weather1920[\"pressure\"]]}\n",
    "    test[city] = requests.get(base_url+city_url+date1819).json()['data']\n",
    "    "
   ]
  },
  {
   "cell_type": "code",
   "execution_count": 6,
   "metadata": {},
   "outputs": [],
   "source": [
    "city_weather = pd.DataFrame(city_weather).rename(columns = {\"Köln, Deutschland\":\"Köln\",\n",
    "                                                            \"Frankfurt am Main\": \"Frankfurt\"})"
   ]
  },
  {
   "cell_type": "code",
   "execution_count": 7,
   "metadata": {},
   "outputs": [],
   "source": [
    "with open(\"../data/cities_weather_newyears.pkl\",\"wb\") as file:\n",
    "    pickle.dump(city_weather,file,protocol=pickle.HIGHEST_PROTOCOL)"
   ]
  },
  {
   "cell_type": "code",
   "execution_count": null,
   "metadata": {},
   "outputs": [],
   "source": []
  },
  {
   "cell_type": "code",
   "execution_count": null,
   "metadata": {},
   "outputs": [],
   "source": []
  },
  {
   "cell_type": "code",
   "execution_count": null,
   "metadata": {},
   "outputs": [],
   "source": []
  }
 ],
 "metadata": {
  "kernelspec": {
   "display_name": "Python 3",
   "language": "python",
   "name": "python3"
  },
  "language_info": {
   "codemirror_mode": {
    "name": "ipython",
    "version": 3
   },
   "file_extension": ".py",
   "mimetype": "text/x-python",
   "name": "python",
   "nbconvert_exporter": "python",
   "pygments_lexer": "ipython3",
   "version": "3.7.5"
  }
 },
 "nbformat": 4,
 "nbformat_minor": 2
}
