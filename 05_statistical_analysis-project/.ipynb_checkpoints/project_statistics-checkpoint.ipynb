{
 "cells": [
  {
   "cell_type": "markdown",
   "metadata": {},
   "source": [
    "# Statistical analysis project"
   ]
  },
  {
   "cell_type": "code",
   "execution_count": 278,
   "metadata": {},
   "outputs": [],
   "source": [
    "import pandas as pd\n",
    "import numpy as np\n",
    "import statsmodels.api as sm\n",
    "from statsmodels.formula.api import ols\n",
    "import seaborn as sns\n",
    "import matplotlib.pyplot as plt"
   ]
  },
  {
   "cell_type": "code",
   "execution_count": 86,
   "metadata": {},
   "outputs": [],
   "source": [
    "# importing the data\n",
    "df = pd.read_csv(\"train.csv\")"
   ]
  },
  {
   "cell_type": "markdown",
   "metadata": {},
   "source": [
    "## Inspecting and cleaning the data"
   ]
  },
  {
   "cell_type": "code",
   "execution_count": 152,
   "metadata": {},
   "outputs": [
    {
     "data": {
      "text/plain": [
       "(1460, 71)"
      ]
     },
     "execution_count": 152,
     "metadata": {},
     "output_type": "execute_result"
    }
   ],
   "source": [
    "df.head()"
   ]
  },
  {
   "cell_type": "markdown",
   "metadata": {},
   "source": [
    "### renaming columns"
   ]
  },
  {
   "cell_type": "code",
   "execution_count": 88,
   "metadata": {},
   "outputs": [],
   "source": [
    "# setting all column names to lower\n",
    "df.columns = df.columns.str.lower()"
   ]
  },
  {
   "cell_type": "markdown",
   "metadata": {
    "heading_collapsed": true
   },
   "source": [
    "### NaN's"
   ]
  },
  {
   "cell_type": "code",
   "execution_count": 89,
   "metadata": {
    "hidden": true
   },
   "outputs": [
    {
     "data": {
      "text/plain": [
       "lotfrontage      259\n",
       "alley           1369\n",
       "masvnrtype         8\n",
       "masvnrarea         8\n",
       "bsmtqual          37\n",
       "bsmtcond          37\n",
       "bsmtexposure      38\n",
       "bsmtfintype1      37\n",
       "bsmtfintype2      38\n",
       "electrical         1\n",
       "fireplacequ      690\n",
       "garagetype        81\n",
       "garageyrblt       81\n",
       "garagefinish      81\n",
       "garagequal        81\n",
       "garagecond        81\n",
       "poolqc          1453\n",
       "fence           1179\n",
       "miscfeature     1406\n",
       "dtype: int64"
      ]
     },
     "execution_count": 89,
     "metadata": {},
     "output_type": "execute_result"
    }
   ],
   "source": [
    "# find columns with nans\n",
    "df.loc[:,df.isna().sum()>0].isna().sum()"
   ]
  },
  {
   "cell_type": "code",
   "execution_count": 150,
   "metadata": {
    "hidden": true
   },
   "outputs": [],
   "source": [
    "# throw out colums with more than 40% nans\n",
    "cols_40_nan = df.loc[:,df.isna().sum()/len(df)>0.8].columns\n",
    "df.drop(columns = cols_40_nan, inplace = True)"
   ]
  },
  {
   "cell_type": "markdown",
   "metadata": {},
   "source": [
    "### inspecting single columns"
   ]
  },
  {
   "cell_type": "code",
   "execution_count": 91,
   "metadata": {},
   "outputs": [],
   "source": [
    "cat_col_info = pd.DataFrame(index = [\"categories\",\"type\"])"
   ]
  },
  {
   "cell_type": "code",
   "execution_count": 92,
   "metadata": {},
   "outputs": [
    {
     "data": {
      "text/html": [
       "<div>\n",
       "<style scoped>\n",
       "    .dataframe tbody tr th:only-of-type {\n",
       "        vertical-align: middle;\n",
       "    }\n",
       "\n",
       "    .dataframe tbody tr th {\n",
       "        vertical-align: top;\n",
       "    }\n",
       "\n",
       "    .dataframe thead th {\n",
       "        text-align: right;\n",
       "    }\n",
       "</style>\n",
       "<table border=\"1\" class=\"dataframe\">\n",
       "  <thead>\n",
       "    <tr style=\"text-align: right;\">\n",
       "      <th></th>\n",
       "      <th>mssubclass</th>\n",
       "      <th>mszoning</th>\n",
       "      <th>lotfrontage</th>\n",
       "      <th>lotarea</th>\n",
       "      <th>street</th>\n",
       "      <th>lotshape</th>\n",
       "      <th>landcontour</th>\n",
       "      <th>utilities</th>\n",
       "      <th>lotconfig</th>\n",
       "    </tr>\n",
       "  </thead>\n",
       "  <tbody>\n",
       "    <tr>\n",
       "      <th>0</th>\n",
       "      <td>60</td>\n",
       "      <td>RL</td>\n",
       "      <td>65.0</td>\n",
       "      <td>8450</td>\n",
       "      <td>Pave</td>\n",
       "      <td>Reg</td>\n",
       "      <td>Lvl</td>\n",
       "      <td>AllPub</td>\n",
       "      <td>Inside</td>\n",
       "    </tr>\n",
       "    <tr>\n",
       "      <th>1</th>\n",
       "      <td>20</td>\n",
       "      <td>RL</td>\n",
       "      <td>80.0</td>\n",
       "      <td>9600</td>\n",
       "      <td>Pave</td>\n",
       "      <td>Reg</td>\n",
       "      <td>Lvl</td>\n",
       "      <td>AllPub</td>\n",
       "      <td>FR2</td>\n",
       "    </tr>\n",
       "    <tr>\n",
       "      <th>2</th>\n",
       "      <td>60</td>\n",
       "      <td>RL</td>\n",
       "      <td>68.0</td>\n",
       "      <td>11250</td>\n",
       "      <td>Pave</td>\n",
       "      <td>IR1</td>\n",
       "      <td>Lvl</td>\n",
       "      <td>AllPub</td>\n",
       "      <td>Inside</td>\n",
       "    </tr>\n",
       "    <tr>\n",
       "      <th>3</th>\n",
       "      <td>70</td>\n",
       "      <td>RL</td>\n",
       "      <td>60.0</td>\n",
       "      <td>9550</td>\n",
       "      <td>Pave</td>\n",
       "      <td>IR1</td>\n",
       "      <td>Lvl</td>\n",
       "      <td>AllPub</td>\n",
       "      <td>Corner</td>\n",
       "    </tr>\n",
       "    <tr>\n",
       "      <th>4</th>\n",
       "      <td>60</td>\n",
       "      <td>RL</td>\n",
       "      <td>84.0</td>\n",
       "      <td>14260</td>\n",
       "      <td>Pave</td>\n",
       "      <td>IR1</td>\n",
       "      <td>Lvl</td>\n",
       "      <td>AllPub</td>\n",
       "      <td>FR2</td>\n",
       "    </tr>\n",
       "  </tbody>\n",
       "</table>\n",
       "</div>"
      ],
      "text/plain": [
       "   mssubclass mszoning  lotfrontage  lotarea street lotshape landcontour  \\\n",
       "0          60       RL         65.0     8450   Pave      Reg         Lvl   \n",
       "1          20       RL         80.0     9600   Pave      Reg         Lvl   \n",
       "2          60       RL         68.0    11250   Pave      IR1         Lvl   \n",
       "3          70       RL         60.0     9550   Pave      IR1         Lvl   \n",
       "4          60       RL         84.0    14260   Pave      IR1         Lvl   \n",
       "\n",
       "  utilities lotconfig  \n",
       "0    AllPub    Inside  \n",
       "1    AllPub       FR2  \n",
       "2    AllPub    Inside  \n",
       "3    AllPub    Corner  \n",
       "4    AllPub       FR2  "
      ]
     },
     "execution_count": 92,
     "metadata": {},
     "output_type": "execute_result"
    }
   ],
   "source": [
    "df.iloc[:,1:10].head()"
   ]
  },
  {
   "cell_type": "markdown",
   "metadata": {
    "heading_collapsed": true
   },
   "source": [
    "#### mszoning"
   ]
  },
  {
   "cell_type": "code",
   "execution_count": 93,
   "metadata": {
    "hidden": true
   },
   "outputs": [
    {
     "data": {
      "text/plain": [
       "RL         1151\n",
       "RM          218\n",
       "FV           65\n",
       "RH           16\n",
       "C (all)      10\n",
       "Name: mszoning, dtype: int64"
      ]
     },
     "execution_count": 93,
     "metadata": {},
     "output_type": "execute_result"
    }
   ],
   "source": [
    "df[\"mszoning\"].value_counts()"
   ]
  },
  {
   "cell_type": "code",
   "execution_count": 115,
   "metadata": {
    "hidden": true
   },
   "outputs": [],
   "source": [
    "cat_col_info[\"mszoning\"] = [\"cat\",5]"
   ]
  },
  {
   "cell_type": "markdown",
   "metadata": {
    "heading_collapsed": true
   },
   "source": [
    "#### street"
   ]
  },
  {
   "cell_type": "code",
   "execution_count": 95,
   "metadata": {
    "hidden": true
   },
   "outputs": [
    {
     "data": {
      "text/plain": [
       "Pave    1454\n",
       "Grvl       6\n",
       "Name: street, dtype: int64"
      ]
     },
     "execution_count": 95,
     "metadata": {},
     "output_type": "execute_result"
    }
   ],
   "source": [
    "df[\"street\"].value_counts()"
   ]
  },
  {
   "cell_type": "code",
   "execution_count": 96,
   "metadata": {
    "hidden": true
   },
   "outputs": [],
   "source": [
    "## 1454 vs 6 --> no sufficient differentiation for statistical analysis --> drop\n",
    "df.drop(columns =\"street\",inplace = True)"
   ]
  },
  {
   "cell_type": "markdown",
   "metadata": {
    "heading_collapsed": true
   },
   "source": [
    "#### lotshape"
   ]
  },
  {
   "cell_type": "code",
   "execution_count": 97,
   "metadata": {
    "hidden": true
   },
   "outputs": [
    {
     "data": {
      "text/plain": [
       "Reg    925\n",
       "IR1    484\n",
       "IR2     41\n",
       "IR3     10\n",
       "Name: lotshape, dtype: int64"
      ]
     },
     "execution_count": 97,
     "metadata": {},
     "output_type": "execute_result"
    }
   ],
   "source": [
    "df[\"lotshape\"].value_counts()"
   ]
  },
  {
   "cell_type": "code",
   "execution_count": 116,
   "metadata": {
    "hidden": true
   },
   "outputs": [],
   "source": [
    "# combine slighly, medium and fully irregular to irregular\n",
    "df.loc[~df[\"lotshape\"].eq(\"Reg\"),\"lotshape\"] = \"Irr\"\n",
    "\n",
    "cat_col_info[\"lotshape\"] = [\"cat\",2]"
   ]
  },
  {
   "cell_type": "code",
   "execution_count": 99,
   "metadata": {
    "hidden": true
   },
   "outputs": [
    {
     "data": {
      "text/plain": [
       "Reg    925\n",
       "Irr    535\n",
       "Name: lotshape, dtype: int64"
      ]
     },
     "execution_count": 99,
     "metadata": {},
     "output_type": "execute_result"
    }
   ],
   "source": [
    "df[\"lotshape\"].value_counts()"
   ]
  },
  {
   "cell_type": "markdown",
   "metadata": {
    "heading_collapsed": true
   },
   "source": [
    "#### landcontour"
   ]
  },
  {
   "cell_type": "code",
   "execution_count": 100,
   "metadata": {
    "hidden": true
   },
   "outputs": [
    {
     "data": {
      "text/plain": [
       "Lvl    1311\n",
       "Bnk      63\n",
       "HLS      50\n",
       "Low      36\n",
       "Name: landcontour, dtype: int64"
      ]
     },
     "execution_count": 100,
     "metadata": {},
     "output_type": "execute_result"
    }
   ],
   "source": [
    "df[\"landcontour\"].value_counts()"
   ]
  },
  {
   "cell_type": "code",
   "execution_count": 117,
   "metadata": {
    "hidden": true
   },
   "outputs": [],
   "source": [
    "# make to flat level or not\n",
    "df.loc[~df[\"landcontour\"].eq(\"Lvl\"),\"landcontour\"] = \"notLvl\"\n",
    "cat_col_info[\"landcontour\"] = [\"cat\",2]"
   ]
  },
  {
   "cell_type": "markdown",
   "metadata": {
    "heading_collapsed": true
   },
   "source": [
    "#### utilities"
   ]
  },
  {
   "cell_type": "code",
   "execution_count": 102,
   "metadata": {
    "hidden": true
   },
   "outputs": [
    {
     "data": {
      "text/plain": [
       "AllPub    1459\n",
       "NoSeWa       1\n",
       "Name: utilities, dtype: int64"
      ]
     },
     "execution_count": 102,
     "metadata": {},
     "output_type": "execute_result"
    }
   ],
   "source": [
    "df[\"utilities\"].value_counts()"
   ]
  },
  {
   "cell_type": "code",
   "execution_count": 103,
   "metadata": {
    "hidden": true
   },
   "outputs": [],
   "source": [
    "# no real info here. drop column\n",
    "df.drop(columns = \"utilities\",inplace=True)"
   ]
  },
  {
   "cell_type": "markdown",
   "metadata": {
    "heading_collapsed": true
   },
   "source": [
    "#### lotconfig"
   ]
  },
  {
   "cell_type": "code",
   "execution_count": 104,
   "metadata": {
    "hidden": true
   },
   "outputs": [
    {
     "data": {
      "text/plain": [
       "Inside     1052\n",
       "Corner      263\n",
       "CulDSac      94\n",
       "FR2          47\n",
       "FR3           4\n",
       "Name: lotconfig, dtype: int64"
      ]
     },
     "execution_count": 104,
     "metadata": {},
     "output_type": "execute_result"
    }
   ],
   "source": [
    "df[\"lotconfig\"].value_counts()"
   ]
  },
  {
   "cell_type": "code",
   "execution_count": 118,
   "metadata": {
    "hidden": true
   },
   "outputs": [],
   "source": [
    "# combine log on two and three sides\n",
    "df.loc[df[\"lotconfig\"].eq(\"FR2\") | df[\"lotconfig\"].eq(\"FR3\"),\"lotconfig\"] = \"FR\"\n",
    "cat_col_info[\"lotconfig\"] = [\"cat\",4]"
   ]
  },
  {
   "cell_type": "code",
   "execution_count": 106,
   "metadata": {
    "hidden": true
   },
   "outputs": [
    {
     "data": {
      "text/html": [
       "<div>\n",
       "<style scoped>\n",
       "    .dataframe tbody tr th:only-of-type {\n",
       "        vertical-align: middle;\n",
       "    }\n",
       "\n",
       "    .dataframe tbody tr th {\n",
       "        vertical-align: top;\n",
       "    }\n",
       "\n",
       "    .dataframe thead th {\n",
       "        text-align: right;\n",
       "    }\n",
       "</style>\n",
       "<table border=\"1\" class=\"dataframe\">\n",
       "  <thead>\n",
       "    <tr style=\"text-align: right;\">\n",
       "      <th></th>\n",
       "      <th>mszoning</th>\n",
       "      <th>lotshape</th>\n",
       "      <th>landcontour</th>\n",
       "      <th>lotconfig</th>\n",
       "    </tr>\n",
       "  </thead>\n",
       "  <tbody>\n",
       "    <tr>\n",
       "      <th>categories</th>\n",
       "      <td>5</td>\n",
       "      <td>2</td>\n",
       "      <td>2</td>\n",
       "      <td>4</td>\n",
       "    </tr>\n",
       "    <tr>\n",
       "      <th>type</th>\n",
       "      <td>5</td>\n",
       "      <td>2</td>\n",
       "      <td>2</td>\n",
       "      <td>4</td>\n",
       "    </tr>\n",
       "  </tbody>\n",
       "</table>\n",
       "</div>"
      ],
      "text/plain": [
       "            mszoning  lotshape  landcontour  lotconfig\n",
       "categories         5         2            2          4\n",
       "type               5         2            2          4"
      ]
     },
     "execution_count": 106,
     "metadata": {},
     "output_type": "execute_result"
    }
   ],
   "source": [
    "cat_col_info"
   ]
  },
  {
   "cell_type": "markdown",
   "metadata": {
    "heading_collapsed": true
   },
   "source": [
    "#### landslope"
   ]
  },
  {
   "cell_type": "code",
   "execution_count": null,
   "metadata": {
    "hidden": true
   },
   "outputs": [],
   "source": []
  },
  {
   "cell_type": "code",
   "execution_count": 108,
   "metadata": {
    "hidden": true
   },
   "outputs": [
    {
     "data": {
      "text/plain": [
       "Gtl    1382\n",
       "Mod      65\n",
       "Sev      13\n",
       "Name: landslope, dtype: int64"
      ]
     },
     "execution_count": 108,
     "metadata": {},
     "output_type": "execute_result"
    }
   ],
   "source": [
    "df[\"landslope\"].value_counts()"
   ]
  },
  {
   "cell_type": "code",
   "execution_count": 119,
   "metadata": {
    "hidden": true
   },
   "outputs": [],
   "source": [
    "cat_col_info[\"landslope\"] = [\"cat\",3]"
   ]
  },
  {
   "cell_type": "markdown",
   "metadata": {
    "heading_collapsed": true
   },
   "source": [
    "####  \tneighborhood"
   ]
  },
  {
   "cell_type": "code",
   "execution_count": 120,
   "metadata": {
    "hidden": true
   },
   "outputs": [],
   "source": [
    "len(df[\"neighborhood\"].value_counts())\n",
    "cat_col_info[\"neighborhood\"] = [\"location\",25]"
   ]
  },
  {
   "cell_type": "markdown",
   "metadata": {
    "heading_collapsed": true
   },
   "source": [
    "#### conditions 1 and 2"
   ]
  },
  {
   "cell_type": "code",
   "execution_count": 122,
   "metadata": {
    "hidden": true
   },
   "outputs": [],
   "source": [
    "# since we already have several info on location in neighborhood column, we drop those two\n",
    "df.drop(columns = [\"condition1\",\"condition2\"],inplace=True)"
   ]
  },
  {
   "cell_type": "markdown",
   "metadata": {
    "heading_collapsed": true
   },
   "source": [
    "#### bldgtype"
   ]
  },
  {
   "cell_type": "code",
   "execution_count": 123,
   "metadata": {
    "hidden": true
   },
   "outputs": [
    {
     "data": {
      "text/plain": [
       "1Fam      1220\n",
       "TwnhsE     114\n",
       "Duplex      52\n",
       "Twnhs       43\n",
       "2fmCon      31\n",
       "Name: bldgtype, dtype: int64"
      ]
     },
     "execution_count": 123,
     "metadata": {},
     "output_type": "execute_result"
    }
   ],
   "source": [
    "df[\"bldgtype\"].value_counts()"
   ]
  },
  {
   "cell_type": "code",
   "execution_count": 124,
   "metadata": {
    "hidden": true
   },
   "outputs": [],
   "source": [
    "cat_col_info[\"bldgtype\"] = [\"cat\",5]"
   ]
  },
  {
   "cell_type": "markdown",
   "metadata": {
    "heading_collapsed": true
   },
   "source": [
    "####  \thousestyle"
   ]
  },
  {
   "cell_type": "code",
   "execution_count": 125,
   "metadata": {
    "hidden": true
   },
   "outputs": [
    {
     "data": {
      "text/plain": [
       "1Story    726\n",
       "2Story    445\n",
       "1.5Fin    154\n",
       "SLvl       65\n",
       "SFoyer     37\n",
       "1.5Unf     14\n",
       "2.5Unf     11\n",
       "2.5Fin      8\n",
       "Name: housestyle, dtype: int64"
      ]
     },
     "execution_count": 125,
     "metadata": {},
     "output_type": "execute_result"
    }
   ],
   "source": [
    "df[\"housestyle\"].value_counts()"
   ]
  },
  {
   "cell_type": "code",
   "execution_count": 127,
   "metadata": {
    "hidden": true
   },
   "outputs": [
    {
     "data": {
      "text/html": [
       "<div>\n",
       "<style scoped>\n",
       "    .dataframe tbody tr th:only-of-type {\n",
       "        vertical-align: middle;\n",
       "    }\n",
       "\n",
       "    .dataframe tbody tr th {\n",
       "        vertical-align: top;\n",
       "    }\n",
       "\n",
       "    .dataframe thead th {\n",
       "        text-align: right;\n",
       "    }\n",
       "</style>\n",
       "<table border=\"1\" class=\"dataframe\">\n",
       "  <thead>\n",
       "    <tr style=\"text-align: right;\">\n",
       "      <th></th>\n",
       "      <th>saleprice</th>\n",
       "    </tr>\n",
       "    <tr>\n",
       "      <th>housestyle</th>\n",
       "      <th></th>\n",
       "    </tr>\n",
       "  </thead>\n",
       "  <tbody>\n",
       "    <tr>\n",
       "      <th>1.5Fin</th>\n",
       "      <td>132000</td>\n",
       "    </tr>\n",
       "    <tr>\n",
       "      <th>1.5Unf</th>\n",
       "      <td>111250</td>\n",
       "    </tr>\n",
       "    <tr>\n",
       "      <th>1Story</th>\n",
       "      <td>154750</td>\n",
       "    </tr>\n",
       "    <tr>\n",
       "      <th>2.5Fin</th>\n",
       "      <td>194000</td>\n",
       "    </tr>\n",
       "    <tr>\n",
       "      <th>2.5Unf</th>\n",
       "      <td>133900</td>\n",
       "    </tr>\n",
       "    <tr>\n",
       "      <th>2Story</th>\n",
       "      <td>190000</td>\n",
       "    </tr>\n",
       "    <tr>\n",
       "      <th>SFoyer</th>\n",
       "      <td>135960</td>\n",
       "    </tr>\n",
       "    <tr>\n",
       "      <th>SLvl</th>\n",
       "      <td>164500</td>\n",
       "    </tr>\n",
       "  </tbody>\n",
       "</table>\n",
       "</div>"
      ],
      "text/plain": [
       "            saleprice\n",
       "housestyle           \n",
       "1.5Fin         132000\n",
       "1.5Unf         111250\n",
       "1Story         154750\n",
       "2.5Fin         194000\n",
       "2.5Unf         133900\n",
       "2Story         190000\n",
       "SFoyer         135960\n",
       "SLvl           164500"
      ]
     },
     "execution_count": 127,
     "metadata": {},
     "output_type": "execute_result"
    }
   ],
   "source": [
    "df[[\"housestyle\",\"saleprice\"]].groupby(by = \"housestyle\").median()"
   ]
  },
  {
   "cell_type": "code",
   "execution_count": 128,
   "metadata": {
    "hidden": true
   },
   "outputs": [],
   "source": [
    "cat_col_info[\"housestyle\"] = [\"cat\",7]"
   ]
  },
  {
   "cell_type": "markdown",
   "metadata": {
    "heading_collapsed": true
   },
   "source": [
    "#### roofstyle and material"
   ]
  },
  {
   "cell_type": "code",
   "execution_count": 129,
   "metadata": {
    "hidden": true
   },
   "outputs": [
    {
     "data": {
      "text/plain": [
       "Gable      1141\n",
       "Hip         286\n",
       "Flat         13\n",
       "Gambrel      11\n",
       "Mansard       7\n",
       "Shed          2\n",
       "Name: roofstyle, dtype: int64"
      ]
     },
     "execution_count": 129,
     "metadata": {},
     "output_type": "execute_result"
    }
   ],
   "source": [
    "df.roofstyle.value_counts()\n",
    "cat_col_info[\"roofstyle\"] = [\"cat\",6]"
   ]
  },
  {
   "cell_type": "code",
   "execution_count": 140,
   "metadata": {
    "hidden": true
   },
   "outputs": [],
   "source": [
    "df.roofmatl.value_counts()\n",
    "# almost all the same, we drop due to low variance\n",
    "df.drop(columns = \"roofmatl\", inplace = True)"
   ]
  },
  {
   "cell_type": "markdown",
   "metadata": {},
   "source": [
    "#### years"
   ]
  },
  {
   "cell_type": "code",
   "execution_count": 137,
   "metadata": {},
   "outputs": [],
   "source": [
    "# we just keep the remodeled year. if not remodeled, it is the same as build year\n",
    "df.drop(columns = \"yearbuilt\",inplace=True)\n",
    "df.rename(columns = {\"yearremodadd\": \"year\"},inplace = True)"
   ]
  },
  {
   "cell_type": "code",
   "execution_count": 141,
   "metadata": {},
   "outputs": [
    {
     "data": {
      "text/html": [
       "<div>\n",
       "<style scoped>\n",
       "    .dataframe tbody tr th:only-of-type {\n",
       "        vertical-align: middle;\n",
       "    }\n",
       "\n",
       "    .dataframe tbody tr th {\n",
       "        vertical-align: top;\n",
       "    }\n",
       "\n",
       "    .dataframe thead th {\n",
       "        text-align: right;\n",
       "    }\n",
       "</style>\n",
       "<table border=\"1\" class=\"dataframe\">\n",
       "  <thead>\n",
       "    <tr style=\"text-align: right;\">\n",
       "      <th></th>\n",
       "      <th>landslope</th>\n",
       "      <th>neighborhood</th>\n",
       "      <th>bldgtype</th>\n",
       "      <th>housestyle</th>\n",
       "      <th>overallqual</th>\n",
       "      <th>overallcond</th>\n",
       "      <th>year</th>\n",
       "      <th>roofstyle</th>\n",
       "      <th>exterior1st</th>\n",
       "      <th>exterior2nd</th>\n",
       "      <th>masvnrtype</th>\n",
       "      <th>masvnrarea</th>\n",
       "    </tr>\n",
       "  </thead>\n",
       "  <tbody>\n",
       "    <tr>\n",
       "      <th>0</th>\n",
       "      <td>Gtl</td>\n",
       "      <td>CollgCr</td>\n",
       "      <td>1Fam</td>\n",
       "      <td>2Story</td>\n",
       "      <td>7</td>\n",
       "      <td>5</td>\n",
       "      <td>2003</td>\n",
       "      <td>Gable</td>\n",
       "      <td>VinylSd</td>\n",
       "      <td>VinylSd</td>\n",
       "      <td>BrkFace</td>\n",
       "      <td>196.0</td>\n",
       "    </tr>\n",
       "    <tr>\n",
       "      <th>1</th>\n",
       "      <td>Gtl</td>\n",
       "      <td>Veenker</td>\n",
       "      <td>1Fam</td>\n",
       "      <td>1Story</td>\n",
       "      <td>6</td>\n",
       "      <td>8</td>\n",
       "      <td>1976</td>\n",
       "      <td>Gable</td>\n",
       "      <td>MetalSd</td>\n",
       "      <td>MetalSd</td>\n",
       "      <td>None</td>\n",
       "      <td>0.0</td>\n",
       "    </tr>\n",
       "    <tr>\n",
       "      <th>2</th>\n",
       "      <td>Gtl</td>\n",
       "      <td>CollgCr</td>\n",
       "      <td>1Fam</td>\n",
       "      <td>2Story</td>\n",
       "      <td>7</td>\n",
       "      <td>5</td>\n",
       "      <td>2002</td>\n",
       "      <td>Gable</td>\n",
       "      <td>VinylSd</td>\n",
       "      <td>VinylSd</td>\n",
       "      <td>BrkFace</td>\n",
       "      <td>162.0</td>\n",
       "    </tr>\n",
       "    <tr>\n",
       "      <th>3</th>\n",
       "      <td>Gtl</td>\n",
       "      <td>Crawfor</td>\n",
       "      <td>1Fam</td>\n",
       "      <td>2Story</td>\n",
       "      <td>7</td>\n",
       "      <td>5</td>\n",
       "      <td>1970</td>\n",
       "      <td>Gable</td>\n",
       "      <td>Wd Sdng</td>\n",
       "      <td>Wd Shng</td>\n",
       "      <td>None</td>\n",
       "      <td>0.0</td>\n",
       "    </tr>\n",
       "    <tr>\n",
       "      <th>4</th>\n",
       "      <td>Gtl</td>\n",
       "      <td>NoRidge</td>\n",
       "      <td>1Fam</td>\n",
       "      <td>2Story</td>\n",
       "      <td>8</td>\n",
       "      <td>5</td>\n",
       "      <td>2000</td>\n",
       "      <td>Gable</td>\n",
       "      <td>VinylSd</td>\n",
       "      <td>VinylSd</td>\n",
       "      <td>BrkFace</td>\n",
       "      <td>350.0</td>\n",
       "    </tr>\n",
       "  </tbody>\n",
       "</table>\n",
       "</div>"
      ],
      "text/plain": [
       "  landslope neighborhood bldgtype housestyle  overallqual  overallcond  year  \\\n",
       "0       Gtl      CollgCr     1Fam     2Story            7            5  2003   \n",
       "1       Gtl      Veenker     1Fam     1Story            6            8  1976   \n",
       "2       Gtl      CollgCr     1Fam     2Story            7            5  2002   \n",
       "3       Gtl      Crawfor     1Fam     2Story            7            5  1970   \n",
       "4       Gtl      NoRidge     1Fam     2Story            8            5  2000   \n",
       "\n",
       "  roofstyle exterior1st exterior2nd masvnrtype  masvnrarea  \n",
       "0     Gable     VinylSd     VinylSd    BrkFace       196.0  \n",
       "1     Gable     MetalSd     MetalSd       None         0.0  \n",
       "2     Gable     VinylSd     VinylSd    BrkFace       162.0  \n",
       "3     Gable     Wd Sdng     Wd Shng       None         0.0  \n",
       "4     Gable     VinylSd     VinylSd    BrkFace       350.0  "
      ]
     },
     "execution_count": 141,
     "metadata": {},
     "output_type": "execute_result"
    }
   ],
   "source": []
  },
  {
   "cell_type": "code",
   "execution_count": 146,
   "metadata": {},
   "outputs": [
    {
     "data": {
      "text/html": [
       "<div>\n",
       "<style scoped>\n",
       "    .dataframe tbody tr th:only-of-type {\n",
       "        vertical-align: middle;\n",
       "    }\n",
       "\n",
       "    .dataframe tbody tr th {\n",
       "        vertical-align: top;\n",
       "    }\n",
       "\n",
       "    .dataframe thead th {\n",
       "        text-align: right;\n",
       "    }\n",
       "</style>\n",
       "<table border=\"1\" class=\"dataframe\">\n",
       "  <thead>\n",
       "    <tr style=\"text-align: right;\">\n",
       "      <th></th>\n",
       "      <th>exterior1st</th>\n",
       "      <th>exterior2nd</th>\n",
       "      <th>masvnrtype</th>\n",
       "      <th>masvnrarea</th>\n",
       "      <th>exterqual</th>\n",
       "      <th>extercond</th>\n",
       "      <th>foundation</th>\n",
       "      <th>bsmtqual</th>\n",
       "      <th>bsmtcond</th>\n",
       "      <th>bsmtexposure</th>\n",
       "      <th>bsmtfintype1</th>\n",
       "      <th>bsmtfinsf1</th>\n",
       "      <th>bsmtfintype2</th>\n",
       "      <th>bsmtfinsf2</th>\n",
       "    </tr>\n",
       "  </thead>\n",
       "  <tbody>\n",
       "    <tr>\n",
       "      <th>0</th>\n",
       "      <td>VinylSd</td>\n",
       "      <td>VinylSd</td>\n",
       "      <td>BrkFace</td>\n",
       "      <td>196.0</td>\n",
       "      <td>Gd</td>\n",
       "      <td>TA</td>\n",
       "      <td>PConc</td>\n",
       "      <td>Gd</td>\n",
       "      <td>TA</td>\n",
       "      <td>No</td>\n",
       "      <td>GLQ</td>\n",
       "      <td>706</td>\n",
       "      <td>Unf</td>\n",
       "      <td>0</td>\n",
       "    </tr>\n",
       "    <tr>\n",
       "      <th>1</th>\n",
       "      <td>MetalSd</td>\n",
       "      <td>MetalSd</td>\n",
       "      <td>None</td>\n",
       "      <td>0.0</td>\n",
       "      <td>TA</td>\n",
       "      <td>TA</td>\n",
       "      <td>CBlock</td>\n",
       "      <td>Gd</td>\n",
       "      <td>TA</td>\n",
       "      <td>Gd</td>\n",
       "      <td>ALQ</td>\n",
       "      <td>978</td>\n",
       "      <td>Unf</td>\n",
       "      <td>0</td>\n",
       "    </tr>\n",
       "    <tr>\n",
       "      <th>2</th>\n",
       "      <td>VinylSd</td>\n",
       "      <td>VinylSd</td>\n",
       "      <td>BrkFace</td>\n",
       "      <td>162.0</td>\n",
       "      <td>Gd</td>\n",
       "      <td>TA</td>\n",
       "      <td>PConc</td>\n",
       "      <td>Gd</td>\n",
       "      <td>TA</td>\n",
       "      <td>Mn</td>\n",
       "      <td>GLQ</td>\n",
       "      <td>486</td>\n",
       "      <td>Unf</td>\n",
       "      <td>0</td>\n",
       "    </tr>\n",
       "    <tr>\n",
       "      <th>3</th>\n",
       "      <td>Wd Sdng</td>\n",
       "      <td>Wd Shng</td>\n",
       "      <td>None</td>\n",
       "      <td>0.0</td>\n",
       "      <td>TA</td>\n",
       "      <td>TA</td>\n",
       "      <td>BrkTil</td>\n",
       "      <td>TA</td>\n",
       "      <td>Gd</td>\n",
       "      <td>No</td>\n",
       "      <td>ALQ</td>\n",
       "      <td>216</td>\n",
       "      <td>Unf</td>\n",
       "      <td>0</td>\n",
       "    </tr>\n",
       "    <tr>\n",
       "      <th>4</th>\n",
       "      <td>VinylSd</td>\n",
       "      <td>VinylSd</td>\n",
       "      <td>BrkFace</td>\n",
       "      <td>350.0</td>\n",
       "      <td>Gd</td>\n",
       "      <td>TA</td>\n",
       "      <td>PConc</td>\n",
       "      <td>Gd</td>\n",
       "      <td>TA</td>\n",
       "      <td>Av</td>\n",
       "      <td>GLQ</td>\n",
       "      <td>655</td>\n",
       "      <td>Unf</td>\n",
       "      <td>0</td>\n",
       "    </tr>\n",
       "  </tbody>\n",
       "</table>\n",
       "</div>"
      ],
      "text/plain": [
       "  exterior1st exterior2nd masvnrtype  masvnrarea exterqual extercond  \\\n",
       "0     VinylSd     VinylSd    BrkFace       196.0        Gd        TA   \n",
       "1     MetalSd     MetalSd       None         0.0        TA        TA   \n",
       "2     VinylSd     VinylSd    BrkFace       162.0        Gd        TA   \n",
       "3     Wd Sdng     Wd Shng       None         0.0        TA        TA   \n",
       "4     VinylSd     VinylSd    BrkFace       350.0        Gd        TA   \n",
       "\n",
       "  foundation bsmtqual bsmtcond bsmtexposure bsmtfintype1  bsmtfinsf1  \\\n",
       "0      PConc       Gd       TA           No          GLQ         706   \n",
       "1     CBlock       Gd       TA           Gd          ALQ         978   \n",
       "2      PConc       Gd       TA           Mn          GLQ         486   \n",
       "3     BrkTil       TA       Gd           No          ALQ         216   \n",
       "4      PConc       Gd       TA           Av          GLQ         655   \n",
       "\n",
       "  bsmtfintype2  bsmtfinsf2  \n",
       "0          Unf           0  \n",
       "1          Unf           0  \n",
       "2          Unf           0  \n",
       "3          Unf           0  \n",
       "4          Unf           0  "
      ]
     },
     "execution_count": 146,
     "metadata": {},
     "output_type": "execute_result"
    }
   ],
   "source": [
    "df.iloc[:,16:30].head()"
   ]
  },
  {
   "cell_type": "markdown",
   "metadata": {},
   "source": [
    "## CHANGE OF APPROACH\n",
    "I am looking through the documenatation of the data to select a number of columns I theorize to be potentially meaningful"
   ]
  },
  {
   "cell_type": "code",
   "execution_count": 233,
   "metadata": {},
   "outputs": [],
   "source": [
    "int_cols = [\"mszoning\",\"neighborhood\",\"overallqual\",\"overallcond\",\"year\",\"yrsold\"]\n",
    "area_cols = [\"totalbsmtsf\",\"grlivarea\",\"garagearea\"]\n",
    "room_cols = [\"bsmtfullbath\",\"bsmthalfbath\",\"fullbath\",\"halfbath\",\"bedroomabvgr\",\"totrmsabvgrd\"]\n",
    "porch_pool_cols = [\"wooddecksf\",\"openporchsf\",\"enclosedporch\",\"3ssnporch\",\"screenporch\",\"poolarea\"]\n"
   ]
  },
  {
   "cell_type": "code",
   "execution_count": 234,
   "metadata": {},
   "outputs": [
    {
     "data": {
      "text/html": [
       "<div>\n",
       "<style scoped>\n",
       "    .dataframe tbody tr th:only-of-type {\n",
       "        vertical-align: middle;\n",
       "    }\n",
       "\n",
       "    .dataframe tbody tr th {\n",
       "        vertical-align: top;\n",
       "    }\n",
       "\n",
       "    .dataframe thead th {\n",
       "        text-align: right;\n",
       "    }\n",
       "</style>\n",
       "<table border=\"1\" class=\"dataframe\">\n",
       "  <thead>\n",
       "    <tr style=\"text-align: right;\">\n",
       "      <th></th>\n",
       "      <th>mszoning</th>\n",
       "      <th>neighborhood</th>\n",
       "      <th>overallqual</th>\n",
       "      <th>overallcond</th>\n",
       "      <th>year</th>\n",
       "      <th>heating</th>\n",
       "      <th>yrsold</th>\n",
       "    </tr>\n",
       "  </thead>\n",
       "  <tbody>\n",
       "    <tr>\n",
       "      <th>0</th>\n",
       "      <td>RL</td>\n",
       "      <td>CollgCr</td>\n",
       "      <td>7</td>\n",
       "      <td>5</td>\n",
       "      <td>2003</td>\n",
       "      <td>GasA</td>\n",
       "      <td>2008</td>\n",
       "    </tr>\n",
       "    <tr>\n",
       "      <th>1</th>\n",
       "      <td>RL</td>\n",
       "      <td>Veenker</td>\n",
       "      <td>6</td>\n",
       "      <td>8</td>\n",
       "      <td>1976</td>\n",
       "      <td>GasA</td>\n",
       "      <td>2007</td>\n",
       "    </tr>\n",
       "    <tr>\n",
       "      <th>2</th>\n",
       "      <td>RL</td>\n",
       "      <td>CollgCr</td>\n",
       "      <td>7</td>\n",
       "      <td>5</td>\n",
       "      <td>2002</td>\n",
       "      <td>GasA</td>\n",
       "      <td>2008</td>\n",
       "    </tr>\n",
       "    <tr>\n",
       "      <th>3</th>\n",
       "      <td>RL</td>\n",
       "      <td>Crawfor</td>\n",
       "      <td>7</td>\n",
       "      <td>5</td>\n",
       "      <td>1970</td>\n",
       "      <td>GasA</td>\n",
       "      <td>2006</td>\n",
       "    </tr>\n",
       "    <tr>\n",
       "      <th>4</th>\n",
       "      <td>RL</td>\n",
       "      <td>NoRidge</td>\n",
       "      <td>8</td>\n",
       "      <td>5</td>\n",
       "      <td>2000</td>\n",
       "      <td>GasA</td>\n",
       "      <td>2008</td>\n",
       "    </tr>\n",
       "    <tr>\n",
       "      <th>...</th>\n",
       "      <td>...</td>\n",
       "      <td>...</td>\n",
       "      <td>...</td>\n",
       "      <td>...</td>\n",
       "      <td>...</td>\n",
       "      <td>...</td>\n",
       "      <td>...</td>\n",
       "    </tr>\n",
       "    <tr>\n",
       "      <th>1455</th>\n",
       "      <td>RL</td>\n",
       "      <td>Gilbert</td>\n",
       "      <td>6</td>\n",
       "      <td>5</td>\n",
       "      <td>2000</td>\n",
       "      <td>GasA</td>\n",
       "      <td>2007</td>\n",
       "    </tr>\n",
       "    <tr>\n",
       "      <th>1456</th>\n",
       "      <td>RL</td>\n",
       "      <td>NWAmes</td>\n",
       "      <td>6</td>\n",
       "      <td>6</td>\n",
       "      <td>1988</td>\n",
       "      <td>GasA</td>\n",
       "      <td>2010</td>\n",
       "    </tr>\n",
       "    <tr>\n",
       "      <th>1457</th>\n",
       "      <td>RL</td>\n",
       "      <td>Crawfor</td>\n",
       "      <td>7</td>\n",
       "      <td>9</td>\n",
       "      <td>2006</td>\n",
       "      <td>GasA</td>\n",
       "      <td>2010</td>\n",
       "    </tr>\n",
       "    <tr>\n",
       "      <th>1458</th>\n",
       "      <td>RL</td>\n",
       "      <td>NAmes</td>\n",
       "      <td>5</td>\n",
       "      <td>6</td>\n",
       "      <td>1996</td>\n",
       "      <td>GasA</td>\n",
       "      <td>2010</td>\n",
       "    </tr>\n",
       "    <tr>\n",
       "      <th>1459</th>\n",
       "      <td>RL</td>\n",
       "      <td>Edwards</td>\n",
       "      <td>5</td>\n",
       "      <td>6</td>\n",
       "      <td>1965</td>\n",
       "      <td>GasA</td>\n",
       "      <td>2008</td>\n",
       "    </tr>\n",
       "  </tbody>\n",
       "</table>\n",
       "<p>1460 rows × 7 columns</p>\n",
       "</div>"
      ],
      "text/plain": [
       "     mszoning neighborhood  overallqual  overallcond  year heating  yrsold\n",
       "0          RL      CollgCr            7            5  2003    GasA    2008\n",
       "1          RL      Veenker            6            8  1976    GasA    2007\n",
       "2          RL      CollgCr            7            5  2002    GasA    2008\n",
       "3          RL      Crawfor            7            5  1970    GasA    2006\n",
       "4          RL      NoRidge            8            5  2000    GasA    2008\n",
       "...       ...          ...          ...          ...   ...     ...     ...\n",
       "1455       RL      Gilbert            6            5  2000    GasA    2007\n",
       "1456       RL       NWAmes            6            6  1988    GasA    2010\n",
       "1457       RL      Crawfor            7            9  2006    GasA    2010\n",
       "1458       RL        NAmes            5            6  1996    GasA    2010\n",
       "1459       RL      Edwards            5            6  1965    GasA    2008\n",
       "\n",
       "[1460 rows x 7 columns]"
      ]
     },
     "execution_count": 234,
     "metadata": {},
     "output_type": "execute_result"
    }
   ],
   "source": [
    "df[int_cols]"
   ]
  },
  {
   "cell_type": "code",
   "execution_count": 193,
   "metadata": {},
   "outputs": [],
   "source": [
    "houses = df[[\"saleprice\"]].copy()"
   ]
  },
  {
   "cell_type": "code",
   "execution_count": 460,
   "metadata": {},
   "outputs": [],
   "source": [
    "# add constant\n",
    "houses[\"const\"] = 1.0\n",
    "\n",
    "\n",
    "# area_cols = [\"totalbsmtsf\",\"grlivarea\",\"garagearea\"]\n",
    "houses[\"area\"] = df[area_cols[0]]+df[area_cols[1]].copy()\n",
    "houses[\"garage_area\"] = df[area_cols[2]].copy()\n",
    "\n",
    "# porch and pool area\n",
    "houses[\"outside_area\"] = df[porch_pool_cols].sum(axis=1).copy()\n",
    "\n",
    "\n",
    "houses[\"total_area\"] = houses[[\"area\",\"garage_area\",\"outside_area\"]].sum(axis=1)\n",
    "\n",
    "# rooms\n",
    "#room_cols = [\"bsmtfullbath\",\"bsmthalfbath\",\"fullbath\",\"halfbath\",\"bedroomabvgr\",\"totrmsabvgrd\"]\n",
    "\n",
    "houses[\"bathrooms\"] = df[[\"bsmtfullbath\",\"fullbath\"]].copy().sum(axis=1)+ df[[\"bsmthalfbath\",\"halfbath\"]].copy().sum(axis=1)/2 \n",
    "houses[\"bedrooms\"] = df[\"bedroomabvgr\"].copy()\n",
    "\n",
    "houses[\"rooms\"] = df[\"totrmsabvgrd\"].copy()\n",
    "\n",
    "#int_cols = [\"neighborhood\",\"overallqual\",\"overallcond\",\"year\",\"yrsold\"]\n",
    "\n",
    "# quality\n",
    "houses[\"cond\"] = df[[\"overallcond\"]].copy()\n",
    "# tested, not useful\n",
    "\n",
    "houses[\"quality\"] = df[\"overallqual\"].copy()\n",
    "\n",
    "\n",
    "houses[\"yrsold\"] = df[\"yrsold\"].copy()\n",
    "houses.drop(columns = \"yrsold\",inplace=True)\n",
    "houses[\"prior_2008\"] = np.where(df[\"yrsold\"]>2008,1,0)\n",
    "houses.drop(columns = \"prior_2008\",inplace=True)\n",
    "# tested, not significant\n",
    "\n",
    "# year build/rebuild\n",
    "houses[\"year\"]=df[\"year\"].copy()\n",
    "\n",
    "\n",
    "# square of the year and area\n",
    "houses[\"year2\"] = houses[\"year\"]*houses[\"year\"]\n",
    "houses[\"total_area2\"] = houses[\"total_area\"]*houses[\"total_area\"]\n",
    "# both do not really add much explanatory power\n",
    "\n",
    "\n",
    "# interaction terms\n",
    "houses[\"year_quality\"] = houses[\"year\"]*houses[\"quality\"]\n",
    "# doesnt add a lot of R2, but makes interpretation more complicated, so dont use\n"
   ]
  },
  {
   "cell_type": "markdown",
   "metadata": {},
   "source": [
    "## Final model version 1"
   ]
  },
  {
   "cell_type": "code",
   "execution_count": 462,
   "metadata": {},
   "outputs": [
    {
     "data": {
      "text/html": [
       "<table class=\"simpletable\">\n",
       "<caption>OLS Regression Results</caption>\n",
       "<tr>\n",
       "  <th>Dep. Variable:</th>        <td>saleprice</td>    <th>  R-squared:         </th> <td>   0.764</td> \n",
       "</tr>\n",
       "<tr>\n",
       "  <th>Model:</th>                   <td>OLS</td>       <th>  Adj. R-squared:    </th> <td>   0.764</td> \n",
       "</tr>\n",
       "<tr>\n",
       "  <th>Method:</th>             <td>Least Squares</td>  <th>  F-statistic:       </th> <td>   1576.</td> \n",
       "</tr>\n",
       "<tr>\n",
       "  <th>Date:</th>             <td>Fri, 07 Feb 2020</td> <th>  Prob (F-statistic):</th>  <td>  0.00</td>  \n",
       "</tr>\n",
       "<tr>\n",
       "  <th>Time:</th>                 <td>16:48:29</td>     <th>  Log-Likelihood:    </th> <td> -17488.</td> \n",
       "</tr>\n",
       "<tr>\n",
       "  <th>No. Observations:</th>      <td>  1460</td>      <th>  AIC:               </th> <td>3.498e+04</td>\n",
       "</tr>\n",
       "<tr>\n",
       "  <th>Df Residuals:</th>          <td>  1456</td>      <th>  BIC:               </th> <td>3.501e+04</td>\n",
       "</tr>\n",
       "<tr>\n",
       "  <th>Df Model:</th>              <td>     3</td>      <th>                     </th>     <td> </td>    \n",
       "</tr>\n",
       "<tr>\n",
       "  <th>Covariance Type:</th>      <td>nonrobust</td>    <th>                     </th>     <td> </td>    \n",
       "</tr>\n",
       "</table>\n",
       "<table class=\"simpletable\">\n",
       "<tr>\n",
       "       <td></td>         <th>coef</th>     <th>std err</th>      <th>t</th>      <th>P>|t|</th>  <th>[0.025</th>    <th>0.975]</th>  \n",
       "</tr>\n",
       "<tr>\n",
       "  <th>const</th>      <td>-9.095e+05</td> <td> 1.14e+05</td> <td>   -8.011</td> <td> 0.000</td> <td>-1.13e+06</td> <td>-6.87e+05</td>\n",
       "</tr>\n",
       "<tr>\n",
       "  <th>total_area</th> <td>   38.3261</td> <td>    1.344</td> <td>   28.514</td> <td> 0.000</td> <td>   35.689</td> <td>   40.963</td>\n",
       "</tr>\n",
       "<tr>\n",
       "  <th>year</th>       <td>  419.1292</td> <td>   58.635</td> <td>    7.148</td> <td> 0.000</td> <td>  304.112</td> <td>  534.146</td>\n",
       "</tr>\n",
       "<tr>\n",
       "  <th>quality</th>    <td> 2.208e+04</td> <td> 1123.873</td> <td>   19.651</td> <td> 0.000</td> <td> 1.99e+04</td> <td> 2.43e+04</td>\n",
       "</tr>\n",
       "</table>\n",
       "<table class=\"simpletable\">\n",
       "<tr>\n",
       "  <th>Omnibus:</th>       <td>573.562</td> <th>  Durbin-Watson:     </th> <td>   1.966</td> \n",
       "</tr>\n",
       "<tr>\n",
       "  <th>Prob(Omnibus):</th> <td> 0.000</td>  <th>  Jarque-Bera (JB):  </th> <td>80715.057</td>\n",
       "</tr>\n",
       "<tr>\n",
       "  <th>Skew:</th>          <td>-0.750</td>  <th>  Prob(JB):          </th> <td>    0.00</td> \n",
       "</tr>\n",
       "<tr>\n",
       "  <th>Kurtosis:</th>      <td>39.395</td>  <th>  Cond. No.          </th> <td>4.38e+05</td> \n",
       "</tr>\n",
       "</table><br/><br/>Warnings:<br/>[1] Standard Errors assume that the covariance matrix of the errors is correctly specified.<br/>[2] The condition number is large, 4.38e+05. This might indicate that there are<br/>strong multicollinearity or other numerical problems."
      ],
      "text/plain": [
       "<class 'statsmodels.iolib.summary.Summary'>\n",
       "\"\"\"\n",
       "                            OLS Regression Results                            \n",
       "==============================================================================\n",
       "Dep. Variable:              saleprice   R-squared:                       0.764\n",
       "Model:                            OLS   Adj. R-squared:                  0.764\n",
       "Method:                 Least Squares   F-statistic:                     1576.\n",
       "Date:                Fri, 07 Feb 2020   Prob (F-statistic):               0.00\n",
       "Time:                        16:48:29   Log-Likelihood:                -17488.\n",
       "No. Observations:                1460   AIC:                         3.498e+04\n",
       "Df Residuals:                    1456   BIC:                         3.501e+04\n",
       "Df Model:                           3                                         \n",
       "Covariance Type:            nonrobust                                         \n",
       "==============================================================================\n",
       "                 coef    std err          t      P>|t|      [0.025      0.975]\n",
       "------------------------------------------------------------------------------\n",
       "const      -9.095e+05   1.14e+05     -8.011      0.000   -1.13e+06   -6.87e+05\n",
       "total_area    38.3261      1.344     28.514      0.000      35.689      40.963\n",
       "year         419.1292     58.635      7.148      0.000     304.112     534.146\n",
       "quality     2.208e+04   1123.873     19.651      0.000    1.99e+04    2.43e+04\n",
       "==============================================================================\n",
       "Omnibus:                      573.562   Durbin-Watson:                   1.966\n",
       "Prob(Omnibus):                  0.000   Jarque-Bera (JB):            80715.057\n",
       "Skew:                          -0.750   Prob(JB):                         0.00\n",
       "Kurtosis:                      39.395   Cond. No.                     4.38e+05\n",
       "==============================================================================\n",
       "\n",
       "Warnings:\n",
       "[1] Standard Errors assume that the covariance matrix of the errors is correctly specified.\n",
       "[2] The condition number is large, 4.38e+05. This might indicate that there are\n",
       "strong multicollinearity or other numerical problems.\n",
       "\"\"\""
      ]
     },
     "execution_count": 462,
     "metadata": {},
     "output_type": "execute_result"
    }
   ],
   "source": [
    "y=houses[\"saleprice\"]\n",
    "x= houses[[\"const\",\"total_area\",\"year\",\"quality\"]]\n",
    "\n",
    "# derive the model\n",
    "model1 = sm.OLS(y,x).fit()\n",
    "\n",
    "# get a summary\n",
    "model1.summary()"
   ]
  },
  {
   "cell_type": "code",
   "execution_count": 430,
   "metadata": {},
   "outputs": [
    {
     "data": {
      "image/png": "[encoded data removed]",
      "text/plain": [
       "<Figure size 720x432 with 1 Axes>"
      ]
     },
     "metadata": {
      "needs_background": "light"
     },
     "output_type": "display_data"
    }
   ],
   "source": [
    "fig, ax = plt.subplots(figsize=(10,6));\n",
    "houses.plot(x=\"total_area\",y=\"saleprice\",kind=\"scatter\",ax=ax);"
   ]
  },
  {
   "cell_type": "code",
   "execution_count": 339,
   "metadata": {},
   "outputs": [
    {
     "data": {
      "text/plain": [
       "<matplotlib.axes._subplots.AxesSubplot at 0x7fbe3f993a50>"
      ]
     },
     "execution_count": 339,
     "metadata": {},
     "output_type": "execute_result"
    },
    {
     "data": {
      "image/png": "[encoded data removed]",
      "text/plain": [
       "<Figure size 432x288 with 1 Axes>"
      ]
     },
     "metadata": {
      "needs_background": "light"
     },
     "output_type": "display_data"
    }
   ],
   "source": [
    "df[[\"saleprice\",\"year\"]].groupby(by = \"year\").median().plot();"
   ]
  },
  {
   "cell_type": "code",
   "execution_count": null,
   "metadata": {},
   "outputs": [],
   "source": [
    "fig, ax = plt.subplots(figsize=(10,6));\n",
    "houses.plot(x=\"total_area\",y=\"saleprice\",kind=\"scatter\",ax=ax);"
   ]
  },
  {
   "cell_type": "code",
   "execution_count": 442,
   "metadata": {},
   "outputs": [
    {
     "data": {
      "image/png": "[encoded data removed]",
      "text/plain": [
       "<Figure size 720x432 with 1 Axes>"
      ]
     },
     "metadata": {
      "needs_background": "light"
     },
     "output_type": "display_data"
    }
   ],
   "source": [
    "fig, ax = plt.subplots(figsize=(10,6));\n",
    "houses.plot(x=\"quality\",y=\"saleprice\",kind=\"scatter\",ax=ax);"
   ]
  },
  {
   "cell_type": "code",
   "execution_count": 441,
   "metadata": {},
   "outputs": [
    {
     "data": {
      "text/html": [
       "<div>\n",
       "<style scoped>\n",
       "    .dataframe tbody tr th:only-of-type {\n",
       "        vertical-align: middle;\n",
       "    }\n",
       "\n",
       "    .dataframe tbody tr th {\n",
       "        vertical-align: top;\n",
       "    }\n",
       "\n",
       "    .dataframe thead th {\n",
       "        text-align: right;\n",
       "    }\n",
       "</style>\n",
       "<table border=\"1\" class=\"dataframe\">\n",
       "  <thead>\n",
       "    <tr style=\"text-align: right;\">\n",
       "      <th></th>\n",
       "      <th>total_area</th>\n",
       "      <th>year</th>\n",
       "      <th>quality</th>\n",
       "    </tr>\n",
       "  </thead>\n",
       "  <tbody>\n",
       "    <tr>\n",
       "      <th>total_area</th>\n",
       "      <td>1.000000</td>\n",
       "      <td>0.371714</td>\n",
       "      <td>0.690830</td>\n",
       "    </tr>\n",
       "    <tr>\n",
       "      <th>year</th>\n",
       "      <td>0.371714</td>\n",
       "      <td>1.000000</td>\n",
       "      <td>0.550684</td>\n",
       "    </tr>\n",
       "    <tr>\n",
       "      <th>quality</th>\n",
       "      <td>0.690830</td>\n",
       "      <td>0.550684</td>\n",
       "      <td>1.000000</td>\n",
       "    </tr>\n",
       "  </tbody>\n",
       "</table>\n",
       "</div>"
      ],
      "text/plain": [
       "            total_area      year   quality\n",
       "total_area    1.000000  0.371714  0.690830\n",
       "year          0.371714  1.000000  0.550684\n",
       "quality       0.690830  0.550684  1.000000"
      ]
     },
     "execution_count": 441,
     "metadata": {},
     "output_type": "execute_result"
    }
   ],
   "source": [
    "houses[[\"total_area\",\"year\",\"quality\"]].corr()"
   ]
  },
  {
   "cell_type": "markdown",
   "metadata": {},
   "source": [
    "## Final model 2 : with neighborhood"
   ]
  },
  {
   "cell_type": "code",
   "execution_count": 475,
   "metadata": {},
   "outputs": [
    {
     "data": {
      "text/plain": [
       "neighborhood\n",
       "NridgHt    315000\n",
       "NoRidge    301500\n",
       "StoneBr    278000\n",
       "Timber     228475\n",
       "Somerst    225500\n",
       "Veenker    218000\n",
       "Crawfor    200624\n",
       "ClearCr    200250\n",
       "CollgCr    197200\n",
       "Blmngtn    191000\n",
       "NWAmes     182900\n",
       "Gilbert    181000\n",
       "SawyerW    179900\n",
       "Mitchel    153500\n",
       "NPkVill    146000\n",
       "NAmes      140000\n",
       "SWISU      139500\n",
       "Blueste    137500\n",
       "Sawyer     135000\n",
       "BrkSide    124300\n",
       "Edwards    121750\n",
       "OldTown    119000\n",
       "BrDale     106000\n",
       "IDOTRR     103000\n",
       "MeadowV     88000\n",
       "Name: saleprice, dtype: int64"
      ]
     },
     "execution_count": 475,
     "metadata": {},
     "output_type": "execute_result"
    }
   ],
   "source": [
    "df[[\"saleprice\",\"neighborhood\"]].groupby(by=\"neighborhood\").median()[\"saleprice\"].sort_values(ascending=False)"
   ]
  },
  {
   "cell_type": "markdown",
   "metadata": {},
   "source": [
    "**comment**: there are a lot of neightborhoods. It would probably make sense to group them according to their location. but since we have no further geo-information and since I am too lazy to do that manually on googly, I just put in all of them"
   ]
  },
  {
   "cell_type": "code",
   "execution_count": 473,
   "metadata": {},
   "outputs": [
    {
     "data": {
      "text/plain": [
       "NAmes      225\n",
       "CollgCr    150\n",
       "OldTown    113\n",
       "Edwards    100\n",
       "Somerst     86\n",
       "Gilbert     79\n",
       "NridgHt     77\n",
       "Sawyer      74\n",
       "NWAmes      73\n",
       "SawyerW     59\n",
       "BrkSide     58\n",
       "Crawfor     51\n",
       "Mitchel     49\n",
       "NoRidge     41\n",
       "Timber      38\n",
       "IDOTRR      37\n",
       "ClearCr     28\n",
       "SWISU       25\n",
       "StoneBr     25\n",
       "MeadowV     17\n",
       "Blmngtn     17\n",
       "BrDale      16\n",
       "Veenker     11\n",
       "NPkVill      9\n",
       "Blueste      2\n",
       "Name: neighborhood, dtype: int64"
      ]
     },
     "execution_count": 473,
     "metadata": {},
     "output_type": "execute_result"
    }
   ],
   "source": [
    "df.neighborhood.value_counts()"
   ]
  },
  {
   "cell_type": "code",
   "execution_count": 476,
   "metadata": {},
   "outputs": [],
   "source": [
    "# we take NridgHt as the neighborhood we compare everything to\n",
    "\n",
    "x = x.assign(**pd.get_dummies(df[\"neighborhood\"]))\n",
    "x = x.drop(columns = [\"NridgHt\"])"
   ]
  },
  {
   "cell_type": "code",
   "execution_count": 477,
   "metadata": {},
   "outputs": [
    {
     "data": {
      "text/html": [
       "<table class=\"simpletable\">\n",
       "<caption>OLS Regression Results</caption>\n",
       "<tr>\n",
       "  <th>Dep. Variable:</th>        <td>saleprice</td>    <th>  R-squared:         </th> <td>   0.810</td> \n",
       "</tr>\n",
       "<tr>\n",
       "  <th>Model:</th>                   <td>OLS</td>       <th>  Adj. R-squared:    </th> <td>   0.806</td> \n",
       "</tr>\n",
       "<tr>\n",
       "  <th>Method:</th>             <td>Least Squares</td>  <th>  F-statistic:       </th> <td>   225.7</td> \n",
       "</tr>\n",
       "<tr>\n",
       "  <th>Date:</th>             <td>Fri, 07 Feb 2020</td> <th>  Prob (F-statistic):</th>  <td>  0.00</td>  \n",
       "</tr>\n",
       "<tr>\n",
       "  <th>Time:</th>                 <td>16:59:39</td>     <th>  Log-Likelihood:    </th> <td> -17333.</td> \n",
       "</tr>\n",
       "<tr>\n",
       "  <th>No. Observations:</th>      <td>  1460</td>      <th>  AIC:               </th> <td>3.472e+04</td>\n",
       "</tr>\n",
       "<tr>\n",
       "  <th>Df Residuals:</th>          <td>  1432</td>      <th>  BIC:               </th> <td>3.487e+04</td>\n",
       "</tr>\n",
       "<tr>\n",
       "  <th>Df Model:</th>              <td>    27</td>      <th>                     </th>     <td> </td>    \n",
       "</tr>\n",
       "<tr>\n",
       "  <th>Covariance Type:</th>      <td>nonrobust</td>    <th>                     </th>     <td> </td>    \n",
       "</tr>\n",
       "</table>\n",
       "<table class=\"simpletable\">\n",
       "<tr>\n",
       "       <td></td>         <th>coef</th>     <th>std err</th>      <th>t</th>      <th>P>|t|</th>  <th>[0.025</th>    <th>0.975]</th>  \n",
       "</tr>\n",
       "<tr>\n",
       "  <th>const</th>      <td>-6.088e+05</td> <td> 1.17e+05</td> <td>   -5.206</td> <td> 0.000</td> <td>-8.38e+05</td> <td>-3.79e+05</td>\n",
       "</tr>\n",
       "<tr>\n",
       "  <th>total_area</th> <td>   34.2656</td> <td>    1.306</td> <td>   26.237</td> <td> 0.000</td> <td>   31.704</td> <td>   36.827</td>\n",
       "</tr>\n",
       "<tr>\n",
       "  <th>year</th>       <td>  318.8244</td> <td>   59.254</td> <td>    5.381</td> <td> 0.000</td> <td>  202.590</td> <td>  435.059</td>\n",
       "</tr>\n",
       "<tr>\n",
       "  <th>quality</th>    <td> 1.584e+04</td> <td> 1169.948</td> <td>   13.542</td> <td> 0.000</td> <td> 1.35e+04</td> <td> 1.81e+04</td>\n",
       "</tr>\n",
       "<tr>\n",
       "  <th>Blmngtn</th>    <td>-6.695e+04</td> <td> 9463.290</td> <td>   -7.075</td> <td> 0.000</td> <td>-8.55e+04</td> <td>-4.84e+04</td>\n",
       "</tr>\n",
       "<tr>\n",
       "  <th>Blueste</th>    <td>-7.064e+04</td> <td> 2.52e+04</td> <td>   -2.805</td> <td> 0.005</td> <td> -1.2e+05</td> <td>-2.12e+04</td>\n",
       "</tr>\n",
       "<tr>\n",
       "  <th>BrDale</th>     <td>-7.761e+04</td> <td> 1.01e+04</td> <td>   -7.678</td> <td> 0.000</td> <td>-9.74e+04</td> <td>-5.78e+04</td>\n",
       "</tr>\n",
       "<tr>\n",
       "  <th>BrkSide</th>    <td>-5.617e+04</td> <td> 6974.173</td> <td>   -8.054</td> <td> 0.000</td> <td>-6.98e+04</td> <td>-4.25e+04</td>\n",
       "</tr>\n",
       "<tr>\n",
       "  <th>ClearCr</th>    <td>  -3.5e+04</td> <td> 8092.275</td> <td>   -4.325</td> <td> 0.000</td> <td>-5.09e+04</td> <td>-1.91e+04</td>\n",
       "</tr>\n",
       "<tr>\n",
       "  <th>CollgCr</th>    <td> -5.11e+04</td> <td> 5163.059</td> <td>   -9.897</td> <td> 0.000</td> <td>-6.12e+04</td> <td> -4.1e+04</td>\n",
       "</tr>\n",
       "<tr>\n",
       "  <th>Crawfor</th>    <td>-2.758e+04</td> <td> 6678.264</td> <td>   -4.129</td> <td> 0.000</td> <td>-4.07e+04</td> <td>-1.45e+04</td>\n",
       "</tr>\n",
       "<tr>\n",
       "  <th>Edwards</th>    <td> -6.66e+04</td> <td> 6191.176</td> <td>  -10.758</td> <td> 0.000</td> <td>-7.87e+04</td> <td>-5.45e+04</td>\n",
       "</tr>\n",
       "<tr>\n",
       "  <th>Gilbert</th>    <td>-4.655e+04</td> <td> 5878.655</td> <td>   -7.918</td> <td> 0.000</td> <td>-5.81e+04</td> <td> -3.5e+04</td>\n",
       "</tr>\n",
       "<tr>\n",
       "  <th>IDOTRR</th>     <td>-7.346e+04</td> <td> 7919.417</td> <td>   -9.276</td> <td> 0.000</td> <td> -8.9e+04</td> <td>-5.79e+04</td>\n",
       "</tr>\n",
       "<tr>\n",
       "  <th>MeadowV</th>    <td> -6.72e+04</td> <td> 1.01e+04</td> <td>   -6.658</td> <td> 0.000</td> <td> -8.7e+04</td> <td>-4.74e+04</td>\n",
       "</tr>\n",
       "<tr>\n",
       "  <th>Mitchel</th>    <td>-6.113e+04</td> <td> 6899.639</td> <td>   -8.860</td> <td> 0.000</td> <td>-7.47e+04</td> <td>-4.76e+04</td>\n",
       "</tr>\n",
       "<tr>\n",
       "  <th>NAmes</th>      <td>-5.839e+04</td> <td> 5530.331</td> <td>  -10.557</td> <td> 0.000</td> <td>-6.92e+04</td> <td>-4.75e+04</td>\n",
       "</tr>\n",
       "<tr>\n",
       "  <th>NPkVill</th>    <td>-6.824e+04</td> <td> 1.26e+04</td> <td>   -5.421</td> <td> 0.000</td> <td>-9.29e+04</td> <td>-4.36e+04</td>\n",
       "</tr>\n",
       "<tr>\n",
       "  <th>NWAmes</th>     <td>-5.948e+04</td> <td> 6076.061</td> <td>   -9.789</td> <td> 0.000</td> <td>-7.14e+04</td> <td>-4.76e+04</td>\n",
       "</tr>\n",
       "<tr>\n",
       "  <th>OldTown</th>    <td> -7.62e+04</td> <td> 5947.149</td> <td>  -12.813</td> <td> 0.000</td> <td>-8.79e+04</td> <td>-6.45e+04</td>\n",
       "</tr>\n",
       "<tr>\n",
       "  <th>SWISU</th>      <td>-7.068e+04</td> <td> 8601.184</td> <td>   -8.217</td> <td> 0.000</td> <td>-8.76e+04</td> <td>-5.38e+04</td>\n",
       "</tr>\n",
       "<tr>\n",
       "  <th>Sawyer</th>     <td>-5.864e+04</td> <td> 6522.302</td> <td>   -8.991</td> <td> 0.000</td> <td>-7.14e+04</td> <td>-4.58e+04</td>\n",
       "</tr>\n",
       "<tr>\n",
       "  <th>SawyerW</th>    <td>-5.365e+04</td> <td> 6348.958</td> <td>   -8.450</td> <td> 0.000</td> <td>-6.61e+04</td> <td>-4.12e+04</td>\n",
       "</tr>\n",
       "<tr>\n",
       "  <th>Somerst</th>    <td> -4.26e+04</td> <td> 5605.087</td> <td>   -7.600</td> <td> 0.000</td> <td>-5.36e+04</td> <td>-3.16e+04</td>\n",
       "</tr>\n",
       "<tr>\n",
       "  <th>Timber</th>     <td>-3.312e+04</td> <td> 7028.691</td> <td>   -4.712</td> <td> 0.000</td> <td>-4.69e+04</td> <td>-1.93e+04</td>\n",
       "</tr>\n",
       "<tr>\n",
       "  <th>Veenker</th>    <td>-2.039e+04</td> <td> 1.14e+04</td> <td>   -1.792</td> <td> 0.073</td> <td>-4.27e+04</td> <td> 1936.325</td>\n",
       "</tr>\n",
       "<tr>\n",
       "  <th>NoRidge</th>    <td> 9190.6196</td> <td> 6847.825</td> <td>    1.342</td> <td> 0.180</td> <td>-4242.224</td> <td> 2.26e+04</td>\n",
       "</tr>\n",
       "<tr>\n",
       "  <th>StoneBr</th>    <td> 5022.8176</td> <td> 8064.968</td> <td>    0.623</td> <td> 0.534</td> <td>-1.08e+04</td> <td> 2.08e+04</td>\n",
       "</tr>\n",
       "</table>\n",
       "<table class=\"simpletable\">\n",
       "<tr>\n",
       "  <th>Omnibus:</th>       <td>450.237</td> <th>  Durbin-Watson:     </th> <td>   1.936</td> \n",
       "</tr>\n",
       "<tr>\n",
       "  <th>Prob(Omnibus):</th> <td> 0.000</td>  <th>  Jarque-Bera (JB):  </th> <td>55907.945</td>\n",
       "</tr>\n",
       "<tr>\n",
       "  <th>Skew:</th>          <td>-0.249</td>  <th>  Prob(JB):          </th> <td>    0.00</td> \n",
       "</tr>\n",
       "<tr>\n",
       "  <th>Kurtosis:</th>      <td>33.311</td>  <th>  Cond. No.          </th> <td>4.98e+05</td> \n",
       "</tr>\n",
       "</table><br/><br/>Warnings:<br/>[1] Standard Errors assume that the covariance matrix of the errors is correctly specified.<br/>[2] The condition number is large, 4.98e+05. This might indicate that there are<br/>strong multicollinearity or other numerical problems."
      ],
      "text/plain": [
       "<class 'statsmodels.iolib.summary.Summary'>\n",
       "\"\"\"\n",
       "                            OLS Regression Results                            \n",
       "==============================================================================\n",
       "Dep. Variable:              saleprice   R-squared:                       0.810\n",
       "Model:                            OLS   Adj. R-squared:                  0.806\n",
       "Method:                 Least Squares   F-statistic:                     225.7\n",
       "Date:                Fri, 07 Feb 2020   Prob (F-statistic):               0.00\n",
       "Time:                        16:59:39   Log-Likelihood:                -17333.\n",
       "No. Observations:                1460   AIC:                         3.472e+04\n",
       "Df Residuals:                    1432   BIC:                         3.487e+04\n",
       "Df Model:                          27                                         \n",
       "Covariance Type:            nonrobust                                         \n",
       "==============================================================================\n",
       "                 coef    std err          t      P>|t|      [0.025      0.975]\n",
       "------------------------------------------------------------------------------\n",
       "const      -6.088e+05   1.17e+05     -5.206      0.000   -8.38e+05   -3.79e+05\n",
       "total_area    34.2656      1.306     26.237      0.000      31.704      36.827\n",
       "year         318.8244     59.254      5.381      0.000     202.590     435.059\n",
       "quality     1.584e+04   1169.948     13.542      0.000    1.35e+04    1.81e+04\n",
       "Blmngtn    -6.695e+04   9463.290     -7.075      0.000   -8.55e+04   -4.84e+04\n",
       "Blueste    -7.064e+04   2.52e+04     -2.805      0.005    -1.2e+05   -2.12e+04\n",
       "BrDale     -7.761e+04   1.01e+04     -7.678      0.000   -9.74e+04   -5.78e+04\n",
       "BrkSide    -5.617e+04   6974.173     -8.054      0.000   -6.98e+04   -4.25e+04\n",
       "ClearCr      -3.5e+04   8092.275     -4.325      0.000   -5.09e+04   -1.91e+04\n",
       "CollgCr     -5.11e+04   5163.059     -9.897      0.000   -6.12e+04    -4.1e+04\n",
       "Crawfor    -2.758e+04   6678.264     -4.129      0.000   -4.07e+04   -1.45e+04\n",
       "Edwards     -6.66e+04   6191.176    -10.758      0.000   -7.87e+04   -5.45e+04\n",
       "Gilbert    -4.655e+04   5878.655     -7.918      0.000   -5.81e+04    -3.5e+04\n",
       "IDOTRR     -7.346e+04   7919.417     -9.276      0.000    -8.9e+04   -5.79e+04\n",
       "MeadowV     -6.72e+04   1.01e+04     -6.658      0.000    -8.7e+04   -4.74e+04\n",
       "Mitchel    -6.113e+04   6899.639     -8.860      0.000   -7.47e+04   -4.76e+04\n",
       "NAmes      -5.839e+04   5530.331    -10.557      0.000   -6.92e+04   -4.75e+04\n",
       "NPkVill    -6.824e+04   1.26e+04     -5.421      0.000   -9.29e+04   -4.36e+04\n",
       "NWAmes     -5.948e+04   6076.061     -9.789      0.000   -7.14e+04   -4.76e+04\n",
       "OldTown     -7.62e+04   5947.149    -12.813      0.000   -8.79e+04   -6.45e+04\n",
       "SWISU      -7.068e+04   8601.184     -8.217      0.000   -8.76e+04   -5.38e+04\n",
       "Sawyer     -5.864e+04   6522.302     -8.991      0.000   -7.14e+04   -4.58e+04\n",
       "SawyerW    -5.365e+04   6348.958     -8.450      0.000   -6.61e+04   -4.12e+04\n",
       "Somerst     -4.26e+04   5605.087     -7.600      0.000   -5.36e+04   -3.16e+04\n",
       "Timber     -3.312e+04   7028.691     -4.712      0.000   -4.69e+04   -1.93e+04\n",
       "Veenker    -2.039e+04   1.14e+04     -1.792      0.073   -4.27e+04    1936.325\n",
       "NoRidge     9190.6196   6847.825      1.342      0.180   -4242.224    2.26e+04\n",
       "StoneBr     5022.8176   8064.968      0.623      0.534   -1.08e+04    2.08e+04\n",
       "==============================================================================\n",
       "Omnibus:                      450.237   Durbin-Watson:                   1.936\n",
       "Prob(Omnibus):                  0.000   Jarque-Bera (JB):            55907.945\n",
       "Skew:                          -0.249   Prob(JB):                         0.00\n",
       "Kurtosis:                      33.311   Cond. No.                     4.98e+05\n",
       "==============================================================================\n",
       "\n",
       "Warnings:\n",
       "[1] Standard Errors assume that the covariance matrix of the errors is correctly specified.\n",
       "[2] The condition number is large, 4.98e+05. This might indicate that there are\n",
       "strong multicollinearity or other numerical problems.\n",
       "\"\"\""
      ]
     },
     "execution_count": 477,
     "metadata": {},
     "output_type": "execute_result"
    }
   ],
   "source": [
    "# derive the model\n",
    "model2 = sm.OLS(y,x).fit()\n",
    "\n",
    "# get a summary\n",
    "model2.summary()"
   ]
  },
  {
   "cell_type": "code",
   "execution_count": null,
   "metadata": {},
   "outputs": [],
   "source": []
  }
 ],
 "metadata": {
  "kernelspec": {
   "display_name": "Python 3",
   "language": "python",
   "name": "python3"
  },
  "language_info": {
   "codemirror_mode": {
    "name": "ipython",
    "version": 3
   },
   "file_extension": ".py",
   "mimetype": "text/x-python",
   "name": "python",
   "nbconvert_exporter": "python",
   "pygments_lexer": "ipython3",
   "version": "3.7.5"
  }
 },
 "nbformat": 4,
 "nbformat_minor": 2
}
