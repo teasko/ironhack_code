{
 "cells": [
  {
   "cell_type": "markdown",
   "metadata": {},
   "source": [
    "# Exploring Air Traffic Data of Germany"
   ]
  },
  {
   "cell_type": "markdown",
   "metadata": {},
   "source": [
    "## Import packages"
   ]
  },
  {
   "cell_type": "code",
   "execution_count": 1,
   "metadata": {},
   "outputs": [],
   "source": [
    "import pandas as pd\n",
    "import numpy as np\n",
    "import seaborn as sns\n",
    "import matplotlib.pyplot as plt\n",
    "import datetime as dt\n",
    "from geopy.distance import geodesic \n",
    "\n",
    "from IPython.display import display\n",
    "\n",
    "pd.options.display.max_columns = None\n",
    "pd.options.display.max_rows = 1000"
   ]
  },
  {
   "cell_type": "markdown",
   "metadata": {},
   "source": [
    "## Import data"
   ]
  },
  {
   "cell_type": "code",
   "execution_count": 2,
   "metadata": {},
   "outputs": [],
   "source": [
    "path = '../data/'"
   ]
  },
  {
   "cell_type": "code",
   "execution_count": 3,
   "metadata": {},
   "outputs": [],
   "source": [
    "df_raw = pd.read_csv(path + 'flight_data_de.csv')"
   ]
  },
  {
   "cell_type": "markdown",
   "metadata": {},
   "source": [
    "## Explore data: some descriptive stats"
   ]
  },
  {
   "cell_type": "markdown",
   "metadata": {},
   "source": [
    "### General"
   ]
  },
  {
   "cell_type": "code",
   "execution_count": 4,
   "metadata": {},
   "outputs": [],
   "source": [
    "df = df_raw.iloc[:, 1:]"
   ]
  },
  {
   "cell_type": "code",
   "execution_count": 5,
   "metadata": {},
   "outputs": [
    {
     "data": {
      "text/html": [
       "<div>\n",
       "<style scoped>\n",
       "    .dataframe tbody tr th:only-of-type {\n",
       "        vertical-align: middle;\n",
       "    }\n",
       "\n",
       "    .dataframe tbody tr th {\n",
       "        vertical-align: top;\n",
       "    }\n",
       "\n",
       "    .dataframe thead th {\n",
       "        text-align: right;\n",
       "    }\n",
       "</style>\n",
       "<table border=\"1\" class=\"dataframe\">\n",
       "  <thead>\n",
       "    <tr style=\"text-align: right;\">\n",
       "      <th></th>\n",
       "      <th>fr_country</th>\n",
       "      <th>fr_airport</th>\n",
       "      <th>to_country</th>\n",
       "      <th>to_airport</th>\n",
       "      <th>month</th>\n",
       "      <th>flight_d</th>\n",
       "      <th>seat_d</th>\n",
       "      <th>passenger_d</th>\n",
       "    </tr>\n",
       "  </thead>\n",
       "  <tbody>\n",
       "    <tr>\n",
       "      <th>0</th>\n",
       "      <td>DE</td>\n",
       "      <td>EDDB</td>\n",
       "      <td>BE</td>\n",
       "      <td>EBBR</td>\n",
       "      <td>2019-11-01</td>\n",
       "      <td>47.0</td>\n",
       "      <td>8166.0</td>\n",
       "      <td>7306.0</td>\n",
       "    </tr>\n",
       "    <tr>\n",
       "      <th>1</th>\n",
       "      <td>DE</td>\n",
       "      <td>EDDB</td>\n",
       "      <td>BG</td>\n",
       "      <td>LBSF</td>\n",
       "      <td>2019-11-01</td>\n",
       "      <td>26.0</td>\n",
       "      <td>4914.0</td>\n",
       "      <td>4406.0</td>\n",
       "    </tr>\n",
       "    <tr>\n",
       "      <th>2</th>\n",
       "      <td>DE</td>\n",
       "      <td>EDDB</td>\n",
       "      <td>CH</td>\n",
       "      <td>LSGG</td>\n",
       "      <td>2019-11-01</td>\n",
       "      <td>50.0</td>\n",
       "      <td>7896.0</td>\n",
       "      <td>6586.0</td>\n",
       "    </tr>\n",
       "    <tr>\n",
       "      <th>3</th>\n",
       "      <td>DE</td>\n",
       "      <td>EDDB</td>\n",
       "      <td>CH</td>\n",
       "      <td>LSZM</td>\n",
       "      <td>2019-11-01</td>\n",
       "      <td>45.0</td>\n",
       "      <td>7372.0</td>\n",
       "      <td>6341.0</td>\n",
       "    </tr>\n",
       "    <tr>\n",
       "      <th>4</th>\n",
       "      <td>DE</td>\n",
       "      <td>EDDB</td>\n",
       "      <td>DE</td>\n",
       "      <td>EDDK</td>\n",
       "      <td>2019-11-01</td>\n",
       "      <td>8.0</td>\n",
       "      <td>64.0</td>\n",
       "      <td>14.0</td>\n",
       "    </tr>\n",
       "    <tr>\n",
       "      <th>5</th>\n",
       "      <td>DE</td>\n",
       "      <td>EDDB</td>\n",
       "      <td>DK</td>\n",
       "      <td>EKCH</td>\n",
       "      <td>2019-11-01</td>\n",
       "      <td>62.0</td>\n",
       "      <td>10473.0</td>\n",
       "      <td>8753.0</td>\n",
       "    </tr>\n",
       "    <tr>\n",
       "      <th>6</th>\n",
       "      <td>DE</td>\n",
       "      <td>EDDB</td>\n",
       "      <td>EL</td>\n",
       "      <td>LGAV</td>\n",
       "      <td>2019-11-01</td>\n",
       "      <td>28.0</td>\n",
       "      <td>5122.0</td>\n",
       "      <td>4159.0</td>\n",
       "    </tr>\n",
       "    <tr>\n",
       "      <th>7</th>\n",
       "      <td>DE</td>\n",
       "      <td>EDDB</td>\n",
       "      <td>EL</td>\n",
       "      <td>LGTS</td>\n",
       "      <td>2019-11-01</td>\n",
       "      <td>27.0</td>\n",
       "      <td>4968.0</td>\n",
       "      <td>3946.0</td>\n",
       "    </tr>\n",
       "    <tr>\n",
       "      <th>8</th>\n",
       "      <td>DE</td>\n",
       "      <td>EDDB</td>\n",
       "      <td>ES</td>\n",
       "      <td>GCTS</td>\n",
       "      <td>2019-11-01</td>\n",
       "      <td>23.0</td>\n",
       "      <td>4308.0</td>\n",
       "      <td>3921.0</td>\n",
       "    </tr>\n",
       "    <tr>\n",
       "      <th>9</th>\n",
       "      <td>DE</td>\n",
       "      <td>EDDB</td>\n",
       "      <td>ES</td>\n",
       "      <td>LEBL</td>\n",
       "      <td>2019-11-01</td>\n",
       "      <td>96.0</td>\n",
       "      <td>17222.0</td>\n",
       "      <td>15668.0</td>\n",
       "    </tr>\n",
       "    <tr>\n",
       "      <th>10</th>\n",
       "      <td>DE</td>\n",
       "      <td>EDDB</td>\n",
       "      <td>ES</td>\n",
       "      <td>LEMD</td>\n",
       "      <td>2019-11-01</td>\n",
       "      <td>32.0</td>\n",
       "      <td>5516.0</td>\n",
       "      <td>4978.0</td>\n",
       "    </tr>\n",
       "    <tr>\n",
       "      <th>11</th>\n",
       "      <td>DE</td>\n",
       "      <td>EDDB</td>\n",
       "      <td>ES</td>\n",
       "      <td>LEMG</td>\n",
       "      <td>2019-11-01</td>\n",
       "      <td>35.0</td>\n",
       "      <td>6036.0</td>\n",
       "      <td>5257.0</td>\n",
       "    </tr>\n",
       "    <tr>\n",
       "      <th>12</th>\n",
       "      <td>DE</td>\n",
       "      <td>EDDB</td>\n",
       "      <td>ES</td>\n",
       "      <td>LEPA</td>\n",
       "      <td>2019-11-01</td>\n",
       "      <td>53.0</td>\n",
       "      <td>8812.0</td>\n",
       "      <td>7225.0</td>\n",
       "    </tr>\n",
       "    <tr>\n",
       "      <th>13</th>\n",
       "      <td>DE</td>\n",
       "      <td>EDDB</td>\n",
       "      <td>FR</td>\n",
       "      <td>LFMN</td>\n",
       "      <td>2019-11-01</td>\n",
       "      <td>28.0</td>\n",
       "      <td>3142.0</td>\n",
       "      <td>2576.0</td>\n",
       "    </tr>\n",
       "    <tr>\n",
       "      <th>14</th>\n",
       "      <td>DE</td>\n",
       "      <td>EDDB</td>\n",
       "      <td>FR</td>\n",
       "      <td>LFPG</td>\n",
       "      <td>2019-11-01</td>\n",
       "      <td>25.0</td>\n",
       "      <td>4110.0</td>\n",
       "      <td>3687.0</td>\n",
       "    </tr>\n",
       "    <tr>\n",
       "      <th>15</th>\n",
       "      <td>DE</td>\n",
       "      <td>EDDB</td>\n",
       "      <td>HU</td>\n",
       "      <td>LHBP</td>\n",
       "      <td>2019-11-01</td>\n",
       "      <td>66.0</td>\n",
       "      <td>13586.0</td>\n",
       "      <td>12473.0</td>\n",
       "    </tr>\n",
       "    <tr>\n",
       "      <th>16</th>\n",
       "      <td>DE</td>\n",
       "      <td>EDDB</td>\n",
       "      <td>IE</td>\n",
       "      <td>EIDW</td>\n",
       "      <td>2019-11-01</td>\n",
       "      <td>44.0</td>\n",
       "      <td>8164.0</td>\n",
       "      <td>7568.0</td>\n",
       "    </tr>\n",
       "    <tr>\n",
       "      <th>17</th>\n",
       "      <td>DE</td>\n",
       "      <td>EDDB</td>\n",
       "      <td>IL</td>\n",
       "      <td>LLBG</td>\n",
       "      <td>2019-11-01</td>\n",
       "      <td>68.0</td>\n",
       "      <td>12553.0</td>\n",
       "      <td>9742.0</td>\n",
       "    </tr>\n",
       "    <tr>\n",
       "      <th>18</th>\n",
       "      <td>DE</td>\n",
       "      <td>EDDB</td>\n",
       "      <td>IT</td>\n",
       "      <td>LICC</td>\n",
       "      <td>2019-11-01</td>\n",
       "      <td>15.0</td>\n",
       "      <td>2835.0</td>\n",
       "      <td>2357.0</td>\n",
       "    </tr>\n",
       "    <tr>\n",
       "      <th>19</th>\n",
       "      <td>DE</td>\n",
       "      <td>EDDB</td>\n",
       "      <td>IT</td>\n",
       "      <td>LIMC</td>\n",
       "      <td>2019-11-01</td>\n",
       "      <td>36.0</td>\n",
       "      <td>5868.0</td>\n",
       "      <td>4878.0</td>\n",
       "    </tr>\n",
       "  </tbody>\n",
       "</table>\n",
       "</div>"
      ],
      "text/plain": [
       "   fr_country fr_airport to_country to_airport       month  flight_d   seat_d  \\\n",
       "0          DE       EDDB         BE       EBBR  2019-11-01      47.0   8166.0   \n",
       "1          DE       EDDB         BG       LBSF  2019-11-01      26.0   4914.0   \n",
       "2          DE       EDDB         CH       LSGG  2019-11-01      50.0   7896.0   \n",
       "3          DE       EDDB         CH       LSZM  2019-11-01      45.0   7372.0   \n",
       "4          DE       EDDB         DE       EDDK  2019-11-01       8.0     64.0   \n",
       "5          DE       EDDB         DK       EKCH  2019-11-01      62.0  10473.0   \n",
       "6          DE       EDDB         EL       LGAV  2019-11-01      28.0   5122.0   \n",
       "7          DE       EDDB         EL       LGTS  2019-11-01      27.0   4968.0   \n",
       "8          DE       EDDB         ES       GCTS  2019-11-01      23.0   4308.0   \n",
       "9          DE       EDDB         ES       LEBL  2019-11-01      96.0  17222.0   \n",
       "10         DE       EDDB         ES       LEMD  2019-11-01      32.0   5516.0   \n",
       "11         DE       EDDB         ES       LEMG  2019-11-01      35.0   6036.0   \n",
       "12         DE       EDDB         ES       LEPA  2019-11-01      53.0   8812.0   \n",
       "13         DE       EDDB         FR       LFMN  2019-11-01      28.0   3142.0   \n",
       "14         DE       EDDB         FR       LFPG  2019-11-01      25.0   4110.0   \n",
       "15         DE       EDDB         HU       LHBP  2019-11-01      66.0  13586.0   \n",
       "16         DE       EDDB         IE       EIDW  2019-11-01      44.0   8164.0   \n",
       "17         DE       EDDB         IL       LLBG  2019-11-01      68.0  12553.0   \n",
       "18         DE       EDDB         IT       LICC  2019-11-01      15.0   2835.0   \n",
       "19         DE       EDDB         IT       LIMC  2019-11-01      36.0   5868.0   \n",
       "\n",
       "    passenger_d  \n",
       "0        7306.0  \n",
       "1        4406.0  \n",
       "2        6586.0  \n",
       "3        6341.0  \n",
       "4          14.0  \n",
       "5        8753.0  \n",
       "6        4159.0  \n",
       "7        3946.0  \n",
       "8        3921.0  \n",
       "9       15668.0  \n",
       "10       4978.0  \n",
       "11       5257.0  \n",
       "12       7225.0  \n",
       "13       2576.0  \n",
       "14       3687.0  \n",
       "15      12473.0  \n",
       "16       7568.0  \n",
       "17       9742.0  \n",
       "18       2357.0  \n",
       "19       4878.0  "
      ]
     },
     "execution_count": 5,
     "metadata": {},
     "output_type": "execute_result"
    }
   ],
   "source": [
    "df.head(20)"
   ]
  },
  {
   "cell_type": "code",
   "execution_count": 6,
   "metadata": {
    "scrolled": true
   },
   "outputs": [
    {
     "data": {
      "text/html": [
       "<div>\n",
       "<style scoped>\n",
       "    .dataframe tbody tr th:only-of-type {\n",
       "        vertical-align: middle;\n",
       "    }\n",
       "\n",
       "    .dataframe tbody tr th {\n",
       "        vertical-align: top;\n",
       "    }\n",
       "\n",
       "    .dataframe thead th {\n",
       "        text-align: right;\n",
       "    }\n",
       "</style>\n",
       "<table border=\"1\" class=\"dataframe\">\n",
       "  <thead>\n",
       "    <tr style=\"text-align: right;\">\n",
       "      <th></th>\n",
       "      <th>flight_d</th>\n",
       "      <th>seat_d</th>\n",
       "      <th>passenger_d</th>\n",
       "    </tr>\n",
       "  </thead>\n",
       "  <tbody>\n",
       "    <tr>\n",
       "      <th>count</th>\n",
       "      <td>161011.000000</td>\n",
       "      <td>161011.000000</td>\n",
       "      <td>161011.000000</td>\n",
       "    </tr>\n",
       "    <tr>\n",
       "      <th>mean</th>\n",
       "      <td>84.296725</td>\n",
       "      <td>12885.603592</td>\n",
       "      <td>9569.505164</td>\n",
       "    </tr>\n",
       "    <tr>\n",
       "      <th>std</th>\n",
       "      <td>100.450240</td>\n",
       "      <td>15255.707276</td>\n",
       "      <td>11410.283864</td>\n",
       "    </tr>\n",
       "    <tr>\n",
       "      <th>min</th>\n",
       "      <td>0.000000</td>\n",
       "      <td>0.000000</td>\n",
       "      <td>0.000000</td>\n",
       "    </tr>\n",
       "    <tr>\n",
       "      <th>25%</th>\n",
       "      <td>22.000000</td>\n",
       "      <td>4346.000000</td>\n",
       "      <td>3214.000000</td>\n",
       "    </tr>\n",
       "    <tr>\n",
       "      <th>50%</th>\n",
       "      <td>52.000000</td>\n",
       "      <td>8105.000000</td>\n",
       "      <td>5923.000000</td>\n",
       "    </tr>\n",
       "    <tr>\n",
       "      <th>75%</th>\n",
       "      <td>112.000000</td>\n",
       "      <td>15104.500000</td>\n",
       "      <td>11045.000000</td>\n",
       "    </tr>\n",
       "    <tr>\n",
       "      <th>max</th>\n",
       "      <td>824.000000</td>\n",
       "      <td>148928.000000</td>\n",
       "      <td>116241.000000</td>\n",
       "    </tr>\n",
       "  </tbody>\n",
       "</table>\n",
       "</div>"
      ],
      "text/plain": [
       "            flight_d         seat_d    passenger_d\n",
       "count  161011.000000  161011.000000  161011.000000\n",
       "mean       84.296725   12885.603592    9569.505164\n",
       "std       100.450240   15255.707276   11410.283864\n",
       "min         0.000000       0.000000       0.000000\n",
       "25%        22.000000    4346.000000    3214.000000\n",
       "50%        52.000000    8105.000000    5923.000000\n",
       "75%       112.000000   15104.500000   11045.000000\n",
       "max       824.000000  148928.000000  116241.000000"
      ]
     },
     "execution_count": 6,
     "metadata": {},
     "output_type": "execute_result"
    }
   ],
   "source": [
    "df.describe()"
   ]
  },
  {
   "cell_type": "code",
   "execution_count": 7,
   "metadata": {},
   "outputs": [],
   "source": [
    "cols = ['util_rate', 'num_flights', 'seats', 'passengers', 'flight']"
   ]
  },
  {
   "cell_type": "markdown",
   "metadata": {},
   "source": [
    "### What to analyze"
   ]
  },
  {
   "cell_type": "markdown",
   "metadata": {},
   "source": [
    "<b>KPIs:</b>\n",
    "\n",
    "- [ ] number of flights (sum, mean) // number of passengers\n",
    "- [x] utilization (passengers /seats)\n",
    "\n",
    "<b>Along the following dimensions:</b>\n",
    "- [ ] per connection\n",
    "- [ ] per airport\n",
    "- [ ] outgoing (from DE)\n",
    "- [ ] incoming (to DE)\n",
    "\n",
    "\n"
   ]
  },
  {
   "cell_type": "markdown",
   "metadata": {},
   "source": [
    "### Analysis"
   ]
  },
  {
   "cell_type": "markdown",
   "metadata": {},
   "source": [
    "#### Calculate utilization rate `util_rate` (passengers / seats)"
   ]
  },
  {
   "cell_type": "code",
   "execution_count": 8,
   "metadata": {},
   "outputs": [
    {
     "ename": "KeyError",
     "evalue": "'passengers'",
     "output_type": "error",
     "traceback": [
      "\u001b[0;31m---------------------------------------------------------------------------\u001b[0m",
      "\u001b[0;31mKeyError\u001b[0m                                  Traceback (most recent call last)",
      "\u001b[0;32m~/opt/anaconda3/envs/code_red/lib/python3.7/site-packages/pandas/core/indexes/base.py\u001b[0m in \u001b[0;36mget_loc\u001b[0;34m(self, key, method, tolerance)\u001b[0m\n\u001b[1;32m   2896\u001b[0m             \u001b[0;32mtry\u001b[0m\u001b[0;34m:\u001b[0m\u001b[0;34m\u001b[0m\u001b[0;34m\u001b[0m\u001b[0m\n\u001b[0;32m-> 2897\u001b[0;31m                 \u001b[0;32mreturn\u001b[0m \u001b[0mself\u001b[0m\u001b[0;34m.\u001b[0m\u001b[0m_engine\u001b[0m\u001b[0;34m.\u001b[0m\u001b[0mget_loc\u001b[0m\u001b[0;34m(\u001b[0m\u001b[0mkey\u001b[0m\u001b[0;34m)\u001b[0m\u001b[0;34m\u001b[0m\u001b[0;34m\u001b[0m\u001b[0m\n\u001b[0m\u001b[1;32m   2898\u001b[0m             \u001b[0;32mexcept\u001b[0m \u001b[0mKeyError\u001b[0m\u001b[0;34m:\u001b[0m\u001b[0;34m\u001b[0m\u001b[0;34m\u001b[0m\u001b[0m\n",
      "\u001b[0;32mpandas/_libs/index.pyx\u001b[0m in \u001b[0;36mpandas._libs.index.IndexEngine.get_loc\u001b[0;34m()\u001b[0m\n",
      "\u001b[0;32mpandas/_libs/index.pyx\u001b[0m in \u001b[0;36mpandas._libs.index.IndexEngine.get_loc\u001b[0;34m()\u001b[0m\n",
      "\u001b[0;32mpandas/_libs/hashtable_class_helper.pxi\u001b[0m in \u001b[0;36mpandas._libs.hashtable.PyObjectHashTable.get_item\u001b[0;34m()\u001b[0m\n",
      "\u001b[0;32mpandas/_libs/hashtable_class_helper.pxi\u001b[0m in \u001b[0;36mpandas._libs.hashtable.PyObjectHashTable.get_item\u001b[0;34m()\u001b[0m\n",
      "\u001b[0;31mKeyError\u001b[0m: 'passengers'",
      "\nDuring handling of the above exception, another exception occurred:\n",
      "\u001b[0;31mKeyError\u001b[0m                                  Traceback (most recent call last)",
      "\u001b[0;32m<ipython-input-8-a16624cfe3b8>\u001b[0m in \u001b[0;36m<module>\u001b[0;34m\u001b[0m\n\u001b[0;32m----> 1\u001b[0;31m \u001b[0mdf\u001b[0m \u001b[0;34m=\u001b[0m \u001b[0mdf\u001b[0m\u001b[0;34m.\u001b[0m\u001b[0massign\u001b[0m\u001b[0;34m(\u001b[0m\u001b[0mutil_rate\u001b[0m \u001b[0;34m=\u001b[0m \u001b[0mdf\u001b[0m\u001b[0;34m[\u001b[0m\u001b[0;34m'passengers'\u001b[0m\u001b[0;34m]\u001b[0m \u001b[0;34m/\u001b[0m \u001b[0mdf\u001b[0m\u001b[0;34m[\u001b[0m\u001b[0;34m'seats'\u001b[0m\u001b[0;34m]\u001b[0m\u001b[0;34m)\u001b[0m\u001b[0;34m\u001b[0m\u001b[0;34m\u001b[0m\u001b[0m\n\u001b[0m",
      "\u001b[0;32m~/opt/anaconda3/envs/code_red/lib/python3.7/site-packages/pandas/core/frame.py\u001b[0m in \u001b[0;36m__getitem__\u001b[0;34m(self, key)\u001b[0m\n\u001b[1;32m   2993\u001b[0m             \u001b[0;32mif\u001b[0m \u001b[0mself\u001b[0m\u001b[0;34m.\u001b[0m\u001b[0mcolumns\u001b[0m\u001b[0;34m.\u001b[0m\u001b[0mnlevels\u001b[0m \u001b[0;34m>\u001b[0m \u001b[0;36m1\u001b[0m\u001b[0;34m:\u001b[0m\u001b[0;34m\u001b[0m\u001b[0;34m\u001b[0m\u001b[0m\n\u001b[1;32m   2994\u001b[0m                 \u001b[0;32mreturn\u001b[0m \u001b[0mself\u001b[0m\u001b[0;34m.\u001b[0m\u001b[0m_getitem_multilevel\u001b[0m\u001b[0;34m(\u001b[0m\u001b[0mkey\u001b[0m\u001b[0;34m)\u001b[0m\u001b[0;34m\u001b[0m\u001b[0;34m\u001b[0m\u001b[0m\n\u001b[0;32m-> 2995\u001b[0;31m             \u001b[0mindexer\u001b[0m \u001b[0;34m=\u001b[0m \u001b[0mself\u001b[0m\u001b[0;34m.\u001b[0m\u001b[0mcolumns\u001b[0m\u001b[0;34m.\u001b[0m\u001b[0mget_loc\u001b[0m\u001b[0;34m(\u001b[0m\u001b[0mkey\u001b[0m\u001b[0;34m)\u001b[0m\u001b[0;34m\u001b[0m\u001b[0;34m\u001b[0m\u001b[0m\n\u001b[0m\u001b[1;32m   2996\u001b[0m             \u001b[0;32mif\u001b[0m \u001b[0mis_integer\u001b[0m\u001b[0;34m(\u001b[0m\u001b[0mindexer\u001b[0m\u001b[0;34m)\u001b[0m\u001b[0;34m:\u001b[0m\u001b[0;34m\u001b[0m\u001b[0;34m\u001b[0m\u001b[0m\n\u001b[1;32m   2997\u001b[0m                 \u001b[0mindexer\u001b[0m \u001b[0;34m=\u001b[0m \u001b[0;34m[\u001b[0m\u001b[0mindexer\u001b[0m\u001b[0;34m]\u001b[0m\u001b[0;34m\u001b[0m\u001b[0;34m\u001b[0m\u001b[0m\n",
      "\u001b[0;32m~/opt/anaconda3/envs/code_red/lib/python3.7/site-packages/pandas/core/indexes/base.py\u001b[0m in \u001b[0;36mget_loc\u001b[0;34m(self, key, method, tolerance)\u001b[0m\n\u001b[1;32m   2897\u001b[0m                 \u001b[0;32mreturn\u001b[0m \u001b[0mself\u001b[0m\u001b[0;34m.\u001b[0m\u001b[0m_engine\u001b[0m\u001b[0;34m.\u001b[0m\u001b[0mget_loc\u001b[0m\u001b[0;34m(\u001b[0m\u001b[0mkey\u001b[0m\u001b[0;34m)\u001b[0m\u001b[0;34m\u001b[0m\u001b[0;34m\u001b[0m\u001b[0m\n\u001b[1;32m   2898\u001b[0m             \u001b[0;32mexcept\u001b[0m \u001b[0mKeyError\u001b[0m\u001b[0;34m:\u001b[0m\u001b[0;34m\u001b[0m\u001b[0;34m\u001b[0m\u001b[0m\n\u001b[0;32m-> 2899\u001b[0;31m                 \u001b[0;32mreturn\u001b[0m \u001b[0mself\u001b[0m\u001b[0;34m.\u001b[0m\u001b[0m_engine\u001b[0m\u001b[0;34m.\u001b[0m\u001b[0mget_loc\u001b[0m\u001b[0;34m(\u001b[0m\u001b[0mself\u001b[0m\u001b[0;34m.\u001b[0m\u001b[0m_maybe_cast_indexer\u001b[0m\u001b[0;34m(\u001b[0m\u001b[0mkey\u001b[0m\u001b[0;34m)\u001b[0m\u001b[0;34m)\u001b[0m\u001b[0;34m\u001b[0m\u001b[0;34m\u001b[0m\u001b[0m\n\u001b[0m\u001b[1;32m   2900\u001b[0m         \u001b[0mindexer\u001b[0m \u001b[0;34m=\u001b[0m \u001b[0mself\u001b[0m\u001b[0;34m.\u001b[0m\u001b[0mget_indexer\u001b[0m\u001b[0;34m(\u001b[0m\u001b[0;34m[\u001b[0m\u001b[0mkey\u001b[0m\u001b[0;34m]\u001b[0m\u001b[0;34m,\u001b[0m \u001b[0mmethod\u001b[0m\u001b[0;34m=\u001b[0m\u001b[0mmethod\u001b[0m\u001b[0;34m,\u001b[0m \u001b[0mtolerance\u001b[0m\u001b[0;34m=\u001b[0m\u001b[0mtolerance\u001b[0m\u001b[0;34m)\u001b[0m\u001b[0;34m\u001b[0m\u001b[0;34m\u001b[0m\u001b[0m\n\u001b[1;32m   2901\u001b[0m         \u001b[0;32mif\u001b[0m \u001b[0mindexer\u001b[0m\u001b[0;34m.\u001b[0m\u001b[0mndim\u001b[0m \u001b[0;34m>\u001b[0m \u001b[0;36m1\u001b[0m \u001b[0;32mor\u001b[0m \u001b[0mindexer\u001b[0m\u001b[0;34m.\u001b[0m\u001b[0msize\u001b[0m \u001b[0;34m>\u001b[0m \u001b[0;36m1\u001b[0m\u001b[0;34m:\u001b[0m\u001b[0;34m\u001b[0m\u001b[0;34m\u001b[0m\u001b[0m\n",
      "\u001b[0;32mpandas/_libs/index.pyx\u001b[0m in \u001b[0;36mpandas._libs.index.IndexEngine.get_loc\u001b[0;34m()\u001b[0m\n",
      "\u001b[0;32mpandas/_libs/index.pyx\u001b[0m in \u001b[0;36mpandas._libs.index.IndexEngine.get_loc\u001b[0;34m()\u001b[0m\n",
      "\u001b[0;32mpandas/_libs/hashtable_class_helper.pxi\u001b[0m in \u001b[0;36mpandas._libs.hashtable.PyObjectHashTable.get_item\u001b[0;34m()\u001b[0m\n",
      "\u001b[0;32mpandas/_libs/hashtable_class_helper.pxi\u001b[0m in \u001b[0;36mpandas._libs.hashtable.PyObjectHashTable.get_item\u001b[0;34m()\u001b[0m\n",
      "\u001b[0;31mKeyError\u001b[0m: 'passengers'"
     ]
    }
   ],
   "source": [
    "df = df.assign(util_rate = df['passengers'] / df['seats'])"
   ]
  },
  {
   "cell_type": "code",
   "execution_count": null,
   "metadata": {},
   "outputs": [],
   "source": [
    "df['util_rate'].describe()"
   ]
  },
  {
   "cell_type": "code",
   "execution_count": null,
   "metadata": {},
   "outputs": [],
   "source": [
    "df['util_rate'].hist();"
   ]
  },
  {
   "cell_type": "code",
   "execution_count": null,
   "metadata": {},
   "outputs": [],
   "source": [
    "df.head()"
   ]
  },
  {
   "cell_type": "code",
   "execution_count": null,
   "metadata": {},
   "outputs": [],
   "source": [
    "df[cols].isna().sum()"
   ]
  },
  {
   "cell_type": "markdown",
   "metadata": {},
   "source": [
    "replace NaN values in `util_rate`"
   ]
  },
  {
   "cell_type": "code",
   "execution_count": null,
   "metadata": {},
   "outputs": [],
   "source": [
    "df['util_rate'] = df['util_rate'].fillna(0)"
   ]
  },
  {
   "cell_type": "markdown",
   "metadata": {},
   "source": [
    "#### Calculate `category`: international or national flight"
   ]
  },
  {
   "cell_type": "code",
   "execution_count": null,
   "metadata": {},
   "outputs": [],
   "source": [
    "df = df.assign(domestic=(df['fr_country'] == df['to_country']).astype(int)) "
   ]
  },
  {
   "cell_type": "markdown",
   "metadata": {},
   "source": [
    "#### Plot distributions"
   ]
  },
  {
   "cell_type": "code",
   "execution_count": null,
   "metadata": {},
   "outputs": [],
   "source": [
    "cols"
   ]
  },
  {
   "cell_type": "code",
   "execution_count": null,
   "metadata": {},
   "outputs": [],
   "source": [
    "fig, axes = plt.subplots(4, 1, figsize=(9,16))\n",
    "\n",
    "\n",
    "i = 0\n",
    "for ax in axes.flatten():\n",
    "    sns.distplot(df[cols[i]], ax=ax);\n",
    "    i+=1\n",
    "\n",
    "# fig.show()"
   ]
  },
  {
   "cell_type": "code",
   "execution_count": null,
   "metadata": {
    "scrolled": true
   },
   "outputs": [],
   "source": [
    "cols = ['date', 'flight', 'util_rate', 'num_flights', 'seats', 'passengers']\n",
    "\n",
    "df[cols]"
   ]
  },
  {
   "cell_type": "markdown",
   "metadata": {},
   "source": [
    "#### Aggregate by month: `df_month`"
   ]
  },
  {
   "cell_type": "code",
   "execution_count": null,
   "metadata": {},
   "outputs": [],
   "source": [
    "df_month = df[cols].groupby('date').agg({\n",
    "    'util_rate': 'mean',\n",
    "    'num_flights': 'sum',\n",
    "    'seats': 'sum',\n",
    "    'passengers': 'sum',\n",
    "})"
   ]
  },
  {
   "cell_type": "code",
   "execution_count": null,
   "metadata": {},
   "outputs": [],
   "source": [
    "df_month"
   ]
  },
  {
   "cell_type": "code",
   "execution_count": null,
   "metadata": {
    "scrolled": true
   },
   "outputs": [],
   "source": [
    "df_month = df_month.reset_index()\n",
    "df_month['date'] = pd.to_datetime(df_month['date'], format='%Y-%m-%d')"
   ]
  },
  {
   "cell_type": "code",
   "execution_count": null,
   "metadata": {},
   "outputs": [],
   "source": [
    "df_month.info()"
   ]
  },
  {
   "cell_type": "markdown",
   "metadata": {},
   "source": [
    "#### Deep-Dive: 2017-2018"
   ]
  },
  {
   "cell_type": "code",
   "execution_count": null,
   "metadata": {},
   "outputs": [],
   "source": [
    "df_month['date'][0].year"
   ]
  },
  {
   "cell_type": "code",
   "execution_count": null,
   "metadata": {},
   "outputs": [],
   "source": [
    "# df_grouped[df_grouped['date'].between(pd.to_datetime('2018-01-01', format='%Y-%m-%d'),pd.to_datetime('2017-01-01', format='%Y-%m-%d'))]\n",
    "\n",
    "df_month[df_month['date'].dt.year.between(2017, 2018)]\n",
    "\n"
   ]
  },
  {
   "cell_type": "code",
   "execution_count": null,
   "metadata": {},
   "outputs": [],
   "source": [
    "fig, axes = plt.subplots(4, 1, figsize=(12,14))\n",
    "\n",
    "start_year = 2018\n",
    "end_year = 2018\n",
    "\n",
    "sns.lineplot(data=df_month[df_month['date'].dt.year.between(start_year, end_year)], x='date', y='num_flights', ax=axes[0]);\n",
    "sns.lineplot(data=df_month[df_month['date'].dt.year.between(start_year, end_year)], x='date', y='seats', ax=axes[1]);\n",
    "sns.lineplot(data=df_month[df_month['date'].dt.year.between(start_year, end_year)], x='date', y='passengers', ax=axes[2]);\n",
    "sns.lineplot(data=df_month[df_month['date'].dt.year.between(start_year, end_year)], x='date', y='util_rate', ax=axes[3]);\n",
    "\n",
    "\n",
    "\n",
    "# df[['util_rate']].plot(ax = axes[0,1])\n",
    "\n",
    "# i = 0\n",
    "# for ax in axes.flatten():\n",
    "#     sns.lineplot(df_grouped, \n",
    "#                  # x='date',\n",
    "#                  y=cols[i],\n",
    "#                  ax=ax);\n",
    "#     i+=1"
   ]
  },
  {
   "cell_type": "markdown",
   "metadata": {},
   "source": [
    "#### Descriptive Statistics by Flight Connection"
   ]
  },
  {
   "cell_type": "code",
   "execution_count": null,
   "metadata": {},
   "outputs": [],
   "source": [
    "df.head(3)"
   ]
  },
  {
   "cell_type": "code",
   "execution_count": null,
   "metadata": {},
   "outputs": [],
   "source": [
    "cols"
   ]
  },
  {
   "cell_type": "code",
   "execution_count": null,
   "metadata": {},
   "outputs": [],
   "source": [
    "df_flight = df[cols].groupby('flight').agg({\n",
    "    'util_rate': 'mean',\n",
    "    'num_flights': 'sum',\n",
    "    'seats': 'sum',\n",
    "    'passengers': 'sum',\n",
    "})"
   ]
  },
  {
   "cell_type": "code",
   "execution_count": null,
   "metadata": {},
   "outputs": [],
   "source": [
    "df_flight.sort_values(by='num_flights', ascending=False)"
   ]
  },
  {
   "cell_type": "code",
   "execution_count": null,
   "metadata": {},
   "outputs": [],
   "source": [
    "df.to_airport.unique()"
   ]
  },
  {
   "cell_type": "markdown",
   "metadata": {},
   "source": [
    "#### Get geocode information"
   ]
  },
  {
   "cell_type": "code",
   "execution_count": null,
   "metadata": {},
   "outputs": [],
   "source": [
    "df_geo = pd.read_csv(path + 'world_airports.csv')"
   ]
  },
  {
   "cell_type": "code",
   "execution_count": null,
   "metadata": {},
   "outputs": [],
   "source": [
    "df_geo.head(500)"
   ]
  },
  {
   "cell_type": "code",
   "execution_count": null,
   "metadata": {},
   "outputs": [],
   "source": [
    "icao1 = 'AYGA'\n",
    "df_geo.loc[df_geo['icao'] == icao1, 'latitude'].iloc[0]"
   ]
  },
  {
   "cell_type": "code",
   "execution_count": null,
   "metadata": {},
   "outputs": [],
   "source": [
    "df_geo.loc[df_geo['icao'] == icao1, 'latitude'].iloc[0]"
   ]
  },
  {
   "cell_type": "code",
   "execution_count": null,
   "metadata": {},
   "outputs": [],
   "source": [
    "def get_distance(icao1, icao2):\n",
    "\n",
    "    try:\n",
    "        coord1 = df_geo.loc[df_geo['icao'] == icao1, 'latitude'].iloc[0], df_geo.loc[df_geo['icao'] == icao1, 'longitude'].iloc[0]\n",
    "        coord2 = df_geo.loc[df_geo['icao'] == icao2, 'latitude'].iloc[0], df_geo.loc[df_geo['icao'] == icao2, 'longitude'].iloc[0]\n",
    "        dist = geodesic(coord1, coord2).km\n",
    "\n",
    "    except:\n",
    "        dist = 0\n",
    "        print(icao1 + icao2)\n",
    "\n",
    "    return dist\n"
   ]
  },
  {
   "cell_type": "code",
   "execution_count": null,
   "metadata": {
    "scrolled": true
   },
   "outputs": [],
   "source": [
    "get_distance('AYGA', 'AYWK')"
   ]
  },
  {
   "cell_type": "code",
   "execution_count": null,
   "metadata": {},
   "outputs": [],
   "source": [
    "df_test = df.head(20).copy()"
   ]
  },
  {
   "cell_type": "code",
   "execution_count": null,
   "metadata": {},
   "outputs": [],
   "source": [
    "df_test"
   ]
  },
  {
   "cell_type": "code",
   "execution_count": null,
   "metadata": {},
   "outputs": [],
   "source": [
    "# df_test['distance'] = df_test.apply(lambda x: get_distance(x['fr_airport'], x['to_airport']), axis=1)"
   ]
  },
  {
   "cell_type": "code",
   "execution_count": null,
   "metadata": {},
   "outputs": [],
   "source": [
    "# df['distance'] = df.apply(lambda x: get_distance(x['fr_airport'], x['to_airport']), axis=1)"
   ]
  },
  {
   "cell_type": "code",
   "execution_count": null,
   "metadata": {},
   "outputs": [],
   "source": [
    "missing_airports = ['LSZM', 'LYPR', 'DTNZ', 'FAJS', 'HECA', 'GMAD']"
   ]
  },
  {
   "cell_type": "code",
   "execution_count": null,
   "metadata": {},
   "outputs": [],
   "source": [
    "df_geo[df_geo['icao'].isin(missing_airports)]['airport_id'].count()"
   ]
  },
  {
   "cell_type": "markdown",
   "metadata": {},
   "source": [
    "There are no entries in `df_geo` for the airports listed in `missing_airports`"
   ]
  },
  {
   "cell_type": "markdown",
   "metadata": {},
   "source": [
    "Check how many flights are affected by the missing airports:"
   ]
  },
  {
   "cell_type": "code",
   "execution_count": null,
   "metadata": {
    "scrolled": true
   },
   "outputs": [],
   "source": [
    "len(df[df['to_airport'].isin(missing_airports)])"
   ]
  },
  {
   "cell_type": "code",
   "execution_count": null,
   "metadata": {},
   "outputs": [],
   "source": [
    "len(df)"
   ]
  },
  {
   "cell_type": "code",
   "execution_count": null,
   "metadata": {
    "scrolled": true
   },
   "outputs": [],
   "source": [
    "len(df[df['to_airport'].isin(missing_airports)]) / len(df)"
   ]
  },
  {
   "cell_type": "markdown",
   "metadata": {},
   "source": [
    "Around 1% of flights are affected by the missing airports, so we will drop those rows for now...\n",
    "\n",
    "<b>TODO: There are more airports with missing lat-long data than only those listed above...</b>"
   ]
  },
  {
   "cell_type": "code",
   "execution_count": null,
   "metadata": {},
   "outputs": [],
   "source": [
    "df = df[~df['to_airport'].isin(missing_airports)]"
   ]
  },
  {
   "cell_type": "code",
   "execution_count": null,
   "metadata": {},
   "outputs": [],
   "source": [
    "df_geo[df_geo['icao'].eq('EDDK')]"
   ]
  },
  {
   "cell_type": "markdown",
   "metadata": {},
   "source": [
    "Get unique list of connections to pass into `get_distance` function"
   ]
  },
  {
   "cell_type": "code",
   "execution_count": null,
   "metadata": {},
   "outputs": [],
   "source": [
    "df.head(3)"
   ]
  },
  {
   "cell_type": "markdown",
   "metadata": {},
   "source": [
    "Create a dataframe with unique flight connections to calculate distances, otherwise it takes too long..."
   ]
  },
  {
   "cell_type": "code",
   "execution_count": null,
   "metadata": {},
   "outputs": [],
   "source": [
    "df_unique_conn = df.drop_duplicates(subset='flight').copy()"
   ]
  },
  {
   "cell_type": "code",
   "execution_count": null,
   "metadata": {},
   "outputs": [],
   "source": [
    "df_unique_conn.shape"
   ]
  },
  {
   "cell_type": "code",
   "execution_count": null,
   "metadata": {},
   "outputs": [],
   "source": [
    "df_unique_conn['distance'] = df_unique_conn.apply(lambda x: get_distance(x['fr_airport'], x['to_airport']), axis=1)"
   ]
  },
  {
   "cell_type": "code",
   "execution_count": null,
   "metadata": {},
   "outputs": [],
   "source": [
    "df_unique_conn.head()"
   ]
  },
  {
   "cell_type": "markdown",
   "metadata": {},
   "source": [
    "Merge distances back to df"
   ]
  },
  {
   "cell_type": "code",
   "execution_count": null,
   "metadata": {},
   "outputs": [],
   "source": [
    "df_with_dist = df.merge(df_unique_conn[['flight', 'distance']], how='left', on='flight')"
   ]
  },
  {
   "cell_type": "code",
   "execution_count": null,
   "metadata": {
    "scrolled": true
   },
   "outputs": [],
   "source": [
    "df_with_dist.head(50)"
   ]
  },
  {
   "cell_type": "code",
   "execution_count": null,
   "metadata": {},
   "outputs": [],
   "source": [
    "df_with_dist.describe()"
   ]
  },
  {
   "cell_type": "markdown",
   "metadata": {},
   "source": [
    "Note that there are flights with distance = 0. In these cases, the `to_airport` could not be found in `df_geo` and therefore the distance could not be calculated."
   ]
  },
  {
   "cell_type": "markdown",
   "metadata": {},
   "source": [
    "Drop rows with distance = 0"
   ]
  },
  {
   "cell_type": "code",
   "execution_count": null,
   "metadata": {},
   "outputs": [],
   "source": [
    "df_with_dist = df_with_dist[df_with_dist['distance'] > 0]"
   ]
  },
  {
   "cell_type": "code",
   "execution_count": null,
   "metadata": {},
   "outputs": [],
   "source": [
    "df_with_dist.to_csv(path + 'flight_data_de_with_distances.csv')"
   ]
  },
  {
   "cell_type": "markdown",
   "metadata": {},
   "source": [
    "#### testing random stuff..."
   ]
  },
  {
   "cell_type": "code",
   "execution_count": null,
   "metadata": {},
   "outputs": [],
   "source": [
    "df_test = df.copy()"
   ]
  },
  {
   "cell_type": "code",
   "execution_count": null,
   "metadata": {},
   "outputs": [],
   "source": [
    "df_test['lat'] = 45\n",
    "df_test['long'] = 8"
   ]
  },
  {
   "cell_type": "code",
   "execution_count": null,
   "metadata": {},
   "outputs": [],
   "source": [
    "df_test.head()"
   ]
  },
  {
   "cell_type": "code",
   "execution_count": null,
   "metadata": {
    "scrolled": true
   },
   "outputs": [],
   "source": [
    "for index, row in df_test[['lat', 'long']].head(10).iterrows():\n",
    "    coordinate = row['lat'], row['long']\n",
    "    print(coordinate)\n",
    "    print(type(coordinate))\n",
    "    print()"
   ]
  },
  {
   "cell_type": "markdown",
   "metadata": {},
   "source": [
    "#### Create df with distances"
   ]
  },
  {
   "cell_type": "code",
   "execution_count": 9,
   "metadata": {},
   "outputs": [],
   "source": [
    "df_dist = pd.read_csv(path + 'flight_data_de_with_distances.csv')"
   ]
  },
  {
   "cell_type": "code",
   "execution_count": 11,
   "metadata": {},
   "outputs": [],
   "source": [
    "df_dist = df_dist.iloc[:, 1:]"
   ]
  },
  {
   "cell_type": "code",
   "execution_count": 12,
   "metadata": {},
   "outputs": [
    {
     "data": {
      "text/html": [
       "<div>\n",
       "<style scoped>\n",
       "    .dataframe tbody tr th:only-of-type {\n",
       "        vertical-align: middle;\n",
       "    }\n",
       "\n",
       "    .dataframe tbody tr th {\n",
       "        vertical-align: top;\n",
       "    }\n",
       "\n",
       "    .dataframe thead th {\n",
       "        text-align: right;\n",
       "    }\n",
       "</style>\n",
       "<table border=\"1\" class=\"dataframe\">\n",
       "  <thead>\n",
       "    <tr style=\"text-align: right;\">\n",
       "      <th></th>\n",
       "      <th>flight</th>\n",
       "      <th>fr_country</th>\n",
       "      <th>fr_airport</th>\n",
       "      <th>to_country</th>\n",
       "      <th>to_airport</th>\n",
       "      <th>date</th>\n",
       "      <th>num_flights</th>\n",
       "      <th>seats</th>\n",
       "      <th>passengers</th>\n",
       "      <th>util_rate</th>\n",
       "      <th>domestic</th>\n",
       "      <th>distance</th>\n",
       "    </tr>\n",
       "  </thead>\n",
       "  <tbody>\n",
       "    <tr>\n",
       "      <th>0</th>\n",
       "      <td>DE_EDDB_BE_EBBR</td>\n",
       "      <td>DE</td>\n",
       "      <td>EDDB</td>\n",
       "      <td>BE</td>\n",
       "      <td>EBBR</td>\n",
       "      <td>2019-11-01</td>\n",
       "      <td>93.0</td>\n",
       "      <td>16309.0</td>\n",
       "      <td>14512.0</td>\n",
       "      <td>0.889815</td>\n",
       "      <td>0</td>\n",
       "      <td>646.455762</td>\n",
       "    </tr>\n",
       "    <tr>\n",
       "      <th>1</th>\n",
       "      <td>DE_EDDB_BG_LBSF</td>\n",
       "      <td>DE</td>\n",
       "      <td>EDDB</td>\n",
       "      <td>BG</td>\n",
       "      <td>LBSF</td>\n",
       "      <td>2019-11-01</td>\n",
       "      <td>52.0</td>\n",
       "      <td>9828.0</td>\n",
       "      <td>8940.0</td>\n",
       "      <td>0.909646</td>\n",
       "      <td>0</td>\n",
       "      <td>1306.358290</td>\n",
       "    </tr>\n",
       "    <tr>\n",
       "      <th>2</th>\n",
       "      <td>DE_EDDB_CH_LSGG</td>\n",
       "      <td>DE</td>\n",
       "      <td>EDDB</td>\n",
       "      <td>CH</td>\n",
       "      <td>LSGG</td>\n",
       "      <td>2019-11-01</td>\n",
       "      <td>104.0</td>\n",
       "      <td>15845.0</td>\n",
       "      <td>13302.0</td>\n",
       "      <td>0.839508</td>\n",
       "      <td>0</td>\n",
       "      <td>869.238264</td>\n",
       "    </tr>\n",
       "    <tr>\n",
       "      <th>3</th>\n",
       "      <td>DE_EDDB_DE_EDDK</td>\n",
       "      <td>DE</td>\n",
       "      <td>EDDB</td>\n",
       "      <td>DE</td>\n",
       "      <td>EDDK</td>\n",
       "      <td>2019-11-01</td>\n",
       "      <td>19.0</td>\n",
       "      <td>413.0</td>\n",
       "      <td>280.0</td>\n",
       "      <td>0.677966</td>\n",
       "      <td>1</td>\n",
       "      <td>472.646160</td>\n",
       "    </tr>\n",
       "    <tr>\n",
       "      <th>4</th>\n",
       "      <td>DE_EDDB_DK_EKCH</td>\n",
       "      <td>DE</td>\n",
       "      <td>EDDB</td>\n",
       "      <td>DK</td>\n",
       "      <td>EKCH</td>\n",
       "      <td>2019-11-01</td>\n",
       "      <td>126.0</td>\n",
       "      <td>20975.0</td>\n",
       "      <td>17203.0</td>\n",
       "      <td>0.820167</td>\n",
       "      <td>0</td>\n",
       "      <td>364.838246</td>\n",
       "    </tr>\n",
       "  </tbody>\n",
       "</table>\n",
       "</div>"
      ],
      "text/plain": [
       "            flight fr_country fr_airport to_country to_airport        date  \\\n",
       "0  DE_EDDB_BE_EBBR         DE       EDDB         BE       EBBR  2019-11-01   \n",
       "1  DE_EDDB_BG_LBSF         DE       EDDB         BG       LBSF  2019-11-01   \n",
       "2  DE_EDDB_CH_LSGG         DE       EDDB         CH       LSGG  2019-11-01   \n",
       "3  DE_EDDB_DE_EDDK         DE       EDDB         DE       EDDK  2019-11-01   \n",
       "4  DE_EDDB_DK_EKCH         DE       EDDB         DK       EKCH  2019-11-01   \n",
       "\n",
       "   num_flights    seats  passengers  util_rate  domestic     distance  \n",
       "0         93.0  16309.0     14512.0   0.889815         0   646.455762  \n",
       "1         52.0   9828.0      8940.0   0.909646         0  1306.358290  \n",
       "2        104.0  15845.0     13302.0   0.839508         0   869.238264  \n",
       "3         19.0    413.0       280.0   0.677966         1   472.646160  \n",
       "4        126.0  20975.0     17203.0   0.820167         0   364.838246  "
      ]
     },
     "execution_count": 12,
     "metadata": {},
     "output_type": "execute_result"
    }
   ],
   "source": [
    "df_dist.head()"
   ]
  },
  {
   "cell_type": "code",
   "execution_count": 13,
   "metadata": {},
   "outputs": [],
   "source": [
    "df_dist_2 = df_dist.drop_duplicates(subset='flight')"
   ]
  },
  {
   "cell_type": "code",
   "execution_count": 14,
   "metadata": {},
   "outputs": [
    {
     "data": {
      "text/html": [
       "<div>\n",
       "<style scoped>\n",
       "    .dataframe tbody tr th:only-of-type {\n",
       "        vertical-align: middle;\n",
       "    }\n",
       "\n",
       "    .dataframe tbody tr th {\n",
       "        vertical-align: top;\n",
       "    }\n",
       "\n",
       "    .dataframe thead th {\n",
       "        text-align: right;\n",
       "    }\n",
       "</style>\n",
       "<table border=\"1\" class=\"dataframe\">\n",
       "  <thead>\n",
       "    <tr style=\"text-align: right;\">\n",
       "      <th></th>\n",
       "      <th>flight</th>\n",
       "      <th>fr_country</th>\n",
       "      <th>fr_airport</th>\n",
       "      <th>to_country</th>\n",
       "      <th>to_airport</th>\n",
       "      <th>date</th>\n",
       "      <th>num_flights</th>\n",
       "      <th>seats</th>\n",
       "      <th>passengers</th>\n",
       "      <th>util_rate</th>\n",
       "      <th>domestic</th>\n",
       "      <th>distance</th>\n",
       "    </tr>\n",
       "  </thead>\n",
       "  <tbody>\n",
       "    <tr>\n",
       "      <th>0</th>\n",
       "      <td>DE_EDDB_BE_EBBR</td>\n",
       "      <td>DE</td>\n",
       "      <td>EDDB</td>\n",
       "      <td>BE</td>\n",
       "      <td>EBBR</td>\n",
       "      <td>2019-11-01</td>\n",
       "      <td>93.0</td>\n",
       "      <td>16309.0</td>\n",
       "      <td>14512.0</td>\n",
       "      <td>0.889815</td>\n",
       "      <td>0</td>\n",
       "      <td>646.455762</td>\n",
       "    </tr>\n",
       "    <tr>\n",
       "      <th>1</th>\n",
       "      <td>DE_EDDB_BG_LBSF</td>\n",
       "      <td>DE</td>\n",
       "      <td>EDDB</td>\n",
       "      <td>BG</td>\n",
       "      <td>LBSF</td>\n",
       "      <td>2019-11-01</td>\n",
       "      <td>52.0</td>\n",
       "      <td>9828.0</td>\n",
       "      <td>8940.0</td>\n",
       "      <td>0.909646</td>\n",
       "      <td>0</td>\n",
       "      <td>1306.358290</td>\n",
       "    </tr>\n",
       "    <tr>\n",
       "      <th>2</th>\n",
       "      <td>DE_EDDB_CH_LSGG</td>\n",
       "      <td>DE</td>\n",
       "      <td>EDDB</td>\n",
       "      <td>CH</td>\n",
       "      <td>LSGG</td>\n",
       "      <td>2019-11-01</td>\n",
       "      <td>104.0</td>\n",
       "      <td>15845.0</td>\n",
       "      <td>13302.0</td>\n",
       "      <td>0.839508</td>\n",
       "      <td>0</td>\n",
       "      <td>869.238264</td>\n",
       "    </tr>\n",
       "    <tr>\n",
       "      <th>3</th>\n",
       "      <td>DE_EDDB_DE_EDDK</td>\n",
       "      <td>DE</td>\n",
       "      <td>EDDB</td>\n",
       "      <td>DE</td>\n",
       "      <td>EDDK</td>\n",
       "      <td>2019-11-01</td>\n",
       "      <td>19.0</td>\n",
       "      <td>413.0</td>\n",
       "      <td>280.0</td>\n",
       "      <td>0.677966</td>\n",
       "      <td>1</td>\n",
       "      <td>472.646160</td>\n",
       "    </tr>\n",
       "    <tr>\n",
       "      <th>4</th>\n",
       "      <td>DE_EDDB_DK_EKCH</td>\n",
       "      <td>DE</td>\n",
       "      <td>EDDB</td>\n",
       "      <td>DK</td>\n",
       "      <td>EKCH</td>\n",
       "      <td>2019-11-01</td>\n",
       "      <td>126.0</td>\n",
       "      <td>20975.0</td>\n",
       "      <td>17203.0</td>\n",
       "      <td>0.820167</td>\n",
       "      <td>0</td>\n",
       "      <td>364.838246</td>\n",
       "    </tr>\n",
       "  </tbody>\n",
       "</table>\n",
       "</div>"
      ],
      "text/plain": [
       "            flight fr_country fr_airport to_country to_airport        date  \\\n",
       "0  DE_EDDB_BE_EBBR         DE       EDDB         BE       EBBR  2019-11-01   \n",
       "1  DE_EDDB_BG_LBSF         DE       EDDB         BG       LBSF  2019-11-01   \n",
       "2  DE_EDDB_CH_LSGG         DE       EDDB         CH       LSGG  2019-11-01   \n",
       "3  DE_EDDB_DE_EDDK         DE       EDDB         DE       EDDK  2019-11-01   \n",
       "4  DE_EDDB_DK_EKCH         DE       EDDB         DK       EKCH  2019-11-01   \n",
       "\n",
       "   num_flights    seats  passengers  util_rate  domestic     distance  \n",
       "0         93.0  16309.0     14512.0   0.889815         0   646.455762  \n",
       "1         52.0   9828.0      8940.0   0.909646         0  1306.358290  \n",
       "2        104.0  15845.0     13302.0   0.839508         0   869.238264  \n",
       "3         19.0    413.0       280.0   0.677966         1   472.646160  \n",
       "4        126.0  20975.0     17203.0   0.820167         0   364.838246  "
      ]
     },
     "execution_count": 14,
     "metadata": {},
     "output_type": "execute_result"
    }
   ],
   "source": [
    "df_dist_2.head()"
   ]
  },
  {
   "cell_type": "code",
   "execution_count": 15,
   "metadata": {},
   "outputs": [],
   "source": [
    "df_dist_3 = df_dist_2[['flight', 'distance']].copy()"
   ]
  },
  {
   "cell_type": "code",
   "execution_count": 16,
   "metadata": {},
   "outputs": [],
   "source": [
    "df_dist_3.to_csv(path + 'flight_data_de_with_distances_v2.csv')"
   ]
  }
 ],
 "metadata": {
  "kernelspec": {
   "display_name": "Python 3",
   "language": "python",
   "name": "python3"
  },
  "language_info": {
   "codemirror_mode": {
    "name": "ipython",
    "version": 3
   },
   "file_extension": ".py",
   "mimetype": "text/x-python",
   "name": "python",
   "nbconvert_exporter": "python",
   "pygments_lexer": "ipython3",
   "version": "3.7.5"
  }
 },
 "nbformat": 4,
 "nbformat_minor": 2
}
