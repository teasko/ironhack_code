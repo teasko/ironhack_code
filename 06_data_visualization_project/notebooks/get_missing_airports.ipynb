{
 "cells": [
  {
   "cell_type": "markdown",
   "metadata": {},
   "source": [
    "# ICAO airport codes not matching between routes and geolocation\n",
    "\n",
    "Getting 2 data sets: flight routes (from airport to airport) and geo location (lat,long) of airports in the world, it has been detected inconsistency, meaning: not every airport in the \"routes\" is found in \"geo\"\n",
    "\n",
    "In order to progress, we define a function which calculates the percentage of routes affected out of the total amount of routes and returns a list with the specific airports code missing\n",
    "\n",
    "It would be possible to inspect one by one the every airport.\n",
    "\n",
    "This notebook take example of Germany.\n",
    "\n",
    "So steps:\n",
    "\n",
    "- Definition of function calculating missing airports\n",
    "\n",
    "- Apply function to sample from Germany\n",
    "\n",
    "- Dictionary of Airports\n",
    "\n",
    "Some airports were found in the Geo file with other code. For whatevery reason, some airports has changed the ICAO code or have 2 differents.\n",
    "Some airports were not found"
   ]
  },
  {
   "cell_type": "code",
   "execution_count": 1,
   "metadata": {},
   "outputs": [],
   "source": [
    "import pandas as pd\n",
    "\n",
    "pd.set_option('display.max_rows', 10)"
   ]
  },
  {
   "cell_type": "markdown",
   "metadata": {},
   "source": [
    "### Definition of function\n"
   ]
  },
  {
   "cell_type": "code",
   "execution_count": 2,
   "metadata": {},
   "outputs": [],
   "source": [
    "# Function which calculates percentage of routes affected by \"missing\" airports\n",
    "# Consider routes are aggregated by months in the original source, \n",
    "# meaning the same route along a year will appear 12 times vs routes active only 1 month \n",
    "# This is important for estimate the impact of the percentage, \n",
    "# since typically routes with missing airport are not very regular destinations\n",
    "\n",
    "def missing_airports(routes, geo):\n",
    "    # series of from/to airports & and available in geo\n",
    "    fr_a = routes.fr_airport\n",
    "    to_a = routes.to_airport\n",
    "    airp = geo.icao\n",
    "    # Check amount of false value. airports not matched\n",
    "    fr_check = fr_a.isin(airp)\n",
    "    to_check = to_a.isin(airp)\n",
    "    print(\"percentage of missing 'from airports' routes out of the total routes \", round(len(routes.iloc[list(fr_check[fr_check == False].index)].fr_airport)/len(routes),4))\n",
    "    print(\"percentage of missing 'to airports' routes out of the total routes \", round(len(routes.iloc[list(to_check[to_check == False].index)].to_airport)/len(routes),4))\n",
    "    # airports affected \"From airports\"\n",
    "    missing_fr_airports = routes.iloc[list(fr_check[fr_check == False].index)].fr_airport.unique()\n",
    "    # airports affected \"To airports\"\n",
    "    missing_to_airports = routes.iloc[list(to_check[to_check == False].index)].to_airport.unique()\n",
    "    return list(missing_fr_airports) + list(missing_to_airports)\n"
   ]
  },
  {
   "cell_type": "markdown",
   "metadata": {},
   "source": [
    "### Apply function to sample from Germany"
   ]
  },
  {
   "cell_type": "code",
   "execution_count": 4,
   "metadata": {},
   "outputs": [],
   "source": [
    "# import routes from Germany and geo location\n",
    "path = '../data/'\n",
    "geo = pd.read_csv(path + \"world_airports.csv\")\n",
    "routes = pd.read_csv(path + \"flight_data_de.csv\")\n"
   ]
  },
  {
   "cell_type": "code",
   "execution_count": 5,
   "metadata": {},
   "outputs": [
    {
     "name": "stdout",
     "output_type": "stream",
     "text": [
      "percentage of missing 'from airports' routes out of the total routes  0.0001\n",
      "percentage of missing 'to airports' routes out of the total routes  0.0193\n"
     ]
    },
    {
     "data": {
      "text/plain": [
       "['ED00',\n",
       " 'LSZM',\n",
       " 'LYPR',\n",
       " 'FAJS',\n",
       " 'DTNZ',\n",
       " 'SABA',\n",
       " 'CUUP',\n",
       " 'ZSSA',\n",
       " 'RJNN',\n",
       " 'GMMC',\n",
       " 'OR99',\n",
       " 'UAFF',\n",
       " 'OT99',\n",
       " 'K999',\n",
       " 'EN00',\n",
       " 'ED99',\n",
       " 'LECP',\n",
       " 'ENOS',\n",
       " 'LIVT',\n",
       " 'LPFU',\n",
       " 'ES99',\n",
       " 'ESMM']"
      ]
     },
     "execution_count": 5,
     "metadata": {},
     "output_type": "execute_result"
    }
   ],
   "source": [
    "missing_airports(routes, geo)"
   ]
  },
  {
   "cell_type": "markdown",
   "metadata": {},
   "source": [
    "### Dictionary of airports\n",
    "\n",
    "Some airports were found in the Geo file with other code. For whatever reason, some airports has changed the ICAO code or have 2 differents. After manual search, those found are stored in a dictionary\n",
    "- key: ICAO airport code in the route \"missing value\"\n",
    "- value: ICAO airport code identified as equivalent in the geo file\n",
    "\n",
    "replacing or adding this elements will decrease the percent of missing values\n",
    "\n",
    "in the example of Germany, 10 airports were found and 11 not, which stay in a list"
   ]
  },
  {
   "cell_type": "code",
   "execution_count": 6,
   "metadata": {},
   "outputs": [],
   "source": [
    "# dictionary to those found\n",
    "\n",
    "icao_dict = {\"SABA\":\"TNCS\", # Saba, Netherland antilles\n",
    "             \"LSZM\":\"LFSB\", # Basel, Switzerland\n",
    "             \"BKPR\":\"LYPR\", # Pristina, Kosovo\n",
    "             \"FAOR\":\"FAJS\", # Johannesburg, SouthAfrica\n",
    "             \"DTNH\":\"DTNZ\", # Enfidha, Tunisia\n",
    "             \"ZSSA\":\"ZSSS\", # Hongqiao, China\n",
    "             \"RJNN\":\"RJNA\", # Nagoya, Japan\n",
    "             \"GMMC\":\"CMMN\", # Casablanca, Morocco\n",
    "             \"LECP\":\"LEPA\", # Palma de Mallorca, Spain\n",
    "             \"ENOS\":\"ENGM\", # Oslo, Norway\n",
    "             \"LPFU\":\"LPMA\"} # Madeira, Portugal\n",
    "\n",
    "\n",
    "# list of those not found\n",
    "\n",
    "icao_not_found = [\"ED00\", # somewhere in Germany\n",
    "                  \"CUUP\", # somewhere in Canada\n",
    "                  \"OR99\", # somewhere in Iraq\n",
    "                  \"UAFF\", # somewhere in Kyrgyzstan\n",
    "                  \"OT99\", # somewhere in Qatar\n",
    "                  \"K999\", # somewhere in USA\n",
    "                  \"EN00\", # somewhere in Norway\n",
    "                  \"ED99\", # somewhere in Germany\n",
    "                  \"LIVT\", # somewhere in Italy\n",
    "                  \"ES99\", # somewhare in Sweden\n",
    "                  \"ESMM\"] # somewhere in Sweden"
   ]
  }
 ],
 "metadata": {
  "kernelspec": {
   "display_name": "Python 3",
   "language": "python",
   "name": "python3"
  },
  "language_info": {
   "codemirror_mode": {
    "name": "ipython",
    "version": 3
   },
   "file_extension": ".py",
   "mimetype": "text/x-python",
   "name": "python",
   "nbconvert_exporter": "python",
   "pygments_lexer": "ipython3",
   "version": "3.7.5"
  }
 },
 "nbformat": 4,
 "nbformat_minor": 2
}
