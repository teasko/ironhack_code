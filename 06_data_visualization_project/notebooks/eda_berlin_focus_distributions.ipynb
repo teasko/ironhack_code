{
 "cells": [
  {
   "cell_type": "markdown",
   "metadata": {},
   "source": [
    "## Focus in comparison distribution of distances and utilisation\n",
    "\n",
    "After EDA Berlin, we decided to focus in this two graphs"
   ]
  },
  {
   "cell_type": "code",
   "execution_count": 1,
   "metadata": {},
   "outputs": [],
   "source": [
    "import pandas as pd\n",
    "import numpy as np\n",
    "import seaborn as sns\n",
    "import matplotlib.pyplot as plt\n",
    "\n",
    "\n",
    "pd.options.display.max_columns = None\n",
    "pd.options.display.max_rows = 100\n",
    "\n",
    "%matplotlib inline"
   ]
  },
  {
   "cell_type": "markdown",
   "metadata": {},
   "source": [
    "Already done in previous notebook\n",
    "\n",
    "#### Import and preparating data"
   ]
  },
  {
   "cell_type": "code",
   "execution_count": 2,
   "metadata": {},
   "outputs": [],
   "source": [
    "path = '../data/'"
   ]
  },
  {
   "cell_type": "code",
   "execution_count": 3,
   "metadata": {},
   "outputs": [],
   "source": [
    "distance = pd.read_csv(path + \"flight_data_de_with_distances_v2.csv\")\n",
    "routes = pd.read_csv(path + \"flight_data_de.csv\")"
   ]
  },
  {
   "cell_type": "code",
   "execution_count": 4,
   "metadata": {},
   "outputs": [],
   "source": [
    "# drop uncomfortable column\n",
    "distance = distance.drop(columns=[\"Unnamed: 0\"])"
   ]
  },
  {
   "cell_type": "code",
   "execution_count": 5,
   "metadata": {},
   "outputs": [],
   "source": [
    "# missing info in distances for Berlin routes\n",
    "missing_routes=[{\"DE_EDDB_NO_ENOS\":875.286425,\n",
    "                 \"DE_EDDB_CH_LSZM\":684.067803, \n",
    "                 \"DE_EDDT_CH_LSZM\":689.0904, \n",
    "                 \"DE_EDDT_ES_LECP\":1656.439537,\n",
    "                 \"DE_EDDB_ES_LECP\":1648.743229}]"
   ]
  },
  {
   "cell_type": "code",
   "execution_count": 6,
   "metadata": {},
   "outputs": [],
   "source": [
    "# create dataframe\n",
    "missing_distances = (pd.DataFrame(missing_routes)\n",
    "                     .transpose()\n",
    "                     .reset_index()\n",
    "                     .rename(columns={\"index\":\"flight\", 0:\"distance\"}))"
   ]
  },
  {
   "cell_type": "code",
   "execution_count": 7,
   "metadata": {},
   "outputs": [],
   "source": [
    "# add those routes to the distance file\n",
    "distance = distance.append(missing_distances, ignore_index = True)"
   ]
  },
  {
   "cell_type": "code",
   "execution_count": 8,
   "metadata": {},
   "outputs": [],
   "source": [
    "# subset routes from Berlin (TXL and SXF)\n",
    "routes_b = routes.loc[(routes[\"fr_airport\"] == \"EDDB\")|(routes[\"fr_airport\"] == \"EDDT\")]"
   ]
  },
  {
   "cell_type": "code",
   "execution_count": 9,
   "metadata": {},
   "outputs": [],
   "source": [
    "# merge routes_b with distance to add the information\n",
    "routes_b = routes_b.merge(distance, left_on=\"route\", right_on=\"flight\", how=\"left\")"
   ]
  },
  {
   "cell_type": "code",
   "execution_count": 10,
   "metadata": {},
   "outputs": [],
   "source": [
    "# drop repeated column \"flight\" column\n",
    "routes_b = routes_b.drop(columns=[\"flight\"])"
   ]
  },
  {
   "cell_type": "code",
   "execution_count": 11,
   "metadata": {},
   "outputs": [
    {
     "data": {
      "text/html": [
       "<div>\n",
       "<style scoped>\n",
       "    .dataframe tbody tr th:only-of-type {\n",
       "        vertical-align: middle;\n",
       "    }\n",
       "\n",
       "    .dataframe tbody tr th {\n",
       "        vertical-align: top;\n",
       "    }\n",
       "\n",
       "    .dataframe thead th {\n",
       "        text-align: right;\n",
       "    }\n",
       "</style>\n",
       "<table border=\"1\" class=\"dataframe\">\n",
       "  <thead>\n",
       "    <tr style=\"text-align: right;\">\n",
       "      <th></th>\n",
       "      <th>route</th>\n",
       "      <th>fr_country</th>\n",
       "      <th>fr_airport</th>\n",
       "      <th>to_country</th>\n",
       "      <th>to_airport</th>\n",
       "      <th>month</th>\n",
       "      <th>flight_d</th>\n",
       "      <th>seat_d</th>\n",
       "      <th>passenger_d</th>\n",
       "      <th>distance</th>\n",
       "    </tr>\n",
       "  </thead>\n",
       "  <tbody>\n",
       "    <tr>\n",
       "      <th>1088</th>\n",
       "      <td>DE_EDDB_AT_LOWW</td>\n",
       "      <td>DE</td>\n",
       "      <td>EDDB</td>\n",
       "      <td>AT</td>\n",
       "      <td>LOWW</td>\n",
       "      <td>2018-12-01</td>\n",
       "      <td>33.0</td>\n",
       "      <td>4512.0</td>\n",
       "      <td>2904.0</td>\n",
       "      <td>522.191804</td>\n",
       "    </tr>\n",
       "    <tr>\n",
       "      <th>1089</th>\n",
       "      <td>DE_EDDB_BE_EBBR</td>\n",
       "      <td>DE</td>\n",
       "      <td>EDDB</td>\n",
       "      <td>BE</td>\n",
       "      <td>EBBR</td>\n",
       "      <td>2018-12-01</td>\n",
       "      <td>39.0</td>\n",
       "      <td>7371.0</td>\n",
       "      <td>6790.0</td>\n",
       "      <td>646.455762</td>\n",
       "    </tr>\n",
       "    <tr>\n",
       "      <th>1090</th>\n",
       "      <td>DE_EDDB_BG_LBSF</td>\n",
       "      <td>DE</td>\n",
       "      <td>EDDB</td>\n",
       "      <td>BG</td>\n",
       "      <td>LBSF</td>\n",
       "      <td>2018-12-01</td>\n",
       "      <td>34.0</td>\n",
       "      <td>6060.0</td>\n",
       "      <td>5701.0</td>\n",
       "      <td>1306.358290</td>\n",
       "    </tr>\n",
       "    <tr>\n",
       "      <th>1091</th>\n",
       "      <td>DE_EDDB_CH_LSGG</td>\n",
       "      <td>DE</td>\n",
       "      <td>EDDB</td>\n",
       "      <td>CH</td>\n",
       "      <td>LSGG</td>\n",
       "      <td>2018-12-01</td>\n",
       "      <td>62.0</td>\n",
       "      <td>9557.0</td>\n",
       "      <td>7980.0</td>\n",
       "      <td>869.238264</td>\n",
       "    </tr>\n",
       "    <tr>\n",
       "      <th>1092</th>\n",
       "      <td>DE_EDDB_CH_LSZH</td>\n",
       "      <td>DE</td>\n",
       "      <td>EDDB</td>\n",
       "      <td>CH</td>\n",
       "      <td>LSZH</td>\n",
       "      <td>2018-12-01</td>\n",
       "      <td>5.0</td>\n",
       "      <td>54.0</td>\n",
       "      <td>14.0</td>\n",
       "      <td>652.679807</td>\n",
       "    </tr>\n",
       "    <tr>\n",
       "      <th>...</th>\n",
       "      <td>...</td>\n",
       "      <td>...</td>\n",
       "      <td>...</td>\n",
       "      <td>...</td>\n",
       "      <td>...</td>\n",
       "      <td>...</td>\n",
       "      <td>...</td>\n",
       "      <td>...</td>\n",
       "      <td>...</td>\n",
       "      <td>...</td>\n",
       "    </tr>\n",
       "    <tr>\n",
       "      <th>2239</th>\n",
       "      <td>DE_EDDT_UA_UKBB</td>\n",
       "      <td>DE</td>\n",
       "      <td>EDDT</td>\n",
       "      <td>UA</td>\n",
       "      <td>UKBB</td>\n",
       "      <td>2018-01-01</td>\n",
       "      <td>32.0</td>\n",
       "      <td>5874.0</td>\n",
       "      <td>2565.0</td>\n",
       "      <td>1245.145555</td>\n",
       "    </tr>\n",
       "    <tr>\n",
       "      <th>2240</th>\n",
       "      <td>DE_EDDT_UK_EGLC</td>\n",
       "      <td>DE</td>\n",
       "      <td>EDDT</td>\n",
       "      <td>UK</td>\n",
       "      <td>EGLC</td>\n",
       "      <td>2018-01-01</td>\n",
       "      <td>64.0</td>\n",
       "      <td>5942.0</td>\n",
       "      <td>4128.0</td>\n",
       "      <td>914.343880</td>\n",
       "    </tr>\n",
       "    <tr>\n",
       "      <th>2241</th>\n",
       "      <td>DE_EDDT_UK_EGLL</td>\n",
       "      <td>DE</td>\n",
       "      <td>EDDT</td>\n",
       "      <td>UK</td>\n",
       "      <td>EGLL</td>\n",
       "      <td>2018-01-01</td>\n",
       "      <td>274.0</td>\n",
       "      <td>42576.0</td>\n",
       "      <td>27121.0</td>\n",
       "      <td>950.244024</td>\n",
       "    </tr>\n",
       "    <tr>\n",
       "      <th>2242</th>\n",
       "      <td>DE_EDDT_US_KEWR</td>\n",
       "      <td>DE</td>\n",
       "      <td>EDDT</td>\n",
       "      <td>US</td>\n",
       "      <td>KEWR</td>\n",
       "      <td>2018-01-01</td>\n",
       "      <td>18.0</td>\n",
       "      <td>3821.0</td>\n",
       "      <td>2810.0</td>\n",
       "      <td>6404.820906</td>\n",
       "    </tr>\n",
       "    <tr>\n",
       "      <th>2243</th>\n",
       "      <td>DE_EDDT_US_KJFK</td>\n",
       "      <td>DE</td>\n",
       "      <td>EDDT</td>\n",
       "      <td>US</td>\n",
       "      <td>KJFK</td>\n",
       "      <td>2018-01-01</td>\n",
       "      <td>18.0</td>\n",
       "      <td>3888.0</td>\n",
       "      <td>1868.0</td>\n",
       "      <td>6385.094483</td>\n",
       "    </tr>\n",
       "  </tbody>\n",
       "</table>\n",
       "<p>1156 rows × 10 columns</p>\n",
       "</div>"
      ],
      "text/plain": [
       "                route fr_country fr_airport to_country to_airport       month  \\\n",
       "1088  DE_EDDB_AT_LOWW         DE       EDDB         AT       LOWW  2018-12-01   \n",
       "1089  DE_EDDB_BE_EBBR         DE       EDDB         BE       EBBR  2018-12-01   \n",
       "1090  DE_EDDB_BG_LBSF         DE       EDDB         BG       LBSF  2018-12-01   \n",
       "1091  DE_EDDB_CH_LSGG         DE       EDDB         CH       LSGG  2018-12-01   \n",
       "1092  DE_EDDB_CH_LSZH         DE       EDDB         CH       LSZH  2018-12-01   \n",
       "...               ...        ...        ...        ...        ...         ...   \n",
       "2239  DE_EDDT_UA_UKBB         DE       EDDT         UA       UKBB  2018-01-01   \n",
       "2240  DE_EDDT_UK_EGLC         DE       EDDT         UK       EGLC  2018-01-01   \n",
       "2241  DE_EDDT_UK_EGLL         DE       EDDT         UK       EGLL  2018-01-01   \n",
       "2242  DE_EDDT_US_KEWR         DE       EDDT         US       KEWR  2018-01-01   \n",
       "2243  DE_EDDT_US_KJFK         DE       EDDT         US       KJFK  2018-01-01   \n",
       "\n",
       "      flight_d   seat_d  passenger_d     distance  \n",
       "1088      33.0   4512.0       2904.0   522.191804  \n",
       "1089      39.0   7371.0       6790.0   646.455762  \n",
       "1090      34.0   6060.0       5701.0  1306.358290  \n",
       "1091      62.0   9557.0       7980.0   869.238264  \n",
       "1092       5.0     54.0         14.0   652.679807  \n",
       "...        ...      ...          ...          ...  \n",
       "2239      32.0   5874.0       2565.0  1245.145555  \n",
       "2240      64.0   5942.0       4128.0   914.343880  \n",
       "2241     274.0  42576.0      27121.0   950.244024  \n",
       "2242      18.0   3821.0       2810.0  6404.820906  \n",
       "2243      18.0   3888.0       1868.0  6385.094483  \n",
       "\n",
       "[1156 rows x 10 columns]"
      ]
     },
     "execution_count": 11,
     "metadata": {},
     "output_type": "execute_result"
    }
   ],
   "source": [
    "# subset routes from Berlin in 2018\n",
    "routes_b_2018 = routes_b[(routes_b[\"month\"] > \"2017-12-01\") & (routes_b[\"month\"] < \"2019-01-01\")]\n",
    "routes_b_2018"
   ]
  },
  {
   "cell_type": "markdown",
   "metadata": {},
   "source": [
    "## TXL vs SXF : distribution of the distance"
   ]
  },
  {
   "cell_type": "code",
   "execution_count": 12,
   "metadata": {},
   "outputs": [
    {
     "data": {
      "text/html": [
       "<div>\n",
       "<style scoped>\n",
       "    .dataframe tbody tr th:only-of-type {\n",
       "        vertical-align: middle;\n",
       "    }\n",
       "\n",
       "    .dataframe tbody tr th {\n",
       "        vertical-align: top;\n",
       "    }\n",
       "\n",
       "    .dataframe thead th {\n",
       "        text-align: right;\n",
       "    }\n",
       "</style>\n",
       "<table border=\"1\" class=\"dataframe\">\n",
       "  <thead>\n",
       "    <tr style=\"text-align: right;\">\n",
       "      <th></th>\n",
       "      <th>flight_d</th>\n",
       "      <th>seat_d</th>\n",
       "      <th>passenger_d</th>\n",
       "      <th>distance</th>\n",
       "    </tr>\n",
       "  </thead>\n",
       "  <tbody>\n",
       "    <tr>\n",
       "      <th>count</th>\n",
       "      <td>576.000000</td>\n",
       "      <td>576.000000</td>\n",
       "      <td>576.000000</td>\n",
       "      <td>576.000000</td>\n",
       "    </tr>\n",
       "    <tr>\n",
       "      <th>mean</th>\n",
       "      <td>138.178819</td>\n",
       "      <td>22876.015625</td>\n",
       "      <td>17116.232639</td>\n",
       "      <td>1684.857129</td>\n",
       "    </tr>\n",
       "    <tr>\n",
       "      <th>std</th>\n",
       "      <td>171.066153</td>\n",
       "      <td>28910.906407</td>\n",
       "      <td>21190.016007</td>\n",
       "      <td>1567.519847</td>\n",
       "    </tr>\n",
       "    <tr>\n",
       "      <th>min</th>\n",
       "      <td>1.000000</td>\n",
       "      <td>8.000000</td>\n",
       "      <td>1.000000</td>\n",
       "      <td>342.894486</td>\n",
       "    </tr>\n",
       "    <tr>\n",
       "      <th>25%</th>\n",
       "      <td>31.000000</td>\n",
       "      <td>5586.000000</td>\n",
       "      <td>4341.500000</td>\n",
       "      <td>654.052562</td>\n",
       "    </tr>\n",
       "    <tr>\n",
       "      <th>50%</th>\n",
       "      <td>64.000000</td>\n",
       "      <td>9405.500000</td>\n",
       "      <td>7377.500000</td>\n",
       "      <td>1121.329637</td>\n",
       "    </tr>\n",
       "    <tr>\n",
       "      <th>75%</th>\n",
       "      <td>142.000000</td>\n",
       "      <td>26176.250000</td>\n",
       "      <td>20282.500000</td>\n",
       "      <td>1914.292295</td>\n",
       "    </tr>\n",
       "    <tr>\n",
       "      <th>max</th>\n",
       "      <td>824.000000</td>\n",
       "      <td>148625.000000</td>\n",
       "      <td>113748.000000</td>\n",
       "      <td>7376.329350</td>\n",
       "    </tr>\n",
       "  </tbody>\n",
       "</table>\n",
       "</div>"
      ],
      "text/plain": [
       "         flight_d         seat_d    passenger_d     distance\n",
       "count  576.000000     576.000000     576.000000   576.000000\n",
       "mean   138.178819   22876.015625   17116.232639  1684.857129\n",
       "std    171.066153   28910.906407   21190.016007  1567.519847\n",
       "min      1.000000       8.000000       1.000000   342.894486\n",
       "25%     31.000000    5586.000000    4341.500000   654.052562\n",
       "50%     64.000000    9405.500000    7377.500000  1121.329637\n",
       "75%    142.000000   26176.250000   20282.500000  1914.292295\n",
       "max    824.000000  148625.000000  113748.000000  7376.329350"
      ]
     },
     "execution_count": 12,
     "metadata": {},
     "output_type": "execute_result"
    }
   ],
   "source": [
    "# TXL\n",
    "routes_b_2018.loc[routes_b_2018[\"fr_airport\"] == \"EDDT\"].describe()"
   ]
  },
  {
   "cell_type": "code",
   "execution_count": 13,
   "metadata": {},
   "outputs": [
    {
     "data": {
      "text/html": [
       "<div>\n",
       "<style scoped>\n",
       "    .dataframe tbody tr th:only-of-type {\n",
       "        vertical-align: middle;\n",
       "    }\n",
       "\n",
       "    .dataframe tbody tr th {\n",
       "        vertical-align: top;\n",
       "    }\n",
       "\n",
       "    .dataframe thead th {\n",
       "        text-align: right;\n",
       "    }\n",
       "</style>\n",
       "<table border=\"1\" class=\"dataframe\">\n",
       "  <thead>\n",
       "    <tr style=\"text-align: right;\">\n",
       "      <th></th>\n",
       "      <th>flight_d</th>\n",
       "      <th>seat_d</th>\n",
       "      <th>passenger_d</th>\n",
       "      <th>distance</th>\n",
       "    </tr>\n",
       "  </thead>\n",
       "  <tbody>\n",
       "    <tr>\n",
       "      <th>count</th>\n",
       "      <td>580.000000</td>\n",
       "      <td>580.000000</td>\n",
       "      <td>580.000000</td>\n",
       "      <td>580.000000</td>\n",
       "    </tr>\n",
       "    <tr>\n",
       "      <th>mean</th>\n",
       "      <td>58.396552</td>\n",
       "      <td>10020.772414</td>\n",
       "      <td>8626.641379</td>\n",
       "      <td>1293.535896</td>\n",
       "    </tr>\n",
       "    <tr>\n",
       "      <th>std</th>\n",
       "      <td>32.531658</td>\n",
       "      <td>5588.466127</td>\n",
       "      <td>4739.594432</td>\n",
       "      <td>714.972264</td>\n",
       "    </tr>\n",
       "    <tr>\n",
       "      <th>min</th>\n",
       "      <td>4.000000</td>\n",
       "      <td>28.000000</td>\n",
       "      <td>7.000000</td>\n",
       "      <td>364.838246</td>\n",
       "    </tr>\n",
       "    <tr>\n",
       "      <th>25%</th>\n",
       "      <td>32.000000</td>\n",
       "      <td>5837.000000</td>\n",
       "      <td>5036.250000</td>\n",
       "      <td>828.065624</td>\n",
       "    </tr>\n",
       "    <tr>\n",
       "      <th>50%</th>\n",
       "      <td>50.000000</td>\n",
       "      <td>8340.500000</td>\n",
       "      <td>7525.500000</td>\n",
       "      <td>1076.858393</td>\n",
       "    </tr>\n",
       "    <tr>\n",
       "      <th>75%</th>\n",
       "      <td>70.250000</td>\n",
       "      <td>12015.000000</td>\n",
       "      <td>10664.750000</td>\n",
       "      <td>1601.643402</td>\n",
       "    </tr>\n",
       "    <tr>\n",
       "      <th>max</th>\n",
       "      <td>160.000000</td>\n",
       "      <td>29471.000000</td>\n",
       "      <td>25291.000000</td>\n",
       "      <td>3672.588688</td>\n",
       "    </tr>\n",
       "  </tbody>\n",
       "</table>\n",
       "</div>"
      ],
      "text/plain": [
       "         flight_d        seat_d   passenger_d     distance\n",
       "count  580.000000    580.000000    580.000000   580.000000\n",
       "mean    58.396552  10020.772414   8626.641379  1293.535896\n",
       "std     32.531658   5588.466127   4739.594432   714.972264\n",
       "min      4.000000     28.000000      7.000000   364.838246\n",
       "25%     32.000000   5837.000000   5036.250000   828.065624\n",
       "50%     50.000000   8340.500000   7525.500000  1076.858393\n",
       "75%     70.250000  12015.000000  10664.750000  1601.643402\n",
       "max    160.000000  29471.000000  25291.000000  3672.588688"
      ]
     },
     "execution_count": 13,
     "metadata": {},
     "output_type": "execute_result"
    }
   ],
   "source": [
    "# SXF\n",
    "routes_b_2018.loc[routes_b_2018[\"fr_airport\"] == \"EDDB\"].describe()"
   ]
  },
  {
   "cell_type": "markdown",
   "metadata": {},
   "source": [
    "##### In regards of the distance, median has similar values, 1121 vs 1076, however, the std of TXL more than doubled SXF (1567 vs 714)"
   ]
  },
  {
   "cell_type": "markdown",
   "metadata": {},
   "source": [
    "#### Goals:\n",
    "- plot both in the same table with different colour\n",
    "- define same size of bins\n",
    "- use seaborn for visualisation"
   ]
  },
  {
   "cell_type": "code",
   "execution_count": 14,
   "metadata": {},
   "outputs": [
    {
     "data": {
      "image/png": "[encoded data removed]",
      "text/plain": [
       "<Figure size 432x288 with 1 Axes>"
      ]
     },
     "metadata": {
      "needs_background": "light"
     },
     "output_type": "display_data"
    }
   ],
   "source": [
    "sns.distplot(routes_b_2018.loc[routes_b_2018[\"fr_airport\"] == \"EDDB\"][\"distance\"]);"
   ]
  },
  {
   "cell_type": "code",
   "execution_count": 15,
   "metadata": {},
   "outputs": [],
   "source": [
    "sxf = routes_b_2018.loc[routes_b_2018[\"fr_airport\"] == \"EDDB\"][\"distance\"]"
   ]
  },
  {
   "cell_type": "code",
   "execution_count": 16,
   "metadata": {},
   "outputs": [],
   "source": [
    "txl = routes_b_2018.loc[routes_b_2018[\"fr_airport\"] == \"EDDT\"][\"distance\"]"
   ]
  },
  {
   "cell_type": "code",
   "execution_count": 17,
   "metadata": {},
   "outputs": [
    {
     "data": {
      "image/png": "[encoded data removed]",
      "text/plain": [
       "<Figure size 1440x720 with 1 Axes>"
      ]
     },
     "metadata": {
      "needs_background": "light"
     },
     "output_type": "display_data"
    }
   ],
   "source": [
    "fig, ax = plt.subplots(figsize=(20,10));\n",
    "sns.distplot(txl, bins = range(0,8200,200), color=\"r\");\n",
    "sns.distplot(sxf, bins = range(0,8200,200), color=\"b\");\n",
    "ax.legend((\"txl\",\"sxf\"));\n",
    "ax.set_title(\"TXL vs SXF: distribution of distance of the different routes\");"
   ]
  },
  {
   "cell_type": "markdown",
   "metadata": {},
   "source": [
    "## TXL vs SXF : distribution of the utilisation"
   ]
  },
  {
   "cell_type": "code",
   "execution_count": 18,
   "metadata": {},
   "outputs": [],
   "source": [
    "# add utilisation = passengers / seats per route\n",
    "\n",
    "routes_b_2018 = (routes_b_2018\n",
    "                 .assign(utilisation = (routes_b_2018['passenger_d'] / routes_b_2018['seat_d'])*100))"
   ]
  },
  {
   "cell_type": "code",
   "execution_count": 19,
   "metadata": {},
   "outputs": [],
   "source": [
    "sxf = routes_b_2018.loc[routes_b_2018[\"fr_airport\"] == \"EDDB\"][\"utilisation\"]\n",
    "txl = routes_b_2018.loc[routes_b_2018[\"fr_airport\"] == \"EDDT\"][\"utilisation\"]"
   ]
  },
  {
   "cell_type": "code",
   "execution_count": 20,
   "metadata": {},
   "outputs": [
    {
     "data": {
      "image/png": "[encoded data removed]",
      "text/plain": [
       "<Figure size 1440x720 with 1 Axes>"
      ]
     },
     "metadata": {
      "needs_background": "light"
     },
     "output_type": "display_data"
    }
   ],
   "source": [
    "fig, ax = plt.subplots(figsize=(20,10));\n",
    "sns.distplot(txl, bins = range(0,101,5), color=\"r\");\n",
    "sns.distplot(sxf, bins = range(0,101,5), color=\"b\");\n",
    "ax.legend((\"txl\",\"sxf\"));\n",
    "ax.set_title(\"TXL vs SXF: distribution of utilisation of the different routes\");"
   ]
  },
  {
   "cell_type": "markdown",
   "metadata": {},
   "source": [
    "## Generalisation:\n",
    "\n",
    "### - SXF crowded planes (always the same size) to somewhere in Europe, very likely sunnier than Berlin\n",
    "### - TXL 1/4 free seats planes heading somewhere far far away or very close (speculative to jump far far away)"
   ]
  },
  {
   "cell_type": "code",
   "execution_count": null,
   "metadata": {},
   "outputs": [],
   "source": []
  }
 ],
 "metadata": {
  "kernelspec": {
   "display_name": "Python 3",
   "language": "python",
   "name": "python3"
  },
  "language_info": {
   "codemirror_mode": {
    "name": "ipython",
    "version": 3
   },
   "file_extension": ".py",
   "mimetype": "text/x-python",
   "name": "python",
   "nbconvert_exporter": "python",
   "pygments_lexer": "ipython3",
   "version": "3.7.5"
  }
 },
 "nbformat": 4,
 "nbformat_minor": 2
}
