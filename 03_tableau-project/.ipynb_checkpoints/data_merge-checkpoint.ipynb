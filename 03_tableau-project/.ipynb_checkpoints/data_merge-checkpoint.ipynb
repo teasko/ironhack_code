{
 "cells": [
  {
   "cell_type": "code",
   "execution_count": 145,
   "metadata": {},
   "outputs": [],
   "source": [
    "#Data manipulation libraries\n",
    "import pandas as pd\n",
    "import numpy as np"
   ]
  },
  {
   "cell_type": "markdown",
   "metadata": {},
   "source": [
    "## 1. The power plants data"
   ]
  },
  {
   "cell_type": "code",
   "execution_count": 146,
   "metadata": {},
   "outputs": [
    {
     "data": {
      "text/html": [
       "<div>\n",
       "<style scoped>\n",
       "    .dataframe tbody tr th:only-of-type {\n",
       "        vertical-align: middle;\n",
       "    }\n",
       "\n",
       "    .dataframe tbody tr th {\n",
       "        vertical-align: top;\n",
       "    }\n",
       "\n",
       "    .dataframe thead th {\n",
       "        text-align: right;\n",
       "    }\n",
       "</style>\n",
       "<table border=\"1\" class=\"dataframe\">\n",
       "  <thead>\n",
       "    <tr style=\"text-align: right;\">\n",
       "      <th></th>\n",
       "      <th>country</th>\n",
       "      <th>country_long</th>\n",
       "      <th>name</th>\n",
       "      <th>gppd_idnr</th>\n",
       "      <th>capacity_mw</th>\n",
       "      <th>latitude</th>\n",
       "      <th>longitude</th>\n",
       "      <th>primary_fuel</th>\n",
       "      <th>other_fuel1</th>\n",
       "      <th>other_fuel2</th>\n",
       "      <th>...</th>\n",
       "      <th>url</th>\n",
       "      <th>geolocation_source</th>\n",
       "      <th>wepp_id</th>\n",
       "      <th>year_of_capacity_data</th>\n",
       "      <th>generation_gwh_2013</th>\n",
       "      <th>generation_gwh_2014</th>\n",
       "      <th>generation_gwh_2015</th>\n",
       "      <th>generation_gwh_2016</th>\n",
       "      <th>generation_gwh_2017</th>\n",
       "      <th>estimated_generation_gwh</th>\n",
       "    </tr>\n",
       "  </thead>\n",
       "  <tbody>\n",
       "    <tr>\n",
       "      <th>0</th>\n",
       "      <td>AFG</td>\n",
       "      <td>Afghanistan</td>\n",
       "      <td>Kajaki Hydroelectric Power Plant Afghanistan</td>\n",
       "      <td>GEODB0040538</td>\n",
       "      <td>33.00</td>\n",
       "      <td>32.3220</td>\n",
       "      <td>65.1190</td>\n",
       "      <td>Hydro</td>\n",
       "      <td>NaN</td>\n",
       "      <td>NaN</td>\n",
       "      <td>...</td>\n",
       "      <td>http://globalenergyobservatory.org</td>\n",
       "      <td>GEODB</td>\n",
       "      <td>1009793</td>\n",
       "      <td>2017.0</td>\n",
       "      <td>NaN</td>\n",
       "      <td>NaN</td>\n",
       "      <td>NaN</td>\n",
       "      <td>NaN</td>\n",
       "      <td>NaN</td>\n",
       "      <td>NaN</td>\n",
       "    </tr>\n",
       "    <tr>\n",
       "      <th>1</th>\n",
       "      <td>AFG</td>\n",
       "      <td>Afghanistan</td>\n",
       "      <td>Mahipar Hydroelectric Power Plant Afghanistan</td>\n",
       "      <td>GEODB0040541</td>\n",
       "      <td>66.00</td>\n",
       "      <td>34.5560</td>\n",
       "      <td>69.4787</td>\n",
       "      <td>Hydro</td>\n",
       "      <td>NaN</td>\n",
       "      <td>NaN</td>\n",
       "      <td>...</td>\n",
       "      <td>http://globalenergyobservatory.org</td>\n",
       "      <td>GEODB</td>\n",
       "      <td>1009795</td>\n",
       "      <td>2017.0</td>\n",
       "      <td>NaN</td>\n",
       "      <td>NaN</td>\n",
       "      <td>NaN</td>\n",
       "      <td>NaN</td>\n",
       "      <td>NaN</td>\n",
       "      <td>NaN</td>\n",
       "    </tr>\n",
       "    <tr>\n",
       "      <th>2</th>\n",
       "      <td>AFG</td>\n",
       "      <td>Afghanistan</td>\n",
       "      <td>Naghlu Dam Hydroelectric Power Plant Afghanistan</td>\n",
       "      <td>GEODB0040534</td>\n",
       "      <td>100.00</td>\n",
       "      <td>34.6410</td>\n",
       "      <td>69.7170</td>\n",
       "      <td>Hydro</td>\n",
       "      <td>NaN</td>\n",
       "      <td>NaN</td>\n",
       "      <td>...</td>\n",
       "      <td>http://globalenergyobservatory.org</td>\n",
       "      <td>GEODB</td>\n",
       "      <td>1009797</td>\n",
       "      <td>2017.0</td>\n",
       "      <td>NaN</td>\n",
       "      <td>NaN</td>\n",
       "      <td>NaN</td>\n",
       "      <td>NaN</td>\n",
       "      <td>NaN</td>\n",
       "      <td>NaN</td>\n",
       "    </tr>\n",
       "    <tr>\n",
       "      <th>3</th>\n",
       "      <td>AFG</td>\n",
       "      <td>Afghanistan</td>\n",
       "      <td>Nangarhar (Darunta) Hydroelectric Power Plant ...</td>\n",
       "      <td>GEODB0040536</td>\n",
       "      <td>11.55</td>\n",
       "      <td>34.4847</td>\n",
       "      <td>70.3633</td>\n",
       "      <td>Hydro</td>\n",
       "      <td>NaN</td>\n",
       "      <td>NaN</td>\n",
       "      <td>...</td>\n",
       "      <td>http://globalenergyobservatory.org</td>\n",
       "      <td>GEODB</td>\n",
       "      <td>1009787</td>\n",
       "      <td>2017.0</td>\n",
       "      <td>NaN</td>\n",
       "      <td>NaN</td>\n",
       "      <td>NaN</td>\n",
       "      <td>NaN</td>\n",
       "      <td>NaN</td>\n",
       "      <td>NaN</td>\n",
       "    </tr>\n",
       "    <tr>\n",
       "      <th>4</th>\n",
       "      <td>AFG</td>\n",
       "      <td>Afghanistan</td>\n",
       "      <td>Northwest Kabul Power Plant Afghanistan</td>\n",
       "      <td>GEODB0040540</td>\n",
       "      <td>42.00</td>\n",
       "      <td>34.5638</td>\n",
       "      <td>69.1134</td>\n",
       "      <td>Gas</td>\n",
       "      <td>NaN</td>\n",
       "      <td>NaN</td>\n",
       "      <td>...</td>\n",
       "      <td>http://globalenergyobservatory.org</td>\n",
       "      <td>GEODB</td>\n",
       "      <td>NaN</td>\n",
       "      <td>2017.0</td>\n",
       "      <td>NaN</td>\n",
       "      <td>NaN</td>\n",
       "      <td>NaN</td>\n",
       "      <td>NaN</td>\n",
       "      <td>NaN</td>\n",
       "      <td>NaN</td>\n",
       "    </tr>\n",
       "  </tbody>\n",
       "</table>\n",
       "<p>5 rows × 24 columns</p>\n",
       "</div>"
      ],
      "text/plain": [
       "  country country_long                                               name  \\\n",
       "0     AFG  Afghanistan       Kajaki Hydroelectric Power Plant Afghanistan   \n",
       "1     AFG  Afghanistan      Mahipar Hydroelectric Power Plant Afghanistan   \n",
       "2     AFG  Afghanistan   Naghlu Dam Hydroelectric Power Plant Afghanistan   \n",
       "3     AFG  Afghanistan  Nangarhar (Darunta) Hydroelectric Power Plant ...   \n",
       "4     AFG  Afghanistan            Northwest Kabul Power Plant Afghanistan   \n",
       "\n",
       "      gppd_idnr  capacity_mw  latitude  longitude primary_fuel other_fuel1  \\\n",
       "0  GEODB0040538        33.00   32.3220    65.1190        Hydro         NaN   \n",
       "1  GEODB0040541        66.00   34.5560    69.4787        Hydro         NaN   \n",
       "2  GEODB0040534       100.00   34.6410    69.7170        Hydro         NaN   \n",
       "3  GEODB0040536        11.55   34.4847    70.3633        Hydro         NaN   \n",
       "4  GEODB0040540        42.00   34.5638    69.1134          Gas         NaN   \n",
       "\n",
       "  other_fuel2  ...                                 url  geolocation_source  \\\n",
       "0         NaN  ...  http://globalenergyobservatory.org               GEODB   \n",
       "1         NaN  ...  http://globalenergyobservatory.org               GEODB   \n",
       "2         NaN  ...  http://globalenergyobservatory.org               GEODB   \n",
       "3         NaN  ...  http://globalenergyobservatory.org               GEODB   \n",
       "4         NaN  ...  http://globalenergyobservatory.org               GEODB   \n",
       "\n",
       "   wepp_id year_of_capacity_data generation_gwh_2013 generation_gwh_2014  \\\n",
       "0  1009793                2017.0                 NaN                 NaN   \n",
       "1  1009795                2017.0                 NaN                 NaN   \n",
       "2  1009797                2017.0                 NaN                 NaN   \n",
       "3  1009787                2017.0                 NaN                 NaN   \n",
       "4      NaN                2017.0                 NaN                 NaN   \n",
       "\n",
       "  generation_gwh_2015  generation_gwh_2016  generation_gwh_2017  \\\n",
       "0                 NaN                  NaN                  NaN   \n",
       "1                 NaN                  NaN                  NaN   \n",
       "2                 NaN                  NaN                  NaN   \n",
       "3                 NaN                  NaN                  NaN   \n",
       "4                 NaN                  NaN                  NaN   \n",
       "\n",
       "   estimated_generation_gwh  \n",
       "0                       NaN  \n",
       "1                       NaN  \n",
       "2                       NaN  \n",
       "3                       NaN  \n",
       "4                       NaN  \n",
       "\n",
       "[5 rows x 24 columns]"
      ]
     },
     "execution_count": 146,
     "metadata": {},
     "output_type": "execute_result"
    }
   ],
   "source": [
    "# load data\n",
    "# SOURCE:\n",
    "    # http://datasets.wri.org/dataset/globalpowerplantdatabase\n",
    "\n",
    "powerplants = pd.read_csv(\"data/globalpowerplantdatabasev120/global_power_plant_database.csv\")\n",
    "powerplants.head()"
   ]
  },
  {
   "cell_type": "code",
   "execution_count": 147,
   "metadata": {},
   "outputs": [],
   "source": [
    "# rename country columns\n",
    "powerplants.rename(columns = {\"country\": \"country_short\", \"country_long\":\"country\"},inplace=True)"
   ]
  },
  {
   "cell_type": "code",
   "execution_count": 148,
   "metadata": {},
   "outputs": [],
   "source": [
    "# drop columns we do not need\n",
    "powerplants.drop(columns = [\"url\",\"gppd_idnr\",\"geolocation_source\",\"source\"],inplace = True)"
   ]
  },
  {
   "cell_type": "code",
   "execution_count": 149,
   "metadata": {},
   "outputs": [],
   "source": [
    "# investigate the other_fuel columns"
   ]
  },
  {
   "cell_type": "code",
   "execution_count": 150,
   "metadata": {},
   "outputs": [
    {
     "name": "stdout",
     "output_type": "stream",
     "text": [
      "more than 1 fuel type: 1963\n",
      "more than 2 fuel types 303\n",
      "more than 3 fuel types 104\n",
      "\n"
     ]
    }
   ],
   "source": [
    "(print(f\"more than 1 fuel type: {sum(~powerplants['other_fuel1'].isna())}\"\n",
    "       f\"\\nmore than 2 fuel types {sum(~powerplants['other_fuel2'].isna())}\"\n",
    "       f\"\\nmore than 3 fuel types {sum(~powerplants['other_fuel3'].isna())}\\n\"))"
   ]
  },
  {
   "cell_type": "code",
   "execution_count": 151,
   "metadata": {},
   "outputs": [],
   "source": [
    "powerplants.drop(columns = [\"other_fuel2\",\"other_fuel3\"],inplace=True)"
   ]
  },
  {
   "cell_type": "code",
   "execution_count": 152,
   "metadata": {},
   "outputs": [],
   "source": [
    "powerplants.rename(columns = {\"other_fuel1\":\"other_fuel\"},inplace = True)"
   ]
  },
  {
   "cell_type": "code",
   "execution_count": null,
   "metadata": {},
   "outputs": [],
   "source": []
  },
  {
   "cell_type": "markdown",
   "metadata": {},
   "source": [
    "## 2. World data set"
   ]
  },
  {
   "cell_type": "code",
   "execution_count": 153,
   "metadata": {},
   "outputs": [],
   "source": [
    "countries = pd.read_csv(\"data/countries-of-the-world.csv\")"
   ]
  },
  {
   "cell_type": "code",
   "execution_count": 154,
   "metadata": {},
   "outputs": [],
   "source": [
    "countries.columns = countries.columns.str.lower()"
   ]
  },
  {
   "cell_type": "code",
   "execution_count": 155,
   "metadata": {},
   "outputs": [],
   "source": [
    "countries.loc[:,\"country\"] = countries.loc[:,\"country\"].str.strip()"
   ]
  },
  {
   "cell_type": "code",
   "execution_count": 156,
   "metadata": {},
   "outputs": [],
   "source": [
    "## for some reason most of the numeric columns are strings with commas, instead of dots\n",
    "str_cols = list(countries.columns.values)[4:8] + list(countries.columns.values)[9:]\n",
    "countries.dtypes\n",
    "\n",
    "for col in str_cols:\n",
    "    countries[col] = pd.to_numeric(countries[col].str.replace(\",\",\".\"))\n",
    "    \n"
   ]
  },
  {
   "cell_type": "code",
   "execution_count": 157,
   "metadata": {},
   "outputs": [
    {
     "data": {
      "text/plain": [
       "country                                object\n",
       "region                                 object\n",
       "population                              int64\n",
       "area (sq. mi.)                          int64\n",
       "pop. density (per sq. mi.)            float64\n",
       "coastline (coast/area ratio)          float64\n",
       "net migration                         float64\n",
       "infant mortality (per 1000 births)    float64\n",
       "gdp ($ per capita)                    float64\n",
       "literacy (%)                          float64\n",
       "phones (per 1000)                     float64\n",
       "arable (%)                            float64\n",
       "crops (%)                             float64\n",
       "other (%)                             float64\n",
       "climate                               float64\n",
       "birthrate                             float64\n",
       "deathrate                             float64\n",
       "agriculture                           float64\n",
       "industry                              float64\n",
       "service                               float64\n",
       "dtype: object"
      ]
     },
     "execution_count": 157,
     "metadata": {},
     "output_type": "execute_result"
    }
   ],
   "source": [
    "countries.dtypes"
   ]
  },
  {
   "cell_type": "markdown",
   "metadata": {},
   "source": [
    "## 3. Checking if countries in both sets have same name"
   ]
  },
  {
   "cell_type": "code",
   "execution_count": 158,
   "metadata": {},
   "outputs": [
    {
     "data": {
      "text/plain": [
       "United States of America            8686\n",
       "South Korea                          128\n",
       "Myanmar                               34\n",
       "North Korea                           31\n",
       "Bosnia and Herzegovina                20\n",
       "Syrian Arab Republic                  18\n",
       "Democratic Republic of the Congo      15\n",
       "Cote DIvoire                           8\n",
       "Congo                                  8\n",
       "Trinidad and Tobago                    6\n",
       "Brunei Darussalam                      4\n",
       "Montenegro                             3\n",
       "Kosovo                                 2\n",
       "Antarctica                             2\n",
       "Gambia                                 2\n",
       "Central African Republic               2\n",
       "Name: country, dtype: int64"
      ]
     },
     "execution_count": 158,
     "metadata": {},
     "output_type": "execute_result"
    }
   ],
   "source": [
    "# countries in powerplants dataset\n",
    "powerplants_m = powerplants.merge(right = countries, how = \"left\", on = \"country\")\n",
    "powerplants_m.loc[powerplants_m[\"population\"].isna(),\"country\"].value_counts()"
   ]
  },
  {
   "cell_type": "code",
   "execution_count": 159,
   "metadata": {},
   "outputs": [
    {
     "data": {
      "text/plain": [
       "0         Afghanistan\n",
       "1             Albania\n",
       "2             Algeria\n",
       "3      American Samoa\n",
       "4             Andorra\n",
       "            ...      \n",
       "222         West Bank\n",
       "223    Western Sahara\n",
       "224             Yemen\n",
       "225            Zambia\n",
       "226          Zimbabwe\n",
       "Name: country, Length: 227, dtype: object"
      ]
     },
     "execution_count": 159,
     "metadata": {},
     "output_type": "execute_result"
    }
   ],
   "source": [
    "# check those countries in the countries dataset\n",
    "countries.loc[countries[\"country\"].str.contains(\"\"),\"country\"]"
   ]
  },
  {
   "cell_type": "code",
   "execution_count": 160,
   "metadata": {},
   "outputs": [],
   "source": [
    "# cleaning up country names !!!!!!!!!!!\n",
    "\n",
    "countries.loc[countries[\"country\"]== \"United States\",\"country\"] = \"United States of America\"\n",
    "countries.loc[countries[\"country\"]== \"Korea, North\",\"country\"] = \"North Korea\"\n",
    "countries.loc[countries[\"country\"]== \"Korea, South\",\"country\"] = \"South Korea\"\n",
    "countries.loc[countries[\"country\"]== \"Burma\",\"country\"] = \"Myanmar\"\n",
    "countries.loc[countries[\"country\"]== \"Bosnia & Herzegovina\",\"country\"] = \"Bosnia and Herzegovina\"\n",
    "countries.loc[countries[\"country\"]== \"Congo, Dem. Rep.\",\"country\"] = \"Democratic Republic of the Congo\"\n",
    "countries.loc[countries[\"country\"]== \"Congo, Repub. of the\",\"country\"] = \"Congo\"\n",
    "countries.loc[countries[\"country\"]== \"Syria\",\"country\"] = \"Syrian Arab Republic\"\n",
    "countries.loc[countries[\"country\"]== \"Cote d'Ivoire\",\"country\"] = \"Cote DIvoire\"\n",
    "countries.loc[countries[\"country\"]== \"Trinidad & Tobago\",\"country\"] = \"Trinidad and Tobago\"\n",
    "countries.loc[countries[\"country\"]== \"Brunei\",\"country\"] = \"Brunei Darussalam\"\n",
    "countries.loc[countries[\"country\"]== \"Gambia, The\",\"country\"] = \"Gambia\"\n",
    "countries.loc[countries[\"country\"]== \"Central African Rep.\",\"country\"] = \"Central African Republic\"\n",
    "countries.loc[countries[\"country\"]== \"\",\"country\"] = \"\"\n",
    "countries.loc[countries[\"country\"]== \"\",\"country\"] = \"\"\n",
    "countries.loc[countries[\"country\"]== \"\",\"country\"] = \"\""
   ]
  },
  {
   "cell_type": "code",
   "execution_count": 161,
   "metadata": {},
   "outputs": [
    {
     "data": {
      "text/plain": [
       "array(['American Samoa', 'Andorra', 'Anguilla', 'Antigua & Barbuda',\n",
       "       'Aruba', 'Bahamas, The', 'Barbados', 'Belize', 'Bermuda',\n",
       "       'British Virgin Is.', 'Cayman Islands', 'Chad', 'Comoros',\n",
       "       'Cook Islands', 'Dominica', 'East Timor', 'Faroe Islands',\n",
       "       'French Polynesia', 'Gaza Strip', 'Gibraltar', 'Greenland',\n",
       "       'Grenada', 'Guadeloupe', 'Guam', 'Guernsey', 'Haiti', 'Hong Kong',\n",
       "       'Isle of Man', 'Jersey', 'Kiribati', 'Liechtenstein', 'Macau',\n",
       "       'Maldives', 'Malta', 'Marshall Islands', 'Martinique', 'Mayotte',\n",
       "       'Micronesia, Fed. St.', 'Monaco', 'Montserrat', 'Nauru',\n",
       "       'Netherlands Antilles', 'New Caledonia', 'N. Mariana Islands',\n",
       "       'Palau', 'Puerto Rico', 'Reunion', 'Saint Helena',\n",
       "       'Saint Kitts & Nevis', 'Saint Lucia', 'St Pierre & Miquelon',\n",
       "       'Saint Vincent and the Grenadines', 'Samoa', 'San Marino',\n",
       "       'Sao Tome & Principe', 'Seychelles', 'Solomon Islands', 'Somalia',\n",
       "       'Suriname', 'Tonga', 'Turks & Caicos Is', 'Tuvalu', 'Vanuatu',\n",
       "       'Virgin Islands', 'Wallis and Futuna', 'West Bank'], dtype=object)"
      ]
     },
     "execution_count": 161,
     "metadata": {},
     "output_type": "execute_result"
    }
   ],
   "source": [
    "all_power_countr = list(powerplants.country.unique())\n",
    "countries.loc[~countries.country.isin(all_power_countr),\"country\"].values"
   ]
  },
  {
   "cell_type": "code",
   "execution_count": 162,
   "metadata": {},
   "outputs": [],
   "source": [
    "# three countries could not been found: Montenegro, Kosovo, Antartica\n",
    "\n",
    "# we drop them\n",
    "powerplants.drop(index = powerplants.loc[powerplants.country.isin([\"Montenegro\",\"Kosovo\",\"Antarctica\"])].index,inplace = True)"
   ]
  },
  {
   "cell_type": "code",
   "execution_count": 163,
   "metadata": {},
   "outputs": [],
   "source": [
    "powerplants = powerplants.merge(right = countries, how = \"left\", on = \"country\")"
   ]
  },
  {
   "cell_type": "code",
   "execution_count": 164,
   "metadata": {},
   "outputs": [],
   "source": [
    "powerplants.to_csv(\"data/powerplants.csv\")"
   ]
  },
  {
   "cell_type": "code",
   "execution_count": null,
   "metadata": {},
   "outputs": [],
   "source": []
  },
  {
   "cell_type": "code",
   "execution_count": null,
   "metadata": {},
   "outputs": [],
   "source": []
  }
 ],
 "metadata": {
  "kernelspec": {
   "display_name": "Python 3",
   "language": "python",
   "name": "python3"
  },
  "language_info": {
   "codemirror_mode": {
    "name": "ipython",
    "version": 3
   },
   "file_extension": ".py",
   "mimetype": "text/x-python",
   "name": "python",
   "nbconvert_exporter": "python",
   "pygments_lexer": "ipython3",
   "version": "3.7.5"
  }
 },
 "nbformat": 4,
 "nbformat_minor": 2
}
