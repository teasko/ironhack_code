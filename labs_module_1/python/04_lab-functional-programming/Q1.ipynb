{
 "cells": [
  {
   "cell_type": "markdown",
   "metadata": {},
   "source": [
    "In the cell below, create a Python function that wraps your previous solution for the Bag of Words lab.\n",
    "\n",
    "Requirements:\n",
    "\n",
    "1. Your function should accept the following parameters:\n",
    "    * `docs` [REQUIRED] - array of document paths.\n",
    "    * `stop_words` [OPTIONAL] - array of stop words. The default value is an empty array.\n",
    "\n",
    "1. Your function should return a Python object that contains the following:\n",
    "    * `bag_of_words` - array of strings of normalized unique words in the corpus.\n",
    "    * `term_freq` - array of the term-frequency vectors."
   ]
  },
  {
   "cell_type": "code",
   "execution_count": 10,
   "metadata": {},
   "outputs": [],
   "source": [
    "# Import required libraries\n",
    "\n",
    "# Define function\n",
    "def get_bow_from_docs(docs, stop_words=[]):\n",
    "    \n",
    "    # In the function, first define the variables you will use such as `corpus`, `bag_of_words`, and `term_freq`.           \n",
    "\n",
    "    \"\"\"\n",
    "    Loop `docs` and read the content of each doc into a string in `corpus`.\n",
    "    Remember to convert the doc content to lowercases and remove punctuation.\n",
    "    \"\"\"\n",
    "     \n",
    "    \n",
    "    corpus = [open(doc,\"r\").read().lower().replace(\",\", \"\").replace(\".\", \"\") for doc in docs]\n",
    "    '''\n",
    "    corpus = []\n",
    "    for doc in docs:\n",
    "        file = open(doc,\"r\")\n",
    "        corpus.append(file.read().lower().replace(\",\", \"\").replace(\".\", \"\"))\n",
    "    '''\n",
    "    \n",
    "    \n",
    "    \"\"\"\n",
    "    Loop `corpus`. Append the terms in each doc into the `bag_of_words` array. The terms in `bag_of_words` \n",
    "    should be unique which means before adding each term you need to check if it's already added to the array.\n",
    "    In addition, check if each term is in the `stop_words` array. Only append the term to `bag_of_words`\n",
    "    if it is not a stop word.\n",
    "    \"\"\"\n",
    "    bag_of_words = []\n",
    "    for line in corpus:\n",
    "        words_in_line = line.split(\" \")      \n",
    "        for word in words_in_line:\n",
    "            if not(word in bag_of_words) and not(word in stop_words):\n",
    "                bag_of_words.append(word)\n",
    "\n",
    "    \n",
    "    \n",
    "    \n",
    "    \"\"\"\n",
    "    Loop `corpus` again. For each doc string, count the number of occurrences of each term in `bag_of_words`. \n",
    "    Create an array for each doc's term frequency and append it to `term_freq`.\n",
    "    \"\"\"\n",
    "    term_freq = []\n",
    "    for line in corpus:\n",
    "        words_in_doc = line.split(\" \")\n",
    "        term_frequ_in_doc = [words_in_doc.count(word) for word in bag_of_words]\n",
    "        term_freq.append(term_frequ_in_doc)\n",
    "\n",
    "    \n",
    "    # Now return your output as an object\n",
    "    return {\n",
    "        \"bag_of_words\": bag_of_words,\n",
    "        \"term_freq\": term_freq\n",
    "    }\n"
   ]
  },
  {
   "cell_type": "markdown",
   "metadata": {},
   "source": [
    "Test your function without stop words. You should see the output like below:\n",
    "\n",
    "```{'bag_of_words': ['ironhack', 'is', 'cool', 'i', 'love', 'am', 'a', 'student', 'at'], 'term_freq': [[1, 1, 1, 0, 0, 0, 0, 0, 0], [1, 0, 0, 1, 1, 0, 0, 0, 0], [1, 0, 0, 1, 0, 1, 1, 1, 1]]}```"
   ]
  },
  {
   "cell_type": "code",
   "execution_count": 13,
   "metadata": {},
   "outputs": [
    {
     "name": "stdout",
     "output_type": "stream",
     "text": [
      "{'bag_of_words': ['ironhack', 'is', 'cool', 'i', 'love', 'am', 'a', 'student', 'at'], 'term_freq': [[1, 1, 1, 0, 0, 0, 0, 0, 0], [1, 0, 0, 1, 1, 0, 0, 0, 0], [1, 0, 0, 1, 0, 1, 1, 1, 1]]}\n"
     ]
    }
   ],
   "source": [
    "# Define doc paths array\n",
    "docs_from_string_ex = ['/home/tae/ironhack/teasko_ironhack_code/03_lab-string-operations/doc1.txt', '/home/tae/ironhack/teasko_ironhack_code/03_lab-string-operations/doc2.txt', '/home/tae/ironhack/teasko_ironhack_code/03_lab-string-operations/doc3.txt']\n",
    "\n",
    "# Obtain BoW from your function\n",
    "bow = get_bow_from_docs(docs_from_string_ex)\n",
    "\n",
    "# Print BoW\n",
    "print(bow)"
   ]
  },
  {
   "cell_type": "markdown",
   "metadata": {},
   "source": [
    "If your attempt above is successful, nice work done!\n",
    "\n",
    "Now test your function again with the stop words. In the previous lab we defined the stop words in a large array. In this lab, we'll import the stop words from Scikit-Learn."
   ]
  },
  {
   "cell_type": "code",
   "execution_count": 8,
   "metadata": {},
   "outputs": [
    {
     "name": "stdout",
     "output_type": "stream",
     "text": [
      "frozenset({'becomes', 'wherein', 'has', 'who', 'fill', 'much', 'yourself', 'not', 'two', 'we', 'give', 'behind', 'per', 'that', 'could', 'thru', 'neither', 'during', 'already', 'whenever', 'mine', 'cry', 'anyway', 'whereupon', 'am', 'under', 'whatever', 'onto', 'too', 'get', 'done', 'front', 'hers', 'nevertheless', 'which', 'within', 'first', 'many', 'hereafter', 'may', 'whom', 'keep', 'though', 'few', 'thin', 'fifteen', 'sixty', 'after', 'against', 'hundred', 'is', 'very', 'every', 'towards', 'three', 'be', 'go', 'sometime', 'part', 'same', 'un', 'for', 'thus', 'where', 'some', 'through', 'third', 'its', 'with', 'inc', 'wherever', 'anyone', 'their', 'ten', 'upon', 'hereupon', 'off', 'since', 'nine', 'there', 'these', 'con', 'until', 'yet', 'down', 'he', 'hereby', 'five', 'put', 'an', 'all', 'then', 'something', 'co', 'us', 'or', 'as', 'toward', 'rather', 'perhaps', 'seeming', 'six', 'seemed', 'have', 'being', 'because', 'show', 'elsewhere', 'below', 'whole', 'amoungst', 'on', 'call', 'always', 'no', 'anywhere', 'well', 'around', 'everything', 'next', 'more', 'forty', 'full', 'latterly', 'nobody', 'move', 'however', 'into', 'least', 'been', 'system', 'eleven', 'noone', 'them', 'own', 'almost', 'so', 'once', 'less', 'without', 'across', 'made', 'twenty', 'often', 'might', 'de', 'meanwhile', 'again', 'thick', 'mostly', 'thereupon', 'never', 'up', 'indeed', 'also', 'together', 'formerly', 'most', 'empty', 'everywhere', 'please', 'couldnt', 'himself', 'cant', 'thence', 'i', 'sincere', 'me', 'only', 'etc', 'twelve', 'last', 'any', 'in', 'afterwards', 'above', 'becoming', 'was', 'before', 'ltd', 'by', 'they', 'ie', 'found', 'someone', 'nor', 'moreover', 'latter', 'about', 'mill', 'others', 'than', 'while', 'one', 'herself', 'nowhere', 'somewhere', 'further', 'side', 'therein', 'although', 'hence', 'but', 'your', 'still', 'eight', 'ourselves', 'whither', 'back', 'hasnt', 'this', 'how', 'between', 'thereby', 'throughout', 'top', 'thereafter', 'the', 'each', 'our', 'do', 'must', 'everyone', 'alone', 'both', 'fifty', 'see', 'were', 'fire', 'whence', 'describe', 'beyond', 'besides', 'another', 'namely', 'a', 'are', 'whereas', 'anyhow', 'therefore', 'enough', 'when', 'due', 'him', 'and', 'it', 'yours', 'should', 'now', 'either', 'otherwise', 'whose', 'bill', 'sometimes', 'among', 'ever', 'seems', 'whereby', 'none', 'those', 'several', 'whoever', 'amount', 'four', 'would', 'somehow', 'themselves', 'name', 'interest', 'will', 'via', 'if', 'out', 'ours', 'whereafter', 'even', 'eg', 'my', 'at', 'had', 'whether', 'yourselves', 'beforehand', 'his', 'of', 'bottom', 'herein', 'such', 'cannot', 'beside', 'amongst', 'from', 'detail', 'myself', 'serious', 'except', 'you', 're', 'find', 'seem', 'else', 'other', 'over', 'here', 'anything', 'can', 'became', 'what', 'become', 'why', 'take', 'to', 'she', 'former', 'along', 'itself', 'her', 'nothing'})\n"
     ]
    }
   ],
   "source": [
    "from sklearn.feature_extraction import stop_words\n",
    "print(stop_words.ENGLISH_STOP_WORDS)"
   ]
  },
  {
   "cell_type": "markdown",
   "metadata": {},
   "source": [
    "You should have seen a large list of words that looks like:\n",
    "\n",
    "```frozenset({'across', 'mine', 'cannot', ...})```\n",
    "\n",
    "`frozenset` is a type of Python object that is immutable. In this lab you can use it just like an array without conversion."
   ]
  },
  {
   "cell_type": "markdown",
   "metadata": {},
   "source": [
    "Next, test your function with supplying `stop_words.ENGLISH_STOP_WORDS` as the second parameter."
   ]
  },
  {
   "cell_type": "code",
   "execution_count": 14,
   "metadata": {},
   "outputs": [
    {
     "name": "stdout",
     "output_type": "stream",
     "text": [
      "{'bag_of_words': ['ironhack', 'cool', 'love', 'student'], 'term_freq': [[1, 1, 0, 0], [1, 0, 1, 0], [1, 0, 0, 1]]}\n"
     ]
    }
   ],
   "source": [
    "bow = get_bow_from_docs(docs_from_string_ex, stop_words.ENGLISH_STOP_WORDS)\n",
    "\n",
    "print(bow)"
   ]
  },
  {
   "cell_type": "markdown",
   "metadata": {},
   "source": [
    "You should have seen:\n",
    "\n",
    "```{'bag_of_words': ['ironhack', 'cool', 'love', 'student'], 'term_freq': [[1, 1, 0, 0], [1, 0, 1, 0], [1, 0, 0, 1]]}```"
   ]
  },
  {
   "cell_type": "code",
   "execution_count": null,
   "metadata": {},
   "outputs": [],
   "source": []
  }
 ],
 "metadata": {
  "kernelspec": {
   "display_name": "Python 3",
   "language": "python",
   "name": "python3"
  },
  "language_info": {
   "codemirror_mode": {
    "name": "ipython",
    "version": 3
   },
   "file_extension": ".py",
   "mimetype": "text/x-python",
   "name": "python",
   "nbconvert_exporter": "python",
   "pygments_lexer": "ipython3",
   "version": "3.7.4"
  }
 },
 "nbformat": 4,
 "nbformat_minor": 4
}
